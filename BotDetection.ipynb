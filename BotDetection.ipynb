{
 "cells": [
  {
   "cell_type": "markdown",
   "metadata": {},
   "source": [
    "# <u>Bot Detection</u>"
   ]
  },
  {
   "cell_type": "markdown",
   "metadata": {},
   "source": [
    "# 1. Data Collection and Integration"
   ]
  },
  {
   "cell_type": "markdown",
   "metadata": {},
   "source": [
    "## 1.1. Imports"
   ]
  },
  {
   "cell_type": "code",
   "execution_count": 1,
   "metadata": {},
   "outputs": [],
   "source": [
    "import datetime\n",
    "import numpy as np\n",
    "import pandas as pd\n",
    "import os,glob,sys,nltk\n",
    "from sklearn.utils import shuffle\n",
    "import seaborn as sns\n",
    "import matplotlib.pyplot as plt\n",
    "from sklearn.feature_extraction.text import TfidfTransformer\n",
    "from sklearn.model_selection import KFold"
   ]
  },
  {
   "cell_type": "markdown",
   "metadata": {},
   "source": [
    "## 1.2. Globals"
   ]
  },
  {
   "cell_type": "code",
   "execution_count": 2,
   "metadata": {},
   "outputs": [],
   "source": [
    "DATASETS_DIR = 'Datasets'\n",
    "SRC_DIR = 'src'\n",
    "TWEETS_DIR = 'Tweets'\n",
    "BOT_TWEETS_DIR = 'Bot_accounts_tweets'\n",
    "GENUINE_TWEETS_DIR = 'Genuine_accounts_tweets'"
   ]
  },
  {
   "cell_type": "code",
   "execution_count": 3,
   "metadata": {},
   "outputs": [],
   "source": [
    "# for organized printing only\n",
    "class txt_format:\n",
    "    PURPLE = '\\033[95m'\n",
    "    CYAN = '\\033[96m'\n",
    "    DARKCYAN = '\\033[36m'\n",
    "    BLUE = '\\033[94m'\n",
    "    GREEN = '\\033[92m'\n",
    "    YELLOW = '\\033[93m'\n",
    "    RED = '\\033[91m'\n",
    "    BOLD = '\\033[1m'\n",
    "    UNDERLINE = '\\033[4m'\n",
    "    END = '\\033[0m'"
   ]
  },
  {
   "cell_type": "markdown",
   "metadata": {},
   "source": [
    "## 1.3. Loading Data and Modules"
   ]
  },
  {
   "cell_type": "code",
   "execution_count": 4,
   "metadata": {
    "scrolled": true
   },
   "outputs": [],
   "source": [
    "# genuine users => 0 , bots => 1\n",
    "cwd = os.getcwd()\n",
    "dataset_dir = os.path.join(cwd, DATASETS_DIR)\n",
    "os.chdir(dataset_dir)\n",
    "# Loading users data\n",
    "total_data = pd.DataFrame()\n",
    "for File_Name in glob.glob(\"*_users.csv\"):\n",
    "    df = pd.read_csv(File_Name)\n",
    "    if File_Name == 'genuine_accounts_users.csv':\n",
    "        df['bot'] = 0\n",
    "    elif File_Name == 'E13_users.csv' or File_Name == 'TFP_users.csv':\n",
    "        df['bot'] = 0\n",
    "        df['test_set_1'] = 0\n",
    "        df['test_set_2'] = 0\n",
    "    elif File_Name == 'fake_followers_users.csv':\n",
    "        df['bot'] = 1\n",
    "    elif 'social_spambots' in File_Name:\n",
    "        df['bot'] = 1\n",
    "    elif 'traditional_spambots' in File_Name:\n",
    "        df['bot'] = 1\n",
    "    else:\n",
    "        print(File_Name)\n",
    "    total_data = pd.concat([total_data,df], ignore_index = True)\n",
    "\n",
    "os.chdir(cwd)"
   ]
  },
  {
   "cell_type": "markdown",
   "metadata": {},
   "source": [
    "### 1.3.1. Loading Tweets and Description"
   ]
  },
  {
   "cell_type": "markdown",
   "metadata": {},
   "source": [
    "'run_full_process' is a binary variable that decides wheather running all notebooks cells will take a few hours. If marked with 1, will run:\n",
    "* translation process using Yandex service - also limited by characters per day\n",
    "* language detection process using Yandex service - also limited by characters per day\n",
    "* BoW process\n",
    "* finding most important words in description text field\n",
    "* calculating the tweet features (including the variation on Levenshtein distances. Takes some time)\n",
    "\n",
    "otherwise, will skip it and use pre-made files."
   ]
  },
  {
   "cell_type": "code",
   "execution_count": 5,
   "metadata": {},
   "outputs": [],
   "source": [
    "run_full_process = 0"
   ]
  },
  {
   "cell_type": "code",
   "execution_count": 6,
   "metadata": {},
   "outputs": [],
   "source": [
    "user_data_file_path = os.path.join(dataset_dir, 'tweet_features_filled1.csv')\n",
    "user_data = pd.read_csv(user_data_file_path)\n",
    "user_data.drop(['Unnamed: 0'], axis=1, inplace=True)"
   ]
  },
  {
   "cell_type": "code",
   "execution_count": 7,
   "metadata": {},
   "outputs": [],
   "source": [
    "levenshtein_data_file_path = os.path.join(dataset_dir, 'tweet_var_data_full_with_threshold.csv')\n",
    "levenshtein_data = pd.read_csv(levenshtein_data_file_path)"
   ]
  },
  {
   "cell_type": "code",
   "execution_count": 8,
   "metadata": {},
   "outputs": [],
   "source": [
    "if(not run_full_process):\n",
    "    description_data_file_path = os.path.join(dataset_dir, 'description_data_set2.csv')\n",
    "    description_df = pd.read_csv(description_data_file_path)"
   ]
  },
  {
   "cell_type": "code",
   "execution_count": 9,
   "metadata": {},
   "outputs": [],
   "source": [
    "if(not run_full_process):\n",
    "    count_vectors_df = pd.DataFrame()\n",
    "    count_vectors_files_names = [file \n",
    "                                 for file in os.listdir(dataset_dir) \n",
    "                                 if os.path.isfile(os.path.join(dataset_dir, file)) and \n",
    "                                 'count_df_' in file\n",
    "                                ]\n",
    "    \n",
    "    for count_vectors_file_name in count_vectors_files_names:\n",
    "        count_vectors_data_file_path = os.path.join(dataset_dir, count_vectors_file_name)\n",
    "        count_df = pd.read_csv(count_vectors_data_file_path)\n",
    "        count_vectors_df = pd.concat([count_vectors_df,count_df], ignore_index = True)\n",
    "    count_vectors_df.drop('Unnamed: 0.1', axis=1, inplace=True)"
   ]
  },
  {
   "cell_type": "markdown",
   "metadata": {},
   "source": [
    "### 1.3.2.  Loading Modules"
   ]
  },
  {
   "cell_type": "code",
   "execution_count": 10,
   "metadata": {},
   "outputs": [],
   "source": [
    "modules_path = os.path.join(os.getcwd(),SRC_DIR)\n",
    "if modules_path not in sys.path:\n",
    "    sys.path.append(modules_path)"
   ]
  },
  {
   "cell_type": "markdown",
   "metadata": {},
   "source": [
    "## 1.4. Data Undestanding"
   ]
  },
  {
   "cell_type": "code",
   "execution_count": 11,
   "metadata": {},
   "outputs": [
    {
     "data": {
      "text/plain": [
       "bot                                     int64\n",
       "contributors_enabled                  float64\n",
       "crawled_at                             object\n",
       "created_at                             object\n",
       "dataset                                object\n",
       "default_profile                       float64\n",
       "default_profile_image                 float64\n",
       "description                            object\n",
       "favourites_count                        int64\n",
       "follow_request_sent                   float64\n",
       "followers_count                         int64\n",
       "following                             float64\n",
       "friends_count                           int64\n",
       "geo_enabled                           float64\n",
       "id                                      int64\n",
       "is_translator                         float64\n",
       "lang                                   object\n",
       "listed_count                            int64\n",
       "location                               object\n",
       "name                                   object\n",
       "notifications                         float64\n",
       "profile_background_color               object\n",
       "profile_background_image_url           object\n",
       "profile_background_image_url_https     object\n",
       "profile_background_tile               float64\n",
       "profile_banner_url                     object\n",
       "profile_image_url                      object\n",
       "profile_image_url_https                object\n",
       "profile_link_color                     object\n",
       "profile_sidebar_border_color           object\n",
       "profile_sidebar_fill_color             object\n",
       "profile_text_color                     object\n",
       "profile_use_background_image          float64\n",
       "protected                             float64\n",
       "screen_name                            object\n",
       "statuses_count                          int64\n",
       "test_set_1                            float64\n",
       "test_set_2                            float64\n",
       "time_zone                              object\n",
       "timestamp                              object\n",
       "updated                                object\n",
       "url                                    object\n",
       "utc_offset                            float64\n",
       "verified                              float64\n",
       "dtype: object"
      ]
     },
     "execution_count": 11,
     "metadata": {},
     "output_type": "execute_result"
    }
   ],
   "source": [
    "# understanding data types\n",
    "total_data.dtypes"
   ]
  },
  {
   "cell_type": "code",
   "execution_count": 12,
   "metadata": {},
   "outputs": [
    {
     "data": {
      "text/plain": [
       "16318"
      ]
     },
     "execution_count": 12,
     "metadata": {},
     "output_type": "execute_result"
    }
   ],
   "source": [
    "#training size:\n",
    "len(total_data.index)"
   ]
  },
  {
   "cell_type": "code",
   "execution_count": 13,
   "metadata": {},
   "outputs": [
    {
     "data": {
      "text/html": [
       "<div>\n",
       "<style scoped>\n",
       "    .dataframe tbody tr th:only-of-type {\n",
       "        vertical-align: middle;\n",
       "    }\n",
       "\n",
       "    .dataframe tbody tr th {\n",
       "        vertical-align: top;\n",
       "    }\n",
       "\n",
       "    .dataframe thead th {\n",
       "        text-align: right;\n",
       "    }\n",
       "</style>\n",
       "<table border=\"1\" class=\"dataframe\">\n",
       "  <thead>\n",
       "    <tr style=\"text-align: right;\">\n",
       "      <th></th>\n",
       "      <th>bot</th>\n",
       "      <th>contributors_enabled</th>\n",
       "      <th>crawled_at</th>\n",
       "      <th>created_at</th>\n",
       "      <th>dataset</th>\n",
       "      <th>default_profile</th>\n",
       "      <th>default_profile_image</th>\n",
       "      <th>description</th>\n",
       "      <th>favourites_count</th>\n",
       "      <th>follow_request_sent</th>\n",
       "      <th>...</th>\n",
       "      <th>screen_name</th>\n",
       "      <th>statuses_count</th>\n",
       "      <th>test_set_1</th>\n",
       "      <th>test_set_2</th>\n",
       "      <th>time_zone</th>\n",
       "      <th>timestamp</th>\n",
       "      <th>updated</th>\n",
       "      <th>url</th>\n",
       "      <th>utc_offset</th>\n",
       "      <th>verified</th>\n",
       "    </tr>\n",
       "  </thead>\n",
       "  <tbody>\n",
       "    <tr>\n",
       "      <th>0</th>\n",
       "      <td>0</td>\n",
       "      <td>NaN</td>\n",
       "      <td>NaN</td>\n",
       "      <td>Fri Apr 06 10:58:22 +0000 2007</td>\n",
       "      <td>E13</td>\n",
       "      <td>NaN</td>\n",
       "      <td>NaN</td>\n",
       "      <td>Founder of http://www.screenweek.it &amp; http://w...</td>\n",
       "      <td>145</td>\n",
       "      <td>NaN</td>\n",
       "      <td>...</td>\n",
       "      <td>braddd</td>\n",
       "      <td>20370</td>\n",
       "      <td>0.0</td>\n",
       "      <td>0.0</td>\n",
       "      <td>Rome</td>\n",
       "      <td>NaN</td>\n",
       "      <td>2015-02-14 10:54:49</td>\n",
       "      <td>http://braddd.tumblr.com</td>\n",
       "      <td>3600.0</td>\n",
       "      <td>NaN</td>\n",
       "    </tr>\n",
       "    <tr>\n",
       "      <th>1</th>\n",
       "      <td>0</td>\n",
       "      <td>NaN</td>\n",
       "      <td>NaN</td>\n",
       "      <td>Mon Apr 30 15:08:42 +0000 2007</td>\n",
       "      <td>E13</td>\n",
       "      <td>NaN</td>\n",
       "      <td>NaN</td>\n",
       "      <td>BSc degree (cum laude) in Computer Engineering...</td>\n",
       "      <td>9</td>\n",
       "      <td>NaN</td>\n",
       "      <td>...</td>\n",
       "      <td>eKoeS</td>\n",
       "      <td>3131</td>\n",
       "      <td>0.0</td>\n",
       "      <td>0.0</td>\n",
       "      <td>Rome</td>\n",
       "      <td>NaN</td>\n",
       "      <td>2015-02-14 10:54:49</td>\n",
       "      <td>http://www.lineheight.net/</td>\n",
       "      <td>3600.0</td>\n",
       "      <td>NaN</td>\n",
       "    </tr>\n",
       "    <tr>\n",
       "      <th>2</th>\n",
       "      <td>0</td>\n",
       "      <td>NaN</td>\n",
       "      <td>NaN</td>\n",
       "      <td>Tue May 01 11:53:40 +0000 2007</td>\n",
       "      <td>E13</td>\n",
       "      <td>NaN</td>\n",
       "      <td>NaN</td>\n",
       "      <td>Cogito ergo bestemmio.</td>\n",
       "      <td>323</td>\n",
       "      <td>NaN</td>\n",
       "      <td>...</td>\n",
       "      <td>tacone_</td>\n",
       "      <td>4024</td>\n",
       "      <td>0.0</td>\n",
       "      <td>0.0</td>\n",
       "      <td>Rome</td>\n",
       "      <td>NaN</td>\n",
       "      <td>2015-02-14 10:54:49</td>\n",
       "      <td>http://t.co/LKrl1dZE</td>\n",
       "      <td>3600.0</td>\n",
       "      <td>NaN</td>\n",
       "    </tr>\n",
       "    <tr>\n",
       "      <th>3</th>\n",
       "      <td>0</td>\n",
       "      <td>NaN</td>\n",
       "      <td>NaN</td>\n",
       "      <td>Tue May 15 16:55:16 +0000 2007</td>\n",
       "      <td>E13</td>\n",
       "      <td>NaN</td>\n",
       "      <td>NaN</td>\n",
       "      <td>Se la vita ti dà sarde, scapocciale!</td>\n",
       "      <td>1118</td>\n",
       "      <td>NaN</td>\n",
       "      <td>...</td>\n",
       "      <td>alesstar</td>\n",
       "      <td>40586</td>\n",
       "      <td>0.0</td>\n",
       "      <td>0.0</td>\n",
       "      <td>Rome</td>\n",
       "      <td>NaN</td>\n",
       "      <td>2015-02-14 10:54:49</td>\n",
       "      <td>http://alesstar.wordpress.com/</td>\n",
       "      <td>3600.0</td>\n",
       "      <td>NaN</td>\n",
       "    </tr>\n",
       "    <tr>\n",
       "      <th>4</th>\n",
       "      <td>0</td>\n",
       "      <td>NaN</td>\n",
       "      <td>NaN</td>\n",
       "      <td>Sun May 13 19:52:00 +0000 2007</td>\n",
       "      <td>E13</td>\n",
       "      <td>NaN</td>\n",
       "      <td>NaN</td>\n",
       "      <td>Je me souviens</td>\n",
       "      <td>13</td>\n",
       "      <td>NaN</td>\n",
       "      <td>...</td>\n",
       "      <td>PerDiletto</td>\n",
       "      <td>2016</td>\n",
       "      <td>0.0</td>\n",
       "      <td>0.0</td>\n",
       "      <td>Rome</td>\n",
       "      <td>NaN</td>\n",
       "      <td>2015-02-14 10:54:49</td>\n",
       "      <td>http://www.flickr.com/per_diletto</td>\n",
       "      <td>3600.0</td>\n",
       "      <td>NaN</td>\n",
       "    </tr>\n",
       "    <tr>\n",
       "      <th>5</th>\n",
       "      <td>0</td>\n",
       "      <td>NaN</td>\n",
       "      <td>NaN</td>\n",
       "      <td>Fri May 18 15:16:20 +0000 2007</td>\n",
       "      <td>E13</td>\n",
       "      <td>NaN</td>\n",
       "      <td>NaN</td>\n",
       "      <td>Swiper non rubare, Swiper non rubare!</td>\n",
       "      <td>53</td>\n",
       "      <td>NaN</td>\n",
       "      <td>...</td>\n",
       "      <td>crispaol</td>\n",
       "      <td>3603</td>\n",
       "      <td>0.0</td>\n",
       "      <td>0.0</td>\n",
       "      <td>Rome</td>\n",
       "      <td>NaN</td>\n",
       "      <td>2015-02-14 10:54:49</td>\n",
       "      <td>NaN</td>\n",
       "      <td>3600.0</td>\n",
       "      <td>NaN</td>\n",
       "    </tr>\n",
       "    <tr>\n",
       "      <th>6</th>\n",
       "      <td>0</td>\n",
       "      <td>NaN</td>\n",
       "      <td>NaN</td>\n",
       "      <td>Fri May 18 10:28:11 +0000 2007</td>\n",
       "      <td>E13</td>\n",
       "      <td>NaN</td>\n",
       "      <td>NaN</td>\n",
       "      <td>I never saw a wild thing sorry for itself.A sm...</td>\n",
       "      <td>2</td>\n",
       "      <td>NaN</td>\n",
       "      <td>...</td>\n",
       "      <td>tmpx</td>\n",
       "      <td>1183</td>\n",
       "      <td>0.0</td>\n",
       "      <td>0.0</td>\n",
       "      <td>Rome</td>\n",
       "      <td>NaN</td>\n",
       "      <td>2015-02-14 10:54:49</td>\n",
       "      <td>NaN</td>\n",
       "      <td>3600.0</td>\n",
       "      <td>NaN</td>\n",
       "    </tr>\n",
       "    <tr>\n",
       "      <th>7</th>\n",
       "      <td>0</td>\n",
       "      <td>NaN</td>\n",
       "      <td>NaN</td>\n",
       "      <td>Fri Jun 08 23:55:44 +0000 2007</td>\n",
       "      <td>E13</td>\n",
       "      <td>NaN</td>\n",
       "      <td>NaN</td>\n",
       "      <td>La vita è quello che accade mentre sei impegna...</td>\n",
       "      <td>597</td>\n",
       "      <td>NaN</td>\n",
       "      <td>...</td>\n",
       "      <td>Igor99</td>\n",
       "      <td>6194</td>\n",
       "      <td>0.0</td>\n",
       "      <td>0.0</td>\n",
       "      <td>Rome</td>\n",
       "      <td>NaN</td>\n",
       "      <td>2015-02-14 10:54:49</td>\n",
       "      <td>NaN</td>\n",
       "      <td>3600.0</td>\n",
       "      <td>NaN</td>\n",
       "    </tr>\n",
       "    <tr>\n",
       "      <th>8</th>\n",
       "      <td>0</td>\n",
       "      <td>NaN</td>\n",
       "      <td>NaN</td>\n",
       "      <td>Sun Jun 24 07:49:50 +0000 2007</td>\n",
       "      <td>E13</td>\n",
       "      <td>NaN</td>\n",
       "      <td>NaN</td>\n",
       "      <td>Founder e CEO di http://hagakure.it e autore d...</td>\n",
       "      <td>590</td>\n",
       "      <td>NaN</td>\n",
       "      <td>...</td>\n",
       "      <td>marcomassarotto</td>\n",
       "      <td>10962</td>\n",
       "      <td>0.0</td>\n",
       "      <td>0.0</td>\n",
       "      <td>Rome</td>\n",
       "      <td>NaN</td>\n",
       "      <td>2015-02-14 10:54:49</td>\n",
       "      <td>http://marcomassarotto.com</td>\n",
       "      <td>3600.0</td>\n",
       "      <td>NaN</td>\n",
       "    </tr>\n",
       "    <tr>\n",
       "      <th>9</th>\n",
       "      <td>0</td>\n",
       "      <td>NaN</td>\n",
       "      <td>NaN</td>\n",
       "      <td>Sat Jul 14 13:31:20 +0000 2007</td>\n",
       "      <td>E13</td>\n",
       "      <td>NaN</td>\n",
       "      <td>NaN</td>\n",
       "      <td>Sono timido come Sushi, pigro come Dado e russ...</td>\n",
       "      <td>693</td>\n",
       "      <td>NaN</td>\n",
       "      <td>...</td>\n",
       "      <td>personanormale</td>\n",
       "      <td>10947</td>\n",
       "      <td>0.0</td>\n",
       "      <td>0.0</td>\n",
       "      <td>Rome</td>\n",
       "      <td>NaN</td>\n",
       "      <td>2015-02-14 10:54:49</td>\n",
       "      <td>NaN</td>\n",
       "      <td>3600.0</td>\n",
       "      <td>NaN</td>\n",
       "    </tr>\n",
       "  </tbody>\n",
       "</table>\n",
       "<p>10 rows × 44 columns</p>\n",
       "</div>"
      ],
      "text/plain": [
       "   bot  contributors_enabled crawled_at                      created_at  \\\n",
       "0    0                   NaN        NaN  Fri Apr 06 10:58:22 +0000 2007   \n",
       "1    0                   NaN        NaN  Mon Apr 30 15:08:42 +0000 2007   \n",
       "2    0                   NaN        NaN  Tue May 01 11:53:40 +0000 2007   \n",
       "3    0                   NaN        NaN  Tue May 15 16:55:16 +0000 2007   \n",
       "4    0                   NaN        NaN  Sun May 13 19:52:00 +0000 2007   \n",
       "5    0                   NaN        NaN  Fri May 18 15:16:20 +0000 2007   \n",
       "6    0                   NaN        NaN  Fri May 18 10:28:11 +0000 2007   \n",
       "7    0                   NaN        NaN  Fri Jun 08 23:55:44 +0000 2007   \n",
       "8    0                   NaN        NaN  Sun Jun 24 07:49:50 +0000 2007   \n",
       "9    0                   NaN        NaN  Sat Jul 14 13:31:20 +0000 2007   \n",
       "\n",
       "  dataset  default_profile  default_profile_image  \\\n",
       "0     E13              NaN                    NaN   \n",
       "1     E13              NaN                    NaN   \n",
       "2     E13              NaN                    NaN   \n",
       "3     E13              NaN                    NaN   \n",
       "4     E13              NaN                    NaN   \n",
       "5     E13              NaN                    NaN   \n",
       "6     E13              NaN                    NaN   \n",
       "7     E13              NaN                    NaN   \n",
       "8     E13              NaN                    NaN   \n",
       "9     E13              NaN                    NaN   \n",
       "\n",
       "                                         description  favourites_count  \\\n",
       "0  Founder of http://www.screenweek.it & http://w...               145   \n",
       "1  BSc degree (cum laude) in Computer Engineering...                 9   \n",
       "2                             Cogito ergo bestemmio.               323   \n",
       "3               Se la vita ti dà sarde, scapocciale!              1118   \n",
       "4                                     Je me souviens                13   \n",
       "5              Swiper non rubare, Swiper non rubare!                53   \n",
       "6  I never saw a wild thing sorry for itself.A sm...                 2   \n",
       "7  La vita è quello che accade mentre sei impegna...               597   \n",
       "8  Founder e CEO di http://hagakure.it e autore d...               590   \n",
       "9  Sono timido come Sushi, pigro come Dado e russ...               693   \n",
       "\n",
       "   follow_request_sent   ...         screen_name  statuses_count  test_set_1  \\\n",
       "0                  NaN   ...              braddd           20370         0.0   \n",
       "1                  NaN   ...               eKoeS            3131         0.0   \n",
       "2                  NaN   ...             tacone_            4024         0.0   \n",
       "3                  NaN   ...            alesstar           40586         0.0   \n",
       "4                  NaN   ...          PerDiletto            2016         0.0   \n",
       "5                  NaN   ...            crispaol            3603         0.0   \n",
       "6                  NaN   ...                tmpx            1183         0.0   \n",
       "7                  NaN   ...              Igor99            6194         0.0   \n",
       "8                  NaN   ...     marcomassarotto           10962         0.0   \n",
       "9                  NaN   ...      personanormale           10947         0.0   \n",
       "\n",
       "   test_set_2  time_zone  timestamp              updated  \\\n",
       "0         0.0       Rome        NaN  2015-02-14 10:54:49   \n",
       "1         0.0       Rome        NaN  2015-02-14 10:54:49   \n",
       "2         0.0       Rome        NaN  2015-02-14 10:54:49   \n",
       "3         0.0       Rome        NaN  2015-02-14 10:54:49   \n",
       "4         0.0       Rome        NaN  2015-02-14 10:54:49   \n",
       "5         0.0       Rome        NaN  2015-02-14 10:54:49   \n",
       "6         0.0       Rome        NaN  2015-02-14 10:54:49   \n",
       "7         0.0       Rome        NaN  2015-02-14 10:54:49   \n",
       "8         0.0       Rome        NaN  2015-02-14 10:54:49   \n",
       "9         0.0       Rome        NaN  2015-02-14 10:54:49   \n",
       "\n",
       "                                 url utc_offset verified  \n",
       "0           http://braddd.tumblr.com     3600.0      NaN  \n",
       "1         http://www.lineheight.net/     3600.0      NaN  \n",
       "2               http://t.co/LKrl1dZE     3600.0      NaN  \n",
       "3     http://alesstar.wordpress.com/     3600.0      NaN  \n",
       "4  http://www.flickr.com/per_diletto     3600.0      NaN  \n",
       "5                                NaN     3600.0      NaN  \n",
       "6                                NaN     3600.0      NaN  \n",
       "7                                NaN     3600.0      NaN  \n",
       "8         http://marcomassarotto.com     3600.0      NaN  \n",
       "9                                NaN     3600.0      NaN  \n",
       "\n",
       "[10 rows x 44 columns]"
      ]
     },
     "execution_count": 13,
     "metadata": {},
     "output_type": "execute_result"
    }
   ],
   "source": [
    "total_data.head(10)"
   ]
  },
  {
   "cell_type": "code",
   "execution_count": 14,
   "metadata": {},
   "outputs": [
    {
     "data": {
      "text/plain": [
       "44"
      ]
     },
     "execution_count": 14,
     "metadata": {},
     "output_type": "execute_result"
    }
   ],
   "source": [
    "# # of basic user features (including target)\n",
    "total_data.columns.size"
   ]
  },
  {
   "cell_type": "markdown",
   "metadata": {},
   "source": [
    "### 1.4.1. Perliminary Data Visualization and Statistics"
   ]
  },
  {
   "cell_type": "markdown",
   "metadata": {},
   "source": [
    "#### 1.4.1.1. Class Distribution"
   ]
  },
  {
   "cell_type": "code",
   "execution_count": 15,
   "metadata": {},
   "outputs": [
    {
     "data": {
      "text/plain": [
       "1    10894\n",
       "0     5424\n",
       "Name: bot, dtype: int64"
      ]
     },
     "execution_count": 15,
     "metadata": {},
     "output_type": "execute_result"
    }
   ],
   "source": [
    "total_data['bot'].value_counts()"
   ]
  },
  {
   "cell_type": "markdown",
   "metadata": {},
   "source": [
    "#### 1.4.1.2. Language Histogram"
   ]
  },
  {
   "cell_type": "code",
   "execution_count": 16,
   "metadata": {},
   "outputs": [
    {
     "name": "stdout",
     "output_type": "stream",
     "text": [
      "-------------------------------\n",
      "Histogram for 'lang'\n",
      "-------------------------------\n",
      "en                    11950\n",
      "it                     2577\n",
      "es                      374\n",
      "en-gb                   122\n",
      "pt                       71\n",
      "fr                       46\n",
      "ru                       46\n",
      "ja                       34\n",
      "zh-tw                    17\n",
      "tr                       16\n",
      "de                       13\n",
      "id                       12\n",
      "ko                        9\n",
      "nl                        7\n",
      "ar                        4\n",
      "en-GB                     4\n",
      "zh-TW                     3\n",
      "da                        2\n",
      "Select Language...        2\n",
      "zh-cn                     2\n",
      "fil                       1\n",
      "sv                        1\n",
      "gl                        1\n",
      "xx-lc                     1\n",
      "pl                        1\n",
      "en-AU                     1\n",
      "el                        1\n",
      "Name: lang, dtype: int64\n",
      "\n"
     ]
    }
   ],
   "source": [
    "print (\"-------------------------------\")\n",
    "print (\"Histogram for 'lang'\")\n",
    "print (\"-------------------------------\")\n",
    "print (total_data['lang'].value_counts())\n",
    "print (\"\")"
   ]
  },
  {
   "cell_type": "markdown",
   "metadata": {},
   "source": [
    "# 2. Data Preparation and Cleaning"
   ]
  },
  {
   "cell_type": "markdown",
   "metadata": {},
   "source": [
    "## 2.1. Unique Values\n",
    "* id, screen_name are unique - **different value for each record**\n",
    "* contributors_enabled, follow_request_sent , following , notifications - **zero unique values** (NULL)\n",
    "* verified, protected, profile_use_background_image, profile_background_tile, is_translator, geo_enabled, default_profile, default_profile_image - **single unique value**"
   ]
  },
  {
   "cell_type": "code",
   "execution_count": 17,
   "metadata": {},
   "outputs": [
    {
     "data": {
      "text/plain": [
       "bot                                       2\n",
       "contributors_enabled                      0\n",
       "crawled_at                             3823\n",
       "created_at                            16233\n",
       "dataset                                   2\n",
       "default_profile                           1\n",
       "default_profile_image                     1\n",
       "description                            9945\n",
       "favourites_count                       2632\n",
       "follow_request_sent                       0\n",
       "followers_count                        2175\n",
       "following                                 0\n",
       "friends_count                          2171\n",
       "geo_enabled                               1\n",
       "id                                    16318\n",
       "is_translator                             1\n",
       "lang                                     27\n",
       "listed_count                            229\n",
       "location                               4955\n",
       "name                                  15711\n",
       "notifications                             0\n",
       "profile_background_color                867\n",
       "profile_background_image_url           8060\n",
       "profile_background_image_url_https     7669\n",
       "profile_background_tile                   1\n",
       "profile_banner_url                     6091\n",
       "profile_image_url                     16174\n",
       "profile_image_url_https               15240\n",
       "profile_link_color                     1357\n",
       "profile_sidebar_border_color            341\n",
       "profile_sidebar_fill_color              600\n",
       "profile_text_color                      628\n",
       "profile_use_background_image              1\n",
       "protected                                 1\n",
       "screen_name                           16318\n",
       "statuses_count                         5030\n",
       "test_set_1                                2\n",
       "test_set_2                                2\n",
       "time_zone                               114\n",
       "timestamp                             10996\n",
       "updated                                3089\n",
       "url                                    3066\n",
       "utc_offset                               28\n",
       "verified                                  1\n",
       "dtype: int64"
      ]
     },
     "execution_count": 17,
     "metadata": {},
     "output_type": "execute_result"
    }
   ],
   "source": [
    "total_data.nunique()"
   ]
  },
  {
   "cell_type": "markdown",
   "metadata": {},
   "source": [
    "### Remove columns with zero unique values (NULL values only )\n",
    "* contributors_enabled \n",
    "* follow_request_sent \n",
    "* following \n",
    "* notifications "
   ]
  },
  {
   "cell_type": "code",
   "execution_count": 18,
   "metadata": {},
   "outputs": [
    {
     "name": "stdout",
     "output_type": "stream",
     "text": [
      "removing  contributors_enabled\n",
      "removing  follow_request_sent\n",
      "removing  following\n",
      "removing  notifications\n"
     ]
    }
   ],
   "source": [
    "for col_name in total_data.columns:\n",
    "    if total_data[col_name].nunique() < 1:\n",
    "        print('removing ', col_name)\n",
    "        total_data.drop(col_name, axis = 1, inplace = True)"
   ]
  },
  {
   "cell_type": "markdown",
   "metadata": {},
   "source": [
    "### Removing irrelevant columns : \n",
    "* dataset (dataset name) \n",
    "* crawled_at (date the data was crawled)"
   ]
  },
  {
   "cell_type": "code",
   "execution_count": 19,
   "metadata": {},
   "outputs": [],
   "source": [
    "total_data.drop(['dataset','crawled_at'], axis = 1, inplace = True)"
   ]
  },
  {
   "cell_type": "markdown",
   "metadata": {},
   "source": [
    "## 2.2. NULL Values"
   ]
  },
  {
   "cell_type": "markdown",
   "metadata": {},
   "source": [
    "Visualizing NULL count for each column"
   ]
  },
  {
   "cell_type": "code",
   "execution_count": 20,
   "metadata": {},
   "outputs": [],
   "source": [
    "import Missing_Values_Lib"
   ]
  },
  {
   "cell_type": "code",
   "execution_count": 21,
   "metadata": {},
   "outputs": [],
   "source": [
    "try:\n",
    "    import missingno as msno\n",
    "except ModuleNotFoundError as e:\n",
    "    !{sys.executable} -m pip install missingno --user #see if need user flag in university\n",
    "    import missingno as msno       "
   ]
  },
  {
   "cell_type": "code",
   "execution_count": 22,
   "metadata": {},
   "outputs": [
    {
     "data": {
      "text/plain": [
       "<matplotlib.axes._subplots.AxesSubplot at 0x25ac668b0b8>"
      ]
     },
     "execution_count": 22,
     "metadata": {},
     "output_type": "execute_result"
    },
    {
     "data": {
      "image/png": "[encoded data removed]",
      "text/plain": [
       "<matplotlib.figure.Figure at 0x25ac316b390>"
      ]
     },
     "metadata": {},
     "output_type": "display_data"
    }
   ],
   "source": [
    "msno.bar(total_data)"
   ]
  },
  {
   "cell_type": "markdown",
   "metadata": {},
   "source": [
    "In the graph above, each number represents the non-null count for a certain column"
   ]
  },
  {
   "cell_type": "markdown",
   "metadata": {},
   "source": [
    "### Total missing values"
   ]
  },
  {
   "cell_type": "code",
   "execution_count": 23,
   "metadata": {},
   "outputs": [
    {
     "data": {
      "text/plain": [
       "188259"
      ]
     },
     "execution_count": 23,
     "metadata": {},
     "output_type": "execute_result"
    }
   ],
   "source": [
    "np.sum(np.sum(total_data.isnull()))"
   ]
  },
  {
   "cell_type": "markdown",
   "metadata": {},
   "source": [
    "### Removing columns with more then 16,000 null values : \n",
    "* default_profile_image\n",
    "* is_translator\n",
    "* protected\n",
    "* verified"
   ]
  },
  {
   "cell_type": "code",
   "execution_count": 24,
   "metadata": {},
   "outputs": [
    {
     "name": "stdout",
     "output_type": "stream",
     "text": [
      "removing  default_profile_image\n",
      "removing  is_translator\n",
      "removing  protected\n",
      "removing  verified\n"
     ]
    }
   ],
   "source": [
    "threshold = 16000\n",
    "for col_name in total_data.columns:\n",
    "    if np.sum(total_data[col_name].isnull()) >= threshold:\n",
    "        print('removing ', col_name)\n",
    "        total_data.drop(col_name, axis = 1, inplace = True)"
   ]
  },
  {
   "cell_type": "markdown",
   "metadata": {},
   "source": [
    "After understanding the data type in each column, we replace the Nulls with the appropriate value"
   ]
  },
  {
   "cell_type": "code",
   "execution_count": 25,
   "metadata": {},
   "outputs": [
    {
     "data": {
      "text/plain": [
       "0"
      ]
     },
     "execution_count": 25,
     "metadata": {},
     "output_type": "execute_result"
    }
   ],
   "source": [
    "Missing_Values_Lib.Fill_Missing(total_data)\n",
    "np.sum(np.sum(total_data.isnull()))"
   ]
  },
  {
   "cell_type": "markdown",
   "metadata": {},
   "source": [
    "This is a perliminary filling. More precise work will be done on feature engineering section."
   ]
  },
  {
   "cell_type": "markdown",
   "metadata": {},
   "source": [
    "# 3. Feature Engineering"
   ]
  },
  {
   "cell_type": "markdown",
   "metadata": {},
   "source": [
    "## 3.1. Numeric Features"
   ]
  },
  {
   "cell_type": "code",
   "execution_count": 26,
   "metadata": {},
   "outputs": [],
   "source": [
    "import General_Lib"
   ]
  },
  {
   "cell_type": "code",
   "execution_count": 27,
   "metadata": {},
   "outputs": [
    {
     "data": {
      "image/png": "[encoded data removed]",
      "text/plain": [
       "<matplotlib.figure.Figure at 0x25a8011b748>"
      ]
     },
     "metadata": {},
     "output_type": "display_data"
    }
   ],
   "source": [
    "# The following features are the numeric features from user data (before engineering)\n",
    "numeric_features_list = ['favourites_count',\n",
    "                 'followers_count',\n",
    "                 'friends_count',\n",
    "                 'listed_count',\n",
    "                 'statuses_count',\n",
    "                 'utc_offset',\n",
    "                 'bot']\n",
    "\n",
    "corr_mtx = General_Lib.Plot_Correlation_Matrix(total_data, numeric_features_list)"
   ]
  },
  {
   "cell_type": "markdown",
   "metadata": {},
   "source": [
    "**No apparent connection between main numeric features to the target**<br>\n",
    "**We can see there is a high correlation between:**\n",
    "1. listed_count - followers count \n",
    "2. listed_count - friends count \n",
    "3. friends count - followers count"
   ]
  },
  {
   "cell_type": "code",
   "execution_count": 28,
   "metadata": {},
   "outputs": [
    {
     "data": {
      "text/plain": [
       "favourites_count    0.256424\n",
       "followers_count     0.007785\n",
       "friends_count       0.003983\n",
       "listed_count        0.012425\n",
       "statuses_count      0.303526\n",
       "utc_offset          0.016984\n",
       "bot                 1.000000\n",
       "Name: bot, dtype: float64"
      ]
     },
     "execution_count": 28,
     "metadata": {},
     "output_type": "execute_result"
    }
   ],
   "source": [
    "corr_mtx['bot']"
   ]
  },
  {
   "cell_type": "markdown",
   "metadata": {},
   "source": [
    "**Each numeric feature is binned in order to get better correlation with the target feature on the following section. Features getting the highest correlation will replace current used features and will be added to the list below for future use:**"
   ]
  },
  {
   "cell_type": "code",
   "execution_count": 29,
   "metadata": {},
   "outputs": [],
   "source": [
    "new_numeric_features = []"
   ]
  },
  {
   "cell_type": "markdown",
   "metadata": {},
   "source": [
    "### 3.1.1. favourites_count"
   ]
  },
  {
   "cell_type": "code",
   "execution_count": 30,
   "metadata": {},
   "outputs": [
    {
     "data": {
      "text/plain": [
       "Text(0,0.5,'Count')"
      ]
     },
     "execution_count": 30,
     "metadata": {},
     "output_type": "execute_result"
    },
    {
     "data": {
      "image/png": "[encoded data removed]",
      "text/plain": [
       "<matplotlib.figure.Figure at 0x25ac25e8898>"
      ]
     },
     "metadata": {},
     "output_type": "display_data"
    }
   ],
   "source": [
    "%matplotlib inline\n",
    "\n",
    "sns.distplot(total_data[total_data.favourites_count<=150].favourites_count, bins = 10, kde = False)\n",
    "plt.title('Histogram of Favourites Count')\n",
    "plt.xlabel('Favourites')\n",
    "plt.ylabel('Count')"
   ]
  },
  {
   "cell_type": "markdown",
   "metadata": {},
   "source": [
    "**'0' has the highest frequency. We'll bin binarily if the value is 0 or not**"
   ]
  },
  {
   "cell_type": "code",
   "execution_count": 31,
   "metadata": {},
   "outputs": [
    {
     "name": "stdout",
     "output_type": "stream",
     "text": [
      "new feature - target correlation is: -0.8213190694808825\n",
      "old feature - target correlation is: -0.2564243618906531\n"
     ]
    }
   ],
   "source": [
    "total_data['is_favourite'] = total_data['favourites_count'] > 0\n",
    "print(\"new feature - target correlation is:\",\n",
    "      total_data['is_favourite'].corr(total_data['bot']))\n",
    "print(\"old feature - target correlation is:\",\n",
    "        total_data['favourites_count'].corr(total_data['bot']))"
   ]
  },
  {
   "cell_type": "code",
   "execution_count": 32,
   "metadata": {},
   "outputs": [],
   "source": [
    "new_numeric_features.append('is_favourite')"
   ]
  },
  {
   "cell_type": "markdown",
   "metadata": {},
   "source": [
    "### 3.1.2. followers_count"
   ]
  },
  {
   "cell_type": "code",
   "execution_count": 33,
   "metadata": {},
   "outputs": [
    {
     "data": {
      "text/plain": [
       "Text(0,0.5,'Count')"
      ]
     },
     "execution_count": 33,
     "metadata": {},
     "output_type": "execute_result"
    },
    {
     "data": {
      "image/png": "[encoded data removed]",
      "text/plain": [
       "<matplotlib.figure.Figure at 0x25a8012fd68>"
      ]
     },
     "metadata": {},
     "output_type": "display_data"
    }
   ],
   "source": [
    "%matplotlib inline\n",
    "\n",
    "sns.distplot(total_data[total_data.followers_count<=800].followers_count, bins = 20, kde = False)\n",
    "plt.title('Histogram of Followers Count')\n",
    "plt.xlabel('Followers')\n",
    "plt.ylabel('Count')"
   ]
  },
  {
   "cell_type": "code",
   "execution_count": 34,
   "metadata": {},
   "outputs": [
    {
     "data": {
      "text/plain": [
       "<matplotlib.axes._subplots.AxesSubplot at 0x25a8187d5c0>"
      ]
     },
     "execution_count": 34,
     "metadata": {},
     "output_type": "execute_result"
    },
    {
     "data": {
      "text/plain": [
       "<matplotlib.figure.Figure at 0x25ac65c15f8>"
      ]
     },
     "metadata": {},
     "output_type": "display_data"
    },
    {
     "data": {
      "image/png": "[encoded data removed]",
      "text/plain": [
       "<matplotlib.figure.Figure at 0x25ac659f4e0>"
      ]
     },
     "metadata": {},
     "output_type": "display_data"
    }
   ],
   "source": [
    "df_followers_count = total_data[total_data.followers_count<=300]\n",
    "df_count = pd.DataFrame({'bot_followers': df_followers_count[df_followers_count.bot==1].followers_count,\n",
    "                   'genuine_users_followers': df_followers_count[df_followers_count.bot==0].followers_count},\n",
    "                   columns=['bot_followers', 'genuine_users_followers'])\n",
    "plt.figure();\n",
    "df_count.plot.hist(title = 'Bot Followers vs. Genuine Users Followers (<300)',bins= 10,alpha=0.5)  "
   ]
  },
  {
   "cell_type": "code",
   "execution_count": 35,
   "metadata": {},
   "outputs": [
    {
     "name": "stdout",
     "output_type": "stream",
     "text": [
      "Feature-target correlation: -0.007785367942083281\n"
     ]
    }
   ],
   "source": [
    "print(\"Feature-target correlation:\",total_data['followers_count'].corr(total_data['bot']))"
   ]
  },
  {
   "cell_type": "markdown",
   "metadata": {},
   "source": [
    "**Binning to 5 equal width buckets**"
   ]
  },
  {
   "cell_type": "code",
   "execution_count": 36,
   "metadata": {},
   "outputs": [
    {
     "name": "stdout",
     "output_type": "stream",
     "text": [
      "Feature-target correlation: 0.002668162599855319\n"
     ]
    }
   ],
   "source": [
    "bin_followers_count= General_Lib.Binning(total_data['followers_count'],5)\n",
    "print(\"Feature-target correlation:\",bin_followers_count.corr(total_data['bot']))"
   ]
  },
  {
   "cell_type": "markdown",
   "metadata": {},
   "source": [
    "**Binning to 5 <u>un</u>equal width buckets**"
   ]
  },
  {
   "cell_type": "code",
   "execution_count": 37,
   "metadata": {},
   "outputs": [
    {
     "name": "stdout",
     "output_type": "stream",
     "text": [
      "Feature-target correlation: -0.5266178365117589\n"
     ]
    }
   ],
   "source": [
    "total_data['bin_followers_count'] = General_Lib.Binning(total_data['followers_count'],\n",
    "                                                        -1, \n",
    "                                                        bin_seq = [0,12,20,30,100,np.inf])\n",
    "\n",
    "total_data.bin_followers_count = total_data.bin_followers_count.astype(int)\n",
    "print(\"Feature-target correlation:\",total_data['bin_followers_count'].corr(total_data['bot']))"
   ]
  },
  {
   "cell_type": "markdown",
   "metadata": {},
   "source": [
    "**We chose the bins by choosing the binning that maximizes the correlation to the target.**"
   ]
  },
  {
   "cell_type": "code",
   "execution_count": 38,
   "metadata": {},
   "outputs": [
    {
     "data": {
      "text/plain": [
       "Text(0,0.5,'Count')"
      ]
     },
     "execution_count": 38,
     "metadata": {},
     "output_type": "execute_result"
    },
    {
     "data": {
      "image/png": "[encoded data removed]",
      "text/plain": [
       "<matplotlib.figure.Figure at 0x25a800c0048>"
      ]
     },
     "metadata": {},
     "output_type": "display_data"
    }
   ],
   "source": [
    "%matplotlib inline\n",
    "\n",
    "sns.distplot(total_data['bin_followers_count'], kde = False)\n",
    "plt.title('Histogram of Followers Count Binning')\n",
    "plt.xlabel('Followers Count Bins')\n",
    "plt.ylabel('Count')"
   ]
  },
  {
   "cell_type": "code",
   "execution_count": 39,
   "metadata": {},
   "outputs": [],
   "source": [
    "new_numeric_features.append('bin_followers_count')"
   ]
  },
  {
   "cell_type": "markdown",
   "metadata": {},
   "source": [
    "### 3.1.3. friends_count"
   ]
  },
  {
   "cell_type": "code",
   "execution_count": 40,
   "metadata": {},
   "outputs": [
    {
     "data": {
      "text/plain": [
       "Text(0,0.5,'Count')"
      ]
     },
     "execution_count": 40,
     "metadata": {},
     "output_type": "execute_result"
    },
    {
     "data": {
      "image/png": "[encoded data removed]",
      "text/plain": [
       "<matplotlib.figure.Figure at 0x25ac33d3d68>"
      ]
     },
     "metadata": {},
     "output_type": "display_data"
    }
   ],
   "source": [
    "%matplotlib inline\n",
    "\n",
    "sns.distplot(total_data[total_data.friends_count<=800].friends_count, bins = 20, kde = False)\n",
    "plt.title('Histogram of Friends Count')\n",
    "plt.xlabel('Friends')\n",
    "plt.ylabel('Count')"
   ]
  },
  {
   "cell_type": "code",
   "execution_count": 41,
   "metadata": {},
   "outputs": [
    {
     "data": {
      "text/plain": [
       "<matplotlib.axes._subplots.AxesSubplot at 0x25a81951cf8>"
      ]
     },
     "execution_count": 41,
     "metadata": {},
     "output_type": "execute_result"
    },
    {
     "data": {
      "text/plain": [
       "<matplotlib.figure.Figure at 0x25ac67c7898>"
      ]
     },
     "metadata": {},
     "output_type": "display_data"
    },
    {
     "data": {
      "image/png": "[encoded data removed]",
      "text/plain": [
       "<matplotlib.figure.Figure at 0x25a81894c18>"
      ]
     },
     "metadata": {},
     "output_type": "display_data"
    }
   ],
   "source": [
    "df_friends_count = total_data[total_data.friends_count<=500]\n",
    "df_count = pd.DataFrame({'bot_friends': df_friends_count[df_friends_count.bot==0].friends_count,\n",
    "                   'genuine_users_friends': df_friends_count[df_friends_count.bot==1].friends_count},\n",
    "                   columns=['bot_friends', 'genuine_users_friends'])\n",
    "plt.figure();\n",
    "df_count.plot.hist(title = 'Bot Friends vs. Genuine Users Friends (<800)',bins= 20,alpha=0.5)                         "
   ]
  },
  {
   "cell_type": "code",
   "execution_count": 42,
   "metadata": {},
   "outputs": [
    {
     "name": "stdout",
     "output_type": "stream",
     "text": [
      "Feature-target correlation: 0.0039828901611110015\n"
     ]
    }
   ],
   "source": [
    "print(\"Feature-target correlation:\",total_data['friends_count'].corr(total_data['bot']))"
   ]
  },
  {
   "cell_type": "markdown",
   "metadata": {},
   "source": [
    "**Binning to 20 equal width buckets**"
   ]
  },
  {
   "cell_type": "code",
   "execution_count": 43,
   "metadata": {},
   "outputs": [
    {
     "name": "stdout",
     "output_type": "stream",
     "text": [
      "Feature-target correlation: 0.0034724452602131967\n"
     ]
    }
   ],
   "source": [
    "bin_friends_count = General_Lib.Binning(total_data['friends_count'],20)\n",
    "print(\"Feature-target correlation:\",bin_friends_count.corr(total_data['bot']))"
   ]
  },
  {
   "cell_type": "markdown",
   "metadata": {},
   "source": [
    "**Binning to 5 <u>un</u>equal width buckets**"
   ]
  },
  {
   "cell_type": "code",
   "execution_count": 44,
   "metadata": {},
   "outputs": [
    {
     "name": "stdout",
     "output_type": "stream",
     "text": [
      "Feature-target correlation: -0.2963181531344163\n"
     ]
    }
   ],
   "source": [
    "total_data['bin_friends_count'] = General_Lib.Binning(total_data['friends_count'],\n",
    "                                                      -1, \n",
    "                                                      bin_seq = [0,2,10,50,90,np.inf])\n",
    "print(\"Feature-target correlation:\",total_data['bin_friends_count'].corr(total_data['bot']))"
   ]
  },
  {
   "cell_type": "code",
   "execution_count": 45,
   "metadata": {},
   "outputs": [
    {
     "data": {
      "text/plain": [
       "5    11223\n",
       "3     4012\n",
       "4      572\n",
       "1      447\n",
       "2       64\n",
       "Name: bin_friends_count, dtype: int64"
      ]
     },
     "execution_count": 45,
     "metadata": {},
     "output_type": "execute_result"
    }
   ],
   "source": [
    "total_data['bin_friends_count'].value_counts(dropna=False)"
   ]
  },
  {
   "cell_type": "code",
   "execution_count": 46,
   "metadata": {},
   "outputs": [],
   "source": [
    "new_numeric_features.append('bin_friends_count')"
   ]
  },
  {
   "cell_type": "markdown",
   "metadata": {},
   "source": [
    "### 3.1.4. listed_count"
   ]
  },
  {
   "cell_type": "code",
   "execution_count": 47,
   "metadata": {},
   "outputs": [
    {
     "data": {
      "text/plain": [
       "Text(0,0.5,'Count')"
      ]
     },
     "execution_count": 47,
     "metadata": {},
     "output_type": "execute_result"
    },
    {
     "data": {
      "image/png": "[encoded data removed]",
      "text/plain": [
       "<matplotlib.figure.Figure at 0x25a80412240>"
      ]
     },
     "metadata": {},
     "output_type": "display_data"
    }
   ],
   "source": [
    "%matplotlib inline\n",
    "\n",
    "sns.distplot(total_data[total_data.listed_count<=10].listed_count, bins = 10, kde = False)\n",
    "plt.title('Histogram of Listed Count')\n",
    "plt.xlabel('Listed')\n",
    "plt.ylabel('Count')"
   ]
  },
  {
   "cell_type": "code",
   "execution_count": 48,
   "metadata": {},
   "outputs": [
    {
     "name": "stdout",
     "output_type": "stream",
     "text": [
      "Feature-target correlation: -0.012424547788108326\n"
     ]
    }
   ],
   "source": [
    "print(\"Feature-target correlation:\",total_data['listed_count'].corr(total_data['bot']))"
   ]
  },
  {
   "cell_type": "markdown",
   "metadata": {},
   "source": [
    "**Binary binning if the value of listed_count feature is zero or not** "
   ]
  },
  {
   "cell_type": "code",
   "execution_count": 49,
   "metadata": {},
   "outputs": [
    {
     "name": "stdout",
     "output_type": "stream",
     "text": [
      "Feature-target correlation: -0.33006426233526553\n"
     ]
    }
   ],
   "source": [
    "total_data['is_listed_count'] = total_data['listed_count'] > 0\n",
    "print(\"Feature-target correlation:\",total_data['is_listed_count'].corr(total_data['bot']))"
   ]
  },
  {
   "cell_type": "markdown",
   "metadata": {},
   "source": [
    "**Binning to 5 equal width buckets**"
   ]
  },
  {
   "cell_type": "code",
   "execution_count": 50,
   "metadata": {},
   "outputs": [
    {
     "name": "stdout",
     "output_type": "stream",
     "text": [
      "Feature-target correlation: 0.003713323579452202\n"
     ]
    }
   ],
   "source": [
    "listed_count_binning = General_Lib.Binning(total_data['listed_count'],8)\n",
    "print(\"Feature-target correlation:\",listed_count_binning.corr(total_data['bot']))"
   ]
  },
  {
   "cell_type": "markdown",
   "metadata": {},
   "source": [
    "**Binning to 8 <u>un</u>equal width buckets**"
   ]
  },
  {
   "cell_type": "code",
   "execution_count": 51,
   "metadata": {},
   "outputs": [
    {
     "name": "stdout",
     "output_type": "stream",
     "text": [
      "Feature-target correlation: -0.18992395104110327\n"
     ]
    }
   ],
   "source": [
    "total_data['listed_count_binning'] = General_Lib.Binning(total_data['listed_count'],\n",
    "                                                         -1, \n",
    "                                                         bin_seq = [0,2,10,50,200,300,500,1000,np.inf])\n",
    "total_data.listed_count_binning = total_data.listed_count_binning.astype(int)\n",
    "print(\"Feature-target correlation:\",total_data['listed_count_binning'].corr(total_data['bot']))"
   ]
  },
  {
   "cell_type": "code",
   "execution_count": 52,
   "metadata": {},
   "outputs": [],
   "source": [
    "new_numeric_features.append('is_listed_count')"
   ]
  },
  {
   "cell_type": "markdown",
   "metadata": {},
   "source": [
    "### 3.1.5. statuses_count"
   ]
  },
  {
   "cell_type": "code",
   "execution_count": 53,
   "metadata": {},
   "outputs": [
    {
     "data": {
      "text/plain": [
       "Text(0,0.5,'Count')"
      ]
     },
     "execution_count": 53,
     "metadata": {},
     "output_type": "execute_result"
    },
    {
     "data": {
      "image/png": "[encoded data removed]",
      "text/plain": [
       "<matplotlib.figure.Figure at 0x25a81bb8ba8>"
      ]
     },
     "metadata": {},
     "output_type": "display_data"
    }
   ],
   "source": [
    "%matplotlib inline\n",
    "\n",
    "sns.distplot(total_data[total_data.statuses_count<=500].statuses_count, bins = 10, kde = False)\n",
    "plt.title('Histogram of Statuses Count')\n",
    "plt.xlabel('Status')\n",
    "plt.ylabel('Count')"
   ]
  },
  {
   "cell_type": "code",
   "execution_count": 54,
   "metadata": {},
   "outputs": [
    {
     "name": "stdout",
     "output_type": "stream",
     "text": [
      "Feature-target correlation: -0.3035262516299992\n"
     ]
    }
   ],
   "source": [
    "print(\"Feature-target correlation:\",total_data['statuses_count'].corr(total_data['bot']))"
   ]
  },
  {
   "cell_type": "markdown",
   "metadata": {},
   "source": [
    "**Binning to 3 unequal width buckets**"
   ]
  },
  {
   "cell_type": "code",
   "execution_count": 55,
   "metadata": {},
   "outputs": [
    {
     "name": "stdout",
     "output_type": "stream",
     "text": [
      "Feature-target correlation: -0.7152237317990721\n"
     ]
    }
   ],
   "source": [
    "total_data['statuses_count_binning'] = General_Lib.Binning(total_data['statuses_count'],\n",
    "                                                           -1, \n",
    "                                                           bin_seq = [0,80,300, np.inf])\n",
    "total_data.statuses_count_binning = total_data.statuses_count_binning.astype(int)\n",
    "print(\"Feature-target correlation:\",total_data['statuses_count_binning'].corr(total_data['bot']))"
   ]
  },
  {
   "cell_type": "markdown",
   "metadata": {},
   "source": [
    "**Binning to 50 equal width buckets**"
   ]
  },
  {
   "cell_type": "code",
   "execution_count": 56,
   "metadata": {},
   "outputs": [
    {
     "name": "stdout",
     "output_type": "stream",
     "text": [
      "Feature-target correlation: -0.25368563083616547\n"
     ]
    }
   ],
   "source": [
    "statuses_count_binning = General_Lib.Binning(total_data['statuses_count'],50)\n",
    "print(\"Feature-target correlation:\",statuses_count_binning.corr(total_data['bot']))"
   ]
  },
  {
   "cell_type": "markdown",
   "metadata": {},
   "source": [
    "**As we can see binning 3 buckets has given us great correlation to the target**"
   ]
  },
  {
   "cell_type": "code",
   "execution_count": 57,
   "metadata": {},
   "outputs": [],
   "source": [
    "new_numeric_features.append('statuses_count_binning')"
   ]
  },
  {
   "cell_type": "markdown",
   "metadata": {},
   "source": [
    "### 3.1.6. utc_offset"
   ]
  },
  {
   "cell_type": "code",
   "execution_count": 58,
   "metadata": {},
   "outputs": [
    {
     "data": {
      "text/plain": [
       "Text(0,0.5,'Count')"
      ]
     },
     "execution_count": 58,
     "metadata": {},
     "output_type": "execute_result"
    },
    {
     "data": {
      "image/png": "[encoded data removed]",
      "text/plain": [
       "<matplotlib.figure.Figure at 0x25a81af3da0>"
      ]
     },
     "metadata": {},
     "output_type": "display_data"
    }
   ],
   "source": [
    "%matplotlib inline\n",
    "\n",
    "sns.distplot(total_data[total_data.utc_offset<=20000].utc_offset, bins = 10, kde = False)\n",
    "plt.title('Histogram of Utc Count')\n",
    "plt.xlabel('utc')\n",
    "plt.ylabel('Count')"
   ]
  },
  {
   "cell_type": "code",
   "execution_count": 59,
   "metadata": {},
   "outputs": [
    {
     "data": {
      "text/plain": [
       "<matplotlib.axes._subplots.AxesSubplot at 0x25a803939b0>"
      ]
     },
     "execution_count": 59,
     "metadata": {},
     "output_type": "execute_result"
    },
    {
     "data": {
      "text/plain": [
       "<matplotlib.figure.Figure at 0x25a81b29eb8>"
      ]
     },
     "metadata": {},
     "output_type": "display_data"
    },
    {
     "data": {
      "image/png": "[encoded data removed]",
      "text/plain": [
       "<matplotlib.figure.Figure at 0x25a8039d0b8>"
      ]
     },
     "metadata": {},
     "output_type": "display_data"
    }
   ],
   "source": [
    "df_utc_offset = total_data[total_data.utc_offset<=20000]\n",
    "df_count = pd.DataFrame({'bot_utc_offset': df_utc_offset[df_utc_offset.bot==0].utc_offset,\n",
    "                   'genuine_users_utc_offset': df_utc_offset[df_utc_offset.bot==1].utc_offset},\n",
    "                   columns=['bot_utc_offset', 'genuine_users_utc_offset'])\n",
    "plt.figure();\n",
    "df_count.plot.hist(title = 'Bot UTC vs. Genuine Users UTC (<20000)',bins= 20,alpha=0.5)                         "
   ]
  },
  {
   "cell_type": "code",
   "execution_count": 60,
   "metadata": {},
   "outputs": [
    {
     "name": "stdout",
     "output_type": "stream",
     "text": [
      "Feature-target correlation: -0.016983652019355866\n"
     ]
    }
   ],
   "source": [
    "print(\"Feature-target correlation:\",total_data['utc_offset'].corr(total_data['bot']))"
   ]
  },
  {
   "cell_type": "markdown",
   "metadata": {},
   "source": [
    "**Binning to 20 equal width buckets**"
   ]
  },
  {
   "cell_type": "code",
   "execution_count": 61,
   "metadata": {},
   "outputs": [
    {
     "name": "stdout",
     "output_type": "stream",
     "text": [
      "Feature-target correlation: 0.03256158309843261\n"
     ]
    }
   ],
   "source": [
    "utc_offset_binning_1 = General_Lib.Binning(total_data['utc_offset'],20)\n",
    "print(\"Feature-target correlation:\",utc_offset_binning_1.corr(total_data['bot']))"
   ]
  },
  {
   "cell_type": "markdown",
   "metadata": {},
   "source": [
    "**Binning to 3 uequal width buckets**"
   ]
  },
  {
   "cell_type": "code",
   "execution_count": 62,
   "metadata": {},
   "outputs": [
    {
     "name": "stdout",
     "output_type": "stream",
     "text": [
      "Feature-target correlation: -0.18487726729604453\n"
     ]
    }
   ],
   "source": [
    "utc_offset_binning_2 = General_Lib.Binning(total_data['utc_offset'],\n",
    "                                           -1, \n",
    "                                           bin_seq = [-30000, 0, 10000, 20000])\n",
    "print(\"Feature-target correlation:\",utc_offset_binning_2.corr(total_data['bot']))"
   ]
  },
  {
   "cell_type": "markdown",
   "metadata": {},
   "source": [
    "**Binary binning if utc_offset is greater than zero or not**"
   ]
  },
  {
   "cell_type": "code",
   "execution_count": 63,
   "metadata": {},
   "outputs": [
    {
     "name": "stdout",
     "output_type": "stream",
     "text": [
      "Feature-target correlation: -0.36960636489833426\n"
     ]
    }
   ],
   "source": [
    "total_data['is_utc_offset'] = total_data['utc_offset'] > 0\n",
    "print(\"Feature-target correlation:\",total_data['is_utc_offset'].corr(total_data['bot']))"
   ]
  },
  {
   "cell_type": "markdown",
   "metadata": {},
   "source": [
    "**Binary binning has provided the best correlation to the target**"
   ]
  },
  {
   "cell_type": "code",
   "execution_count": 64,
   "metadata": {},
   "outputs": [],
   "source": [
    "new_numeric_features.append('is_utc_offset')"
   ]
  },
  {
   "cell_type": "markdown",
   "metadata": {},
   "source": [
    "### 3.1.7. New Numeric Features Correlation"
   ]
  },
  {
   "cell_type": "markdown",
   "metadata": {},
   "source": [
    "Correlation matrix of high correlated features"
   ]
  },
  {
   "cell_type": "code",
   "execution_count": 65,
   "metadata": {},
   "outputs": [
    {
     "data": {
      "image/png": "[encoded data removed]",
      "text/plain": [
       "<matplotlib.figure.Figure at 0x25a800a42b0>"
      ]
     },
     "metadata": {},
     "output_type": "display_data"
    }
   ],
   "source": [
    "new_numeric_features.append('bot')\n",
    "corr_mtx = General_Lib.Plot_Correlation_Matrix(total_data, new_numeric_features)"
   ]
  },
  {
   "cell_type": "code",
   "execution_count": 66,
   "metadata": {},
   "outputs": [
    {
     "data": {
      "text/plain": [
       "is_favourite              0.821319\n",
       "bin_followers_count       0.526618\n",
       "is_listed_count           0.330064\n",
       "statuses_count_binning    0.715224\n",
       "is_utc_offset             0.369606\n",
       "bot                       1.000000\n",
       "Name: bot, dtype: float64"
      ]
     },
     "execution_count": 66,
     "metadata": {},
     "output_type": "execute_result"
    }
   ],
   "source": [
    "corr_mtx['bot']"
   ]
  },
  {
   "cell_type": "markdown",
   "metadata": {},
   "source": [
    "## 3.2. Date and Time"
   ]
  },
  {
   "cell_type": "markdown",
   "metadata": {},
   "source": [
    "**Time and date features:** \n",
    "* created_at\n",
    "* timestamp \n",
    "* updated \n",
    "\n",
    "We'll parse time and dates features to int features."
   ]
  },
  {
   "cell_type": "code",
   "execution_count": 67,
   "metadata": {},
   "outputs": [],
   "source": [
    "import Date_Parser_Lib"
   ]
  },
  {
   "cell_type": "markdown",
   "metadata": {},
   "source": [
    "### 3.2.1. created_at feature"
   ]
  },
  {
   "cell_type": "markdown",
   "metadata": {},
   "source": [
    "#### Created_at feature contains two date formats:\n",
    "1. Day Month Day_in_month Hour:Minute:Seconds Time zone Year.\n",
    " * For example: Wed Jul 04 12:30:03 +0000 2007\n",
    "2. Seconds from epoch\n",
    " * For example: 1183552203000L\n",
    "\n",
    "**We will parse seconds from epoch format to the format described in bullet number 1. <br>\n",
    "Then we will parse the updated feature to create new 7 numeric features:**\n",
    "1. day of the week\n",
    "2. month\n",
    "3. day in month\n",
    "4. hour\n",
    "5. minute\n",
    "6. second\n",
    "7. year\n"
   ]
  },
  {
   "cell_type": "code",
   "execution_count": 68,
   "metadata": {},
   "outputs": [],
   "source": [
    "feature_name = 'created_at'"
   ]
  },
  {
   "cell_type": "markdown",
   "metadata": {},
   "source": [
    "**Check_For_Date_Format:** analyze the feature date format. <br>\n",
    "<u>Return value: </u>\n",
    "* seconds_from_epoch_data - samples contains seconds from epoch date format. <br>\n",
    "* regular_date_format_data - all the remains samples."
   ]
  },
  {
   "cell_type": "code",
   "execution_count": 69,
   "metadata": {
    "scrolled": true
   },
   "outputs": [
    {
     "name": "stdout",
     "output_type": "stream",
     "text": [
      "is all time stamp that does not contains +0000 are seconds from epoch format? True\n",
      "Number of rows formatted as seconds from epoch: 1000\n",
      "Number of rows formatted as regular date: 15318\n",
      "is seconds from epoch + regular data = all data? True\n"
     ]
    }
   ],
   "source": [
    "seconds_from_epoch_data,regular_date_format_data = Date_Parser_Lib.Check_For_Date_Format(total_data, \n",
    "                                                                                         feature_name)"
   ]
  },
  {
   "cell_type": "markdown",
   "metadata": {},
   "source": [
    "#####  parse seconds from epoch date format \n",
    "* ignoring time zone (+0000 on every row).\n",
    "* Convert seconds from epoch to regular date format\n",
    "* Example of seconds from epoch date format: 1183552203000L"
   ]
  },
  {
   "cell_type": "code",
   "execution_count": 70,
   "metadata": {
    "scrolled": true
   },
   "outputs": [
    {
     "data": {
      "text/plain": [
       "13687    1183552203000L\n",
       "13688    1185440851000L\n",
       "13689    1192725360000L\n",
       "13690    1196614406000L\n",
       "13691    1209536534000L\n",
       "Name: created_at, dtype: object"
      ]
     },
     "execution_count": 70,
     "metadata": {},
     "output_type": "execute_result"
    }
   ],
   "source": [
    "seconds_from_epoch_data['created_at'].head(5)"
   ]
  },
  {
   "cell_type": "markdown",
   "metadata": {},
   "source": [
    "**Convert seconds from epoch date format to regular format**"
   ]
  },
  {
   "cell_type": "code",
   "execution_count": 71,
   "metadata": {
    "scrolled": true
   },
   "outputs": [
    {
     "data": {
      "text/plain": [
       "13687    Wed Jul 04 12:30:03 +0000 2007\n",
       "13688    Thu Jul 26 09:07:31 +0000 2007\n",
       "13689    Thu Oct 18 16:36:00 +0000 2007\n",
       "13690    Sun Dec 02 16:53:26 +0000 2007\n",
       "13691    Wed Apr 30 06:22:14 +0000 2008\n",
       "Name: created_at, dtype: object"
      ]
     },
     "execution_count": 71,
     "metadata": {},
     "output_type": "execute_result"
    }
   ],
   "source": [
    "date_format_ceated_at = '%a %b %d %H:%M:%S +0000 %Y'\n",
    "seconds_from_epoch_data[feature_name] = seconds_from_epoch_data[feature_name].apply(\n",
    "                                        Date_Parser_Lib.convert_seconds_from_epoch_to_date_format,\n",
    "                                        args = (date_format_ceated_at,))\n",
    "\n",
    "seconds_from_epoch_data['created_at'].head(5)"
   ]
  },
  {
   "cell_type": "markdown",
   "metadata": {},
   "source": [
    "**Concatenate the records**"
   ]
  },
  {
   "cell_type": "code",
   "execution_count": 72,
   "metadata": {},
   "outputs": [],
   "source": [
    "total_data = pd.concat([seconds_from_epoch_data,regular_date_format_data])"
   ]
  },
  {
   "cell_type": "markdown",
   "metadata": {},
   "source": [
    "**validate there is'nt any seconds from epoch format **"
   ]
  },
  {
   "cell_type": "code",
   "execution_count": 73,
   "metadata": {},
   "outputs": [
    {
     "data": {
      "text/plain": [
       "0"
      ]
     },
     "execution_count": 73,
     "metadata": {},
     "output_type": "execute_result"
    }
   ],
   "source": [
    "Date_Parser_Lib.Rows_Contain_Seconds_From_Epoch_Format(total_data,feature_name)"
   ]
  },
  {
   "cell_type": "markdown",
   "metadata": {},
   "source": [
    "**Parse created_at column to create new numeric features**"
   ]
  },
  {
   "cell_type": "code",
   "execution_count": 74,
   "metadata": {},
   "outputs": [
    {
     "data": {
      "image/png": "[encoded data removed]",
      "text/plain": [
       "<matplotlib.figure.Figure at 0x25a801f3f98>"
      ]
     },
     "metadata": {},
     "output_type": "display_data"
    }
   ],
   "source": [
    "new_features_names,features_corr = Date_Parser_Lib.Parse_Feature_and_Print_Corr(total_data, \n",
    "                                                                  feature_name, \n",
    "                                                                  'bot', \n",
    "                                                                  date_format_ceated_at)"
   ]
  },
  {
   "cell_type": "markdown",
   "metadata": {},
   "source": [
    "**New features correlation**"
   ]
  },
  {
   "cell_type": "code",
   "execution_count": 75,
   "metadata": {},
   "outputs": [
    {
     "data": {
      "text/plain": [
       "created_at_day_of_the_week    0.013283\n",
       "created_at_month              0.337823\n",
       "created_at_day_in_month       0.081095\n",
       "created_at_hour               0.041911\n",
       "created_at_minute             0.010460\n",
       "created_at_second             0.002967\n",
       "created_at_year               0.226520\n",
       "bot                           1.000000\n",
       "Name: bot, dtype: float64"
      ]
     },
     "execution_count": 75,
     "metadata": {},
     "output_type": "execute_result"
    }
   ],
   "source": [
    "features_corr['bot']"
   ]
  },
  {
   "cell_type": "markdown",
   "metadata": {},
   "source": [
    "* **we cannot rely on the created year, as new bots created  all the time.**<br>\n",
    "* **we will check the created_at_month feature<br>**\n",
    " * We assume maybe there is a connection between the created month to bot accounts <br>\n",
    "* **There isn't a distinct connection between all the remains new features to the target feature.**"
   ]
  },
  {
   "cell_type": "code",
   "execution_count": 76,
   "metadata": {},
   "outputs": [
    {
     "data": {
      "text/plain": [
       "2     3217\n",
       "3     2009\n",
       "6     1468\n",
       "1     1419\n",
       "5      489\n",
       "9      484\n",
       "7      467\n",
       "8      425\n",
       "4      311\n",
       "10     213\n",
       "12     200\n",
       "11     192\n",
       "Name: created_at_month, dtype: int64"
      ]
     },
     "execution_count": 76,
     "metadata": {},
     "output_type": "execute_result"
    }
   ],
   "source": [
    "total_data[total_data['bot']==1]['created_at_month'].value_counts(dropna = False)"
   ]
  },
  {
   "cell_type": "code",
   "execution_count": 77,
   "metadata": {},
   "outputs": [
    {
     "data": {
      "text/plain": [
       "1     506\n",
       "3     478\n",
       "6     472\n",
       "4     470\n",
       "11    460\n",
       "10    458\n",
       "2     455\n",
       "7     453\n",
       "12    450\n",
       "5     446\n",
       "8     393\n",
       "9     383\n",
       "Name: created_at_month, dtype: int64"
      ]
     },
     "execution_count": 77,
     "metadata": {},
     "output_type": "execute_result"
    }
   ],
   "source": [
    "total_data[total_data['bot']==0]['created_at_month'].value_counts(dropna = False)"
   ]
  },
  {
   "cell_type": "markdown",
   "metadata": {},
   "source": [
    "**February and March months are the most frequent months for bot accounts creation** <br>\n",
    "**Binning according to those months**"
   ]
  },
  {
   "cell_type": "code",
   "execution_count": 78,
   "metadata": {},
   "outputs": [
    {
     "name": "stdout",
     "output_type": "stream",
     "text": [
      "Feature-target correlation: 0.29902045981090875\n"
     ]
    }
   ],
   "source": [
    "total_data['is_february_march'] = (total_data['created_at_month'] == 2) | (total_data['created_at_month'] == 3)\n",
    "print(\"Feature-target correlation:\",total_data['is_february_march'].corr(total_data['bot']))"
   ]
  },
  {
   "cell_type": "markdown",
   "metadata": {},
   "source": [
    "**Binning according to top 4 months for bot accounts creation**"
   ]
  },
  {
   "cell_type": "code",
   "execution_count": 79,
   "metadata": {},
   "outputs": [
    {
     "name": "stdout",
     "output_type": "stream",
     "text": [
      "Feature-target correlation: 0.37974963107802034\n"
     ]
    }
   ],
   "source": [
    "top_bot_months = [1,2,3,6]\n",
    "total_data['is_top_month'] = total_data.apply(lambda x: \n",
    "                                              1 if x['created_at_month'] in top_bot_months \n",
    "                                              else 0,\n",
    "                                             axis = 1)\n",
    "print(\"Feature-target correlation:\",total_data['is_top_month'].corr(total_data['bot']))"
   ]
  },
  {
   "cell_type": "markdown",
   "metadata": {},
   "source": [
    "**We managed to create new feature with correlation a little higher from the month feature. **"
   ]
  },
  {
   "cell_type": "markdown",
   "metadata": {},
   "source": [
    "#### Remove created_at feature"
   ]
  },
  {
   "cell_type": "code",
   "execution_count": 80,
   "metadata": {},
   "outputs": [],
   "source": [
    "total_data.drop([feature_name], axis = 1, inplace = True)"
   ]
  },
  {
   "cell_type": "markdown",
   "metadata": {},
   "source": [
    "### 3.2.2. Updated column"
   ]
  },
  {
   "cell_type": "markdown",
   "metadata": {},
   "source": [
    "**This column was added by the researchers and it is the same value at each dataset file.<br> \n",
    "We will remove this feature.**"
   ]
  },
  {
   "cell_type": "code",
   "execution_count": 81,
   "metadata": {},
   "outputs": [],
   "source": [
    "total_data.drop(['updated'], axis = 1, inplace = True)"
   ]
  },
  {
   "cell_type": "markdown",
   "metadata": {},
   "source": [
    "### 3.2.3. timestamp column"
   ]
  },
  {
   "cell_type": "markdown",
   "metadata": {},
   "source": [
    "**This column was added by the researchers and isn't part of twitter's API.<br> \n",
    "We will remove this feature.**"
   ]
  },
  {
   "cell_type": "code",
   "execution_count": 82,
   "metadata": {},
   "outputs": [],
   "source": [
    "total_data.drop(['timestamp'], axis = 1, inplace = True)"
   ]
  },
  {
   "cell_type": "markdown",
   "metadata": {},
   "source": [
    "## 3.3. Textual User Features (without description)"
   ]
  },
  {
   "cell_type": "markdown",
   "metadata": {},
   "source": [
    " We devided the text features to 3 groups:\n",
    "* Color features\n",
    "* Location feature\n",
    "* General text features\n",
    "\n",
    "each group was treated in a slightly different way."
   ]
  },
  {
   "cell_type": "markdown",
   "metadata": {},
   "source": [
    "#### Text Features List"
   ]
  },
  {
   "cell_type": "code",
   "execution_count": 83,
   "metadata": {},
   "outputs": [
    {
     "name": "stdout",
     "output_type": "stream",
     "text": [
      "\u001b[1m\u001b[4mText features:\u001b[0m\u001b[0m\n",
      "description\n",
      "lang\n",
      "location\n",
      "name\n",
      "profile_background_color\n",
      "profile_background_image_url\n",
      "profile_background_image_url_https\n",
      "profile_banner_url\n",
      "profile_image_url\n",
      "profile_image_url_https\n",
      "profile_link_color\n",
      "profile_sidebar_border_color\n",
      "profile_sidebar_fill_color\n",
      "screen_name\n",
      "time_zone\n",
      "url\n",
      "profile_text_color\n"
     ]
    }
   ],
   "source": [
    "groups_types = total_data.columns.to_series().groupby(df.dtypes).groups\n",
    "str_cols_names = [v \n",
    "                  for k, v in groups_types.items() \n",
    "                  if k.name == 'object'][0]\n",
    "\n",
    "if 'profile_text_color' not in str_cols_names:\n",
    "    str_cols_names = str_cols_names.append(pd.Index(['profile_text_color']))\n",
    "\n",
    "print('{0}{1}{2}{3}{3}'.format(txt_format.BOLD,\n",
    "                               txt_format.UNDERLINE,\n",
    "                               'Text features:',\n",
    "                               txt_format.END))\n",
    "\n",
    "for col_name in str_cols_names:\n",
    "    print(col_name)"
   ]
  },
  {
   "cell_type": "markdown",
   "metadata": {},
   "source": [
    "### 3.3.1. General Text Features"
   ]
  },
  {
   "cell_type": "markdown",
   "metadata": {},
   "source": [
    "For each general text feature we added 5 new numeric features:\n",
    "* <u>Replace a string with unique value:</u> \n",
    "  * defined unique mapping from feature values to int and apply to the feature values.\n",
    "* <u>Replace missing values by unique mapping by mode:</u>  \n",
    "  * For the features created by the unique values, there are missing values (marked as enpty string). We will replace those values by mode. \n",
    "  * We split the mode replacment to two options: \n",
    "   * If all the nan values is of bot account: replace the missing values by the bot mode value of the feature.    \n",
    "   * else replace by feature mode. \n",
    "* <u>Replace missing values by unique mapping by distribution:</u> \n",
    " * same as for the mode case, only we replace the missing values from feature distribution. \n",
    "* <u>Binning by is most common:</u>  \n",
    " * For features we detected a single value that is the most common value, we created a new feature indicating if the sample contains the most common value or not.  \n",
    "* <u>Replace a string with length:</u>\n",
    " * Replace each string with it's length."
   ]
  },
  {
   "cell_type": "code",
   "execution_count": 84,
   "metadata": {},
   "outputs": [],
   "source": [
    "import Text_Features_Lib"
   ]
  },
  {
   "cell_type": "markdown",
   "metadata": {},
   "source": [
    "\n",
    "**Detect if all missing values is of bot account.**"
   ]
  },
  {
   "cell_type": "code",
   "execution_count": 85,
   "metadata": {},
   "outputs": [],
   "source": [
    "def Is_All_Nan_of_Bot(df, feature_name):\n",
    "    bot_nan_num = np.sum(df[df['bot'] == 1][feature_name]=='') \n",
    "    if bot_nan_num == 0:\n",
    "        return False\n",
    "    return np.sum(df[feature_name]=='') == bot_nan_num"
   ]
  },
  {
   "cell_type": "markdown",
   "metadata": {},
   "source": [
    "**most common values dictionary**"
   ]
  },
  {
   "cell_type": "code",
   "execution_count": 86,
   "metadata": {},
   "outputs": [],
   "source": [
    "features_most_common_values = {\n",
    "    'lang': 'en',\n",
    "    'time_zone': '',\n",
    "    'profile_banner_url': '',\n",
    "    'profile_background_image_url': 'http://a0.twimg.com/images/themes/theme1/bg.png',\n",
    "    'profile_background_image_url_https': 'https://si0.twimg.com/images/themes/theme1/bg.png',\n",
    "    'profile_background_color': 'C0DEED',\n",
    "    'profile_link_color': '0084B4',\n",
    "    'profile_sidebar_border_color': 'C0DEED',\n",
    "    'profile_sidebar_fill_color': 'DDEEF6',\n",
    "    'profile_text_color':'333333',\n",
    "    'url': 'https://t.co/DByWt45HZj'\n",
    "}"
   ]
  },
  {
   "cell_type": "markdown",
   "metadata": {},
   "source": [
    "**General features list**"
   ]
  },
  {
   "cell_type": "code",
   "execution_count": 87,
   "metadata": {
    "scrolled": true
   },
   "outputs": [
    {
     "name": "stdout",
     "output_type": "stream",
     "text": [
      "lang\n",
      "location\n",
      "name\n",
      "profile_background_image_url\n",
      "profile_background_image_url_https\n",
      "profile_banner_url\n",
      "profile_image_url\n",
      "profile_image_url_https\n",
      "screen_name\n",
      "time_zone\n",
      "url\n"
     ]
    }
   ],
   "source": [
    "g_txt_features = [feature \n",
    "                for feature in str_cols_names \n",
    "                if 'color' not in feature\n",
    "                 and feature != 'description']\n",
    "for feature in g_txt_features:\n",
    "    print(feature)"
   ]
  },
  {
   "cell_type": "markdown",
   "metadata": {},
   "source": [
    "**Create new features**"
   ]
  },
  {
   "cell_type": "code",
   "execution_count": 88,
   "metadata": {},
   "outputs": [],
   "source": [
    "total_data.drop('description', axis = 1, inplace = True)\n",
    "str_cols_names = str_cols_names.drop('description')\n",
    "\n",
    "for feature_name in g_txt_features:\n",
    "    use_bot_mode = Is_All_Nan_of_Bot(total_data, feature_name)\n",
    "    \n",
    "    if feature_name == 'lang':\n",
    "        #unite same lang\n",
    "        total_data[feature_name] = total_data[feature_name].str.lower()\n",
    "    \n",
    "    Text_Features_Lib.Add_Numeric_Features_From_Str(total_data, \n",
    "                                                    feature_name, \n",
    "                                                    features_most_common_values, \n",
    "                                                    use_bot_mode)\n",
    "    \n",
    "    if feature_name != 'location':\n",
    "        total_data.drop(feature_name, axis = 1, inplace = True)\n",
    "        str_cols_names = str_cols_names.drop(feature_name)"
   ]
  },
  {
   "cell_type": "markdown",
   "metadata": {},
   "source": [
    "### 3.3.2. Location Features"
   ]
  },
  {
   "cell_type": "markdown",
   "metadata": {},
   "source": [
    "We created locations binning for the this feature, and assigned each location a unique number.\n",
    "The bins were chosen by frequency of appearances of locations - U.S, Italy, Europe w.o Italy, Asia+Oceania , Nan and the rest of the world  "
   ]
  },
  {
   "cell_type": "code",
   "execution_count": 89,
   "metadata": {},
   "outputs": [],
   "source": [
    "import Location_Lib"
   ]
  },
  {
   "cell_type": "code",
   "execution_count": 90,
   "metadata": {},
   "outputs": [],
   "source": [
    "total_data['location_binning'] = total_data['location'].apply(Location_Lib.checkCountry)"
   ]
  },
  {
   "cell_type": "code",
   "execution_count": 91,
   "metadata": {},
   "outputs": [
    {
     "name": "stdout",
     "output_type": "stream",
     "text": [
      "Feature-target correlation: -0.13891622257780925\n"
     ]
    }
   ],
   "source": [
    "print(\"Feature-target correlation:\",total_data['location_binning'].corr(total_data['bot']))"
   ]
  },
  {
   "cell_type": "code",
   "execution_count": 92,
   "metadata": {},
   "outputs": [],
   "source": [
    "total_data.drop('location', axis = 1, inplace = True)\n",
    "str_cols_names = str_cols_names.drop('location')"
   ]
  },
  {
   "cell_type": "markdown",
   "metadata": {},
   "source": [
    "### 3.3.3. Color Features\n",
    "For each color feature we added 10 new numeric features:\n",
    "* Creating 4 general numeric features from text features (mentioned on 3.3.1), except for the length feature\n",
    " * The color features contains 6 characters, hence the legth feature is meaningless.\n",
    "* <u> Binning by main colors: </u>\n",
    " * We defined 12 main colors: black, white, blue, red, green, pink, brown, purple, grey, yellow, orange, turquoise. We mapped the main colors to int values. We performed the binning by calculating the nearest color (defined as the color with the minimum distance to the current color). \n",
    "* <u>Replace missing values in color binning by mode:</u>  \n",
    " * Same as in the general case\n",
    "* <u>Replace missing values in color binning by distribution:</u>  \n",
    " * Same as in the general case\n",
    "* <u> Binning by top 3 colors: </u>\n",
    " * After binning by main colors, we will perform more specific binning to top 3 colors only for each feature. The top 3 colors does not include the nan values, hence the total binning if of four colors (0 for the missing values). \n",
    "   * We tested several options for the top colors number, and discovered that 3 is the most effective number to choose. \n",
    "* <u>Replace missing values in top color binning by mode:</u>  \n",
    " * Same as in the general case\n",
    "* <u>Replace missing values in top color binning by distribution:</u> \n",
    " * Same as in the general case"
   ]
  },
  {
   "cell_type": "code",
   "execution_count": 93,
   "metadata": {},
   "outputs": [],
   "source": [
    "import Color_Features_Lib"
   ]
  },
  {
   "cell_type": "markdown",
   "metadata": {},
   "source": [
    "**Main colors dict**"
   ]
  },
  {
   "cell_type": "code",
   "execution_count": 94,
   "metadata": {},
   "outputs": [],
   "source": [
    "main_colors = {\n",
    "    (0,0,0): 1, # black\n",
    "    (255,255,255): 2, # white\n",
    "    (0,0,255): 3, # blue\n",
    "    (255,0,0): 4, # red\n",
    "    (0,255,0): 5, # green\n",
    "    (255,192,203): 6, # pink\n",
    "    (165,42,42): 7, # brown\n",
    "    (128,0,128): 8, # purple\n",
    "    (128,128,128): 9, # grey\n",
    "    (255,255,0): 10, # yellow\n",
    "    (255,165,0): 11, # orange\n",
    "    (64,224,208): 12 # Turquoise\n",
    "}"
   ]
  },
  {
   "cell_type": "code",
   "execution_count": 95,
   "metadata": {},
   "outputs": [],
   "source": [
    "Color_Features_Lib.main_colors = main_colors"
   ]
  },
  {
   "cell_type": "markdown",
   "metadata": {},
   "source": [
    "**Color features list**"
   ]
  },
  {
   "cell_type": "code",
   "execution_count": 96,
   "metadata": {},
   "outputs": [
    {
     "name": "stdout",
     "output_type": "stream",
     "text": [
      "profile_background_color\n",
      "profile_link_color\n",
      "profile_sidebar_border_color\n",
      "profile_sidebar_fill_color\n",
      "profile_text_color\n"
     ]
    }
   ],
   "source": [
    "color_features = [feature for feature in str_cols_names if 'color' in feature]\n",
    "for feature in color_features: \n",
    "    print(feature)"
   ]
  },
  {
   "cell_type": "markdown",
   "metadata": {},
   "source": [
    "**Create new features**"
   ]
  },
  {
   "cell_type": "code",
   "execution_count": 97,
   "metadata": {},
   "outputs": [],
   "source": [
    "for feature_name in color_features:\n",
    "    \n",
    "    apply_str = False\n",
    "    if feature_name == 'profile_link_color':\n",
    "        apply_str = True\n",
    "        \n",
    "    Color_Features_Lib.Prepare_Color_Features(total_data, \n",
    "                                              feature_name, \n",
    "                                              features_most_common_values, \n",
    "                                              apply_str)\n",
    "    \n",
    "    total_data.drop(feature_name, axis = 1, inplace = True)\n",
    "    str_cols_names = str_cols_names.drop(feature_name)"
   ]
  },
  {
   "cell_type": "code",
   "execution_count": 98,
   "metadata": {},
   "outputs": [
    {
     "name": "stdout",
     "output_type": "stream",
     "text": [
      "0\n"
     ]
    }
   ],
   "source": [
    "print(len(str_cols_names))"
   ]
  },
  {
   "cell_type": "markdown",
   "metadata": {},
   "source": [
    "**All text features have been parsed**"
   ]
  },
  {
   "cell_type": "code",
   "execution_count": 99,
   "metadata": {},
   "outputs": [],
   "source": [
    "from importlib import reload"
   ]
  },
  {
   "cell_type": "markdown",
   "metadata": {},
   "source": [
    "### Correlation between new features to bot"
   ]
  },
  {
   "cell_type": "code",
   "execution_count": 100,
   "metadata": {},
   "outputs": [
    {
     "name": "stdout",
     "output_type": "stream",
     "text": [
      "\u001b[1m\u001b[4mlang\u001b[0m\u001b[0m\n",
      "lang_unique : -0.03287117704989351\n",
      "lang_unique_mode : 0.01183480885377998\n",
      "lang_unique_dist : 0.01778939862367204\n",
      "lang_most_common : 0.15840213527050878\n",
      "lang_len : -0.16811459090492054\n",
      "\n",
      "\n",
      "\u001b[1m\u001b[4mlocation\u001b[0m\u001b[0m\n",
      "location_unique : -0.16574424075179983\n",
      "location_unique_mode : -0.16574403417160993\n",
      "location_unique_dist : -0.16574403417160993\n",
      "location_len : -0.18357549027348571\n",
      "\n",
      "\n",
      "\u001b[1m\u001b[4mname\u001b[0m\u001b[0m\n",
      "name_unique : 0.24008069529230183\n",
      "name_unique_mode : 0.2402211043742586\n",
      "name_unique_dist : 0.24022449379990587\n",
      "name_len : 0.2142579351815448\n",
      "\n",
      "\n",
      "\u001b[1m\u001b[4mprofile_background_image_url\u001b[0m\u001b[0m\n",
      "profile_background_image_url_unique : 0.26402357308773367\n",
      "profile_background_image_url_unique_mode : 0.264054217654313\n",
      "profile_background_image_url_unique_dist : 0.26409833459140414\n",
      "profile_background_image_url_most_common : 0.19326538231421855\n",
      "profile_background_image_url_len : -0.02827957277938353\n",
      "\n",
      "\n",
      "\u001b[1m\u001b[4mprofile_background_image_url_https\u001b[0m\u001b[0m\n",
      "profile_background_image_url_https_unique : 0.2708419356922551\n",
      "profile_background_image_url_https_unique_mode : 0.2708917314805117\n",
      "profile_background_image_url_https_unique_dist : 0.3075271065389858\n",
      "profile_background_image_url_https_most_common : 0.1948495580741694\n",
      "profile_background_image_url_https_len : -0.1476113685039211\n",
      "\n",
      "\n",
      "\u001b[1m\u001b[4mprofile_banner_url\u001b[0m\u001b[0m\n",
      "profile_banner_url_unique : -0.2597021183138045\n",
      "profile_banner_url_unique_mode : -0.2597021183138045\n",
      "profile_banner_url_unique_dist : 0.2589805387074412\n",
      "profile_banner_url_most_common : 0.630826700037045\n",
      "profile_banner_url_len : -0.6334670314652071\n",
      "\n",
      "\n",
      "\u001b[1m\u001b[4mprofile_image_url\u001b[0m\u001b[0m\n",
      "profile_image_url_unique : 0.23732965184189236\n",
      "profile_image_url_unique_mode : 0.23741061193367594\n",
      "profile_image_url_unique_dist : 0.23746688134283578\n",
      "profile_image_url_len : 0.007942364558043747\n",
      "\n",
      "\n",
      "\u001b[1m\u001b[4mprofile_image_url_https\u001b[0m\u001b[0m\n",
      "profile_image_url_https_unique : 0.24345455548421222\n",
      "profile_image_url_https_unique_mode : 0.24345455548421222\n",
      "profile_image_url_https_unique_dist : 0.3300508411147384\n",
      "profile_image_url_https_len : -0.14955114785659512\n",
      "\n",
      "\n",
      "\u001b[1m\u001b[4mscreen_name\u001b[0m\u001b[0m\n",
      "screen_name_unique : 0.2376078742385856\n",
      "screen_name_unique_mode : 0.2376078742385856\n",
      "screen_name_unique_dist : 0.23768191884868492\n",
      "screen_name_len : 0.2567251398304705\n",
      "\n",
      "\n",
      "\u001b[1m\u001b[4mtime_zone\u001b[0m\u001b[0m\n",
      "time_zone_unique : -0.36857292506672146\n",
      "time_zone_unique_mode : -0.36857292506672146\n",
      "time_zone_unique_dist : -0.08238659933271192\n",
      "time_zone_most_common : 0.4360946909896995\n",
      "time_zone_len : -0.21234308415168515\n",
      "\n",
      "\n",
      "\u001b[1m\u001b[4murl\u001b[0m\u001b[0m\n",
      "url_unique : -0.016655328021941973\n",
      "url_unique_mode : -0.016654894657629798\n",
      "url_unique_dist : -0.016522953201887233\n",
      "url_most_common : 0.1753381644911017\n",
      "url_len : -0.16267299827213128\n",
      "\n",
      "\n",
      "\u001b[1m\u001b[4mprofile_background_color\u001b[0m\u001b[0m\n",
      "profile_background_color_unique : 0.34642221550450064\n",
      "profile_background_color_unique_mode : 0.3467434445140376\n",
      "profile_background_color_unique_dist : 0.37271253490410233\n",
      "profile_background_color_most_common : -0.05423184686749607\n",
      "profile_background_color_binning : -0.20057941119336095\n",
      "profile_background_color_binning_mode : -0.17368624155130746\n",
      "profile_background_color_binning_dist : -0.15226042555360525\n",
      "profile_background_color_top_colors : 0.11592365697470343\n",
      "profile_background_color_top_colors_mode : 0.26955707477887464\n",
      "profile_background_color_top_colors_dist : 0.26451872035745094\n",
      "\n",
      "\n",
      "\u001b[1m\u001b[4mprofile_link_color\u001b[0m\u001b[0m\n",
      "profile_link_color_unique : -0.21846032058625944\n",
      "profile_link_color_unique_mode : -0.2181944373137663\n",
      "profile_link_color_unique_dist : -0.18992590339984605\n",
      "profile_link_color_most_common : -0.059945519960998776\n",
      "profile_link_color_binning : -0.3105889933252882\n",
      "profile_link_color_binning_mode : -0.21588714154762864\n",
      "profile_link_color_binning_dist : -0.24150327226397705\n",
      "profile_link_color_top_colors : -0.33920099276158827\n",
      "profile_link_color_top_colors_mode : -0.24517492731871623\n",
      "profile_link_color_top_colors_dist : -0.27162667303558424\n",
      "\n",
      "\n",
      "\u001b[1m\u001b[4mprofile_sidebar_border_color\u001b[0m\u001b[0m\n",
      "profile_sidebar_border_color_unique : -0.18188102163196915\n",
      "profile_sidebar_border_color_unique_mode : -0.15978280597075378\n",
      "profile_sidebar_border_color_unique_dist : -0.16037880541022373\n",
      "profile_sidebar_border_color_most_common : -0.006099983953733173\n",
      "profile_sidebar_border_color_binning : -0.1302965815527638\n",
      "profile_sidebar_border_color_binning_mode : -0.09472741048999027\n",
      "profile_sidebar_border_color_binning_dist : -0.08341071305181995\n",
      "profile_sidebar_border_color_top_colors : -0.08067751451551322\n",
      "profile_sidebar_border_color_top_colors_mode : 0.1090120918019836\n",
      "profile_sidebar_border_color_top_colors_dist : 0.08435227387535167\n",
      "\n",
      "\n",
      "\u001b[1m\u001b[4mprofile_sidebar_fill_color\u001b[0m\u001b[0m\n",
      "profile_sidebar_fill_color_unique : 0.05605481703255465\n",
      "profile_sidebar_fill_color_unique_mode : 0.0566264786840442\n",
      "profile_sidebar_fill_color_unique_dist : 0.06958228965374902\n",
      "profile_sidebar_fill_color_most_common : 0.20095946953233235\n",
      "profile_sidebar_fill_color_binning : -0.06609703403877236\n",
      "profile_sidebar_fill_color_binning_mode : -0.03680610307678977\n",
      "profile_sidebar_fill_color_binning_dist : -0.01718509808366272\n",
      "profile_sidebar_fill_color_top_colors : -0.1411046381081174\n",
      "profile_sidebar_fill_color_top_colors_mode : -0.11437423645980754\n",
      "profile_sidebar_fill_color_top_colors_dist : -0.08863209876815628\n",
      "\n",
      "\n",
      "\u001b[1m\u001b[4mprofile_text_color\u001b[0m\u001b[0m\n",
      "profile_text_color_unique : 0.09097958560114272\n",
      "profile_text_color_unique_mode : 0.09149335166439167\n",
      "profile_text_color_unique_dist : 0.1032331322557873\n",
      "profile_text_color_most_common : 0.06223332689749902\n",
      "profile_text_color_binning : -0.17798129993906894\n",
      "profile_text_color_binning_mode : 0.09667584557283268\n",
      "profile_text_color_binning_dist : 0.0769281687227971\n",
      "profile_text_color_top_colors : -0.14209120826329963\n",
      "profile_text_color_top_colors_mode : 0.1817138216797606\n",
      "profile_text_color_top_colors_dist : 0.1488165806538171\n",
      "\n",
      "\n"
     ]
    }
   ],
   "source": [
    "for (key,value) in Text_Features_Lib.correlation_dict.items():\n",
    "    print('{0}{1}{2}{3}{3}'.format(txt_format.BOLD,\n",
    "                                   txt_format.UNDERLINE,\n",
    "                                   key,\n",
    "                                   txt_format.END))\n",
    "    \n",
    "    for (sub_key,sub_value) in value.items():\n",
    "        print('{0} : {1}'.format(sub_key,sub_value))\n",
    "    print('\\n')"
   ]
  },
  {
   "cell_type": "markdown",
   "metadata": {},
   "source": [
    "## 3.4. Tweet Features"
   ]
  },
  {
   "cell_type": "markdown",
   "metadata": {},
   "source": [
    "The following blocks in comment describe how tweet_features_filled1.csv and tweet_var_data_full_with_threshold.csv were created"
   ]
  },
  {
   "cell_type": "code",
   "execution_count": 101,
   "metadata": {},
   "outputs": [],
   "source": [
    "import Tweet_Features_Lib"
   ]
  },
  {
   "cell_type": "code",
   "execution_count": 102,
   "metadata": {},
   "outputs": [],
   "source": [
    "run_tweet_var_calculation = 0"
   ]
  },
  {
   "cell_type": "markdown",
   "metadata": {},
   "source": [
    "### Calculating tweet_var and 500<range<750"
   ]
  },
  {
   "cell_type": "markdown",
   "metadata": {},
   "source": [
    "Note that this calculation takes hours"
   ]
  },
  {
   "cell_type": "code",
   "execution_count": 103,
   "metadata": {},
   "outputs": [],
   "source": [
    "if run_tweet_var_calculation: #data is read in the functions\n",
    "    Tweet_Features_Lib.generate_all_tweets_datasets(DATASETS_DIR,TWEETS_DIR,\n",
    "                                                   GENUINE_TWEETS_DIR,BOT_TWEETS_DIR)\n",
    "    tweet_var_df = Tweet_Features_Lib.run_tweet_var_calculation()"
   ]
  },
  {
   "cell_type": "markdown",
   "metadata": {},
   "source": [
    "### Loading Tweets Data - for tweet-metadata features calculation"
   ]
  },
  {
   "cell_type": "code",
   "execution_count": 104,
   "metadata": {},
   "outputs": [],
   "source": [
    "if run_full_process:\n",
    "    import Tweet_Features_Lib\n",
    "    ### loading the tweet data\n",
    "    tweet_data = pd.DataFrame()\n",
    "    tweets_dir =  os.path.join(os.getcwd(), DATASETS_DIR, TWEETS_DIR)\n",
    "    genuine_tweets_files,bot_tweets_files = Tweet_Features_Lib.get_tweets_files_names(DATASETS_DIR, \n",
    "                                                                                      TWEETS_DIR, \n",
    "                                                                                      GENUINE_TWEETS_DIR, \n",
    "                                                                                      BOT_TWEETS_DIR\n",
    "                                                                                     )\n",
    "    \n",
    "    \n",
    "    \n",
    "    genuine_tweets_files = [os.path.join(tweets_dir, GENUINE_TWEETS_DIR, file)\n",
    "                           for file in genuine_tweets_files]   \n",
    "    \n",
    "    \n",
    "    bot_tweets_files = [os.path.join(tweets_dir, BOT_TWEETS_DIR, file)\n",
    "                           for file in bot_tweets_files] \n",
    "    \n",
    "    tweets_datasets = bot_tweets_files + genuine_tweets_files\n",
    "    for file_name in tweets_datasets:\n",
    "        print('loading ' + file_name)\n",
    "\n",
    "\n",
    "        df_t = pd.read_csv(file_name, usecols=['id','text','user_id','retweet_count',\n",
    "                                             'favorite_count','num_hashtags','num_urls',\n",
    "                                             'num_mentions','created_at'],\n",
    "                        dtype={'id':str,'text':str,'user_is':str,'retweet_count':float,\n",
    "                              'favorite_count':float,'num_hashtags':float,'num_urls':float,\n",
    "                               'num_mentions':float,'created_at':str})\n",
    "        \n",
    "        if 'traditional_spambots_1_tweets_' in file_name:\n",
    "            temp_date = df_t['created_at'].apply(Date_Parser_Lib.convert_seconds_from_epoch_to_date_format,\n",
    "                                               args = (date_format_ceated_at,))\n",
    "            df_t['created_at'] = pd.to_datetime(temp_date)\n",
    "        else:\n",
    "            df_t['created_at'] = pd.to_datetime(df_t['created_at'])\n",
    "        \n",
    "        if 'genuine' in file_name or 'E13' in file_name or 'TFP' in file_name: \n",
    "            df_t['bot'] = 0\n",
    "        else:\n",
    "            df_t['bot'] = 1\n",
    "        tweet_data = pd.concat([tweet_data,df_t], ignore_index = True)"
   ]
  },
  {
   "cell_type": "markdown",
   "metadata": {},
   "source": [
    "### Calculating features based on tweet metadata"
   ]
  },
  {
   "cell_type": "code",
   "execution_count": 105,
   "metadata": {},
   "outputs": [],
   "source": [
    "if run_full_process:\n",
    "    ### check for nulls\n",
    "    null_columns=tweet_data.columns[tweet_data.isnull().any()]\n",
    "    tweet_data[null_columns].isnull().sum()\n",
    "\n",
    "    ##remove tweets with no text\n",
    "    tweet_data.dropna(subset=['text'],inplace=True)\n",
    "\n",
    "    ##fill nan favorite count with 0\n",
    "    tweet_data.fillna(value={'favorite_count':0},inplace=True)\n",
    "\n",
    "    ### adding the proportion featres\n",
    "    user_data_partial = Tweet_Features_Lib.calc_prop_tweet_features(tweet_data)\n",
    "    user_data_partial.shape[0]"
   ]
  },
  {
   "cell_type": "markdown",
   "metadata": {},
   "source": [
    "**since not all users in the dataset have tweets, we fill the nulls with the mean values of the correct type: human users get the mean values for humans and bots get the mean values for bots (done for each new feature). \n",
    "In the following brackets the mean values are computed**"
   ]
  },
  {
   "cell_type": "code",
   "execution_count": 106,
   "metadata": {},
   "outputs": [],
   "source": [
    "if run_full_process:\n",
    "    ### we want to fill nulls with mean according to bot/human:\n",
    "    human_data = user_data_partial[user_data_partial['bot']==0].copy()\n",
    "    bot_data = user_data_partial[user_data_partial['bot']==1].copy()\n",
    "    #droping nulls\n",
    "    cols = ['p_retweet','p_favorites','p_hashtags','p_urls','p_mentions','avg_tweets_per_hour']\n",
    "    human_data.dropna(subset=cols,inplace=True)\n",
    "    bot_data.dropna(subset=cols,inplace=True)\n",
    "\n",
    "    #these will contain the maen value of each column\n",
    "    human_dict = {}\n",
    "    bot_dict = {}\n",
    "    for col in cols:\n",
    "        human_dict[col]=human_data[col].mean()\n",
    "        bot_dict[col]=bot_data[col].mean()\n",
    "    \n",
    "    ### merge with total data\n",
    "    temp_total = pd.merge(user_data_partial,total_data, how = 'outer')\n",
    "    temp_total.dropna(subset=['id'], inplace=True) #remove lines without id, if exist\n",
    "    np.sum(temp_total.isnull())"
   ]
  },
  {
   "cell_type": "markdown",
   "metadata": {},
   "source": [
    "**fill nulls**"
   ]
  },
  {
   "cell_type": "code",
   "execution_count": 107,
   "metadata": {},
   "outputs": [],
   "source": [
    "if run_full_process:\n",
    "    ### filling nulls and saving\n",
    "    human_data = temp_total[temp_total['bot']==0].copy()\n",
    "    bot_data = temp_total[temp_total['bot']==1].copy()\n",
    "    human_data.fillna(human_dict,inplace=True)\n",
    "    bot_data.fillna(bot_dict,inplace=True)\n",
    "    tot = pd.concat([human_data,bot_data],ignore_index=True)\n",
    "    features=['id','p_retweet','p_favorites','p_hashtags','p_urls','p_mentions','avg_tweets_per_hour']\n",
    "    tot.to_csv('tweet_features_filled.csv',columns=features) #add Datasets"
   ]
  },
  {
   "cell_type": "code",
   "execution_count": 108,
   "metadata": {},
   "outputs": [],
   "source": [
    "levenshtein_data = levenshtein_data.drop(['Unnamed: 0'], axis=1)"
   ]
  },
  {
   "cell_type": "code",
   "execution_count": 109,
   "metadata": {},
   "outputs": [
    {
     "data": {
      "text/plain": [
       "<matplotlib.axes._subplots.AxesSubplot at 0x25a80d976a0>"
      ]
     },
     "execution_count": 109,
     "metadata": {},
     "output_type": "execute_result"
    },
    {
     "data": {
      "text/plain": [
       "<matplotlib.figure.Figure at 0x25a80e276d8>"
      ]
     },
     "metadata": {},
     "output_type": "display_data"
    },
    {
     "data": {
      "image/png": "[encoded data removed]",
      "text/plain": [
       "<matplotlib.figure.Figure at 0x25a80d7def0>"
      ]
     },
     "metadata": {},
     "output_type": "display_data"
    }
   ],
   "source": [
    "# after filling with mean\n",
    "df_tweet_var = pd.DataFrame({'bot_tweet_var':levenshtein_data[levenshtein_data.bot==1].tweet_var,\n",
    "                             'genuine_users_tweet_var': levenshtein_data[levenshtein_data.bot==0].tweet_var})\n",
    "plt.figure()\n",
    "df_tweet_var.plot.hist(title='Bot vs. Genuine Users Aerage Variation in Tweets')"
   ]
  },
  {
   "cell_type": "markdown",
   "metadata": {},
   "source": [
    "### Visualization of Tweet Variance for Human Users and the Bot Users Types"
   ]
  },
  {
   "cell_type": "code",
   "execution_count": 110,
   "metadata": {},
   "outputs": [],
   "source": [
    "trad_samp_file = os.path.join(DATASETS_DIR,'traditional_spambots_1_sample_lev.csv')\n",
    "trad_samp = pd.read_csv(trad_samp_file, usecols=['id','tweet_var'])\n",
    "\n",
    "soc1_samp_file = os.path.join(DATASETS_DIR,'social_spambots_1_sample_lev.csv')\n",
    "soc1_samp = pd.read_csv(soc1_samp_file, usecols=['id','tweet_var'])\n",
    "\n",
    "soc2_samp_file = os.path.join(DATASETS_DIR,'social_spambots_2_sample_lev.csv')\n",
    "soc2_samp = pd.read_csv(soc2_samp_file, usecols=['id','tweet_var'])\n",
    "\n",
    "soc3_samp_file = os.path.join(DATASETS_DIR,'social_spambots_3_sample_lev.csv')\n",
    "soc3_samp = pd.read_csv('Datasets/social_spambots_3_sample_lev.csv', usecols=['id','tweet_var'])\n",
    "\n",
    "fake_samp_file = os.path.join(DATASETS_DIR,'fake_followers_sample_lev.csv')\n",
    "fake_samp = pd.read_csv(fake_samp_file, usecols=['id','tweet_var'])\n",
    "\n",
    "human_samp_file = os.path.join(DATASETS_DIR,'human_100_frac0.1_lev.csv')\n",
    "human_samp = pd.read_csv(human_samp_file, usecols=['id','tweet_var'])"
   ]
  },
  {
   "cell_type": "code",
   "execution_count": 111,
   "metadata": {},
   "outputs": [
    {
     "data": {
      "text/plain": [
       "<matplotlib.axes._subplots.AxesSubplot at 0x25a8150c2e8>"
      ]
     },
     "execution_count": 111,
     "metadata": {},
     "output_type": "execute_result"
    },
    {
     "data": {
      "image/png": "[encoded data removed]",
      "text/plain": [
       "<matplotlib.figure.Figure at 0x25a80dfbd30>"
      ]
     },
     "metadata": {},
     "output_type": "display_data"
    }
   ],
   "source": [
    "plt.figure()\n",
    "trad_samp['tweet_var'].plot.hist(title='Variation in Tweets in Spambots')\n",
    "fake_samp['tweet_var'].plot.hist()\n",
    "soc1_samp['tweet_var'].plot.hist()\n",
    "soc2_samp['tweet_var'].plot.hist()\n",
    "soc3_samp['tweet_var'].plot.hist()"
   ]
  },
  {
   "cell_type": "markdown",
   "metadata": {},
   "source": [
    "As we can see from the diagram above, most of the bot are out of the range 500 and 750 (roughly)"
   ]
  },
  {
   "cell_type": "markdown",
   "metadata": {},
   "source": [
    "**statistical information of each bot type**"
   ]
  },
  {
   "cell_type": "code",
   "execution_count": 112,
   "metadata": {},
   "outputs": [
    {
     "name": "stdout",
     "output_type": "stream",
     "text": [
      "traditional spambots 1:\n",
      "count     200.000000\n",
      "mean      385.058622\n",
      "std       404.378679\n",
      "min         0.000000\n",
      "25%         0.000000\n",
      "50%       339.985675\n",
      "75%       640.328474\n",
      "max      2341.731794\n",
      "Name: tweet_var, dtype: float64\n",
      " \n",
      "fake followers:\n",
      " \n",
      "social spambots 1:\n",
      "count     200.000000\n",
      "mean      467.622703\n",
      "std       118.943907\n",
      "min       109.510938\n",
      "25%       430.853225\n",
      "50%       452.060784\n",
      "75%       483.257234\n",
      "max      1343.919084\n",
      "Name: tweet_var, dtype: float64\n",
      " \n",
      "social spambots 2:\n",
      "count     200.000000\n",
      "mean      768.363253\n",
      "std       108.417069\n",
      "min       542.275574\n",
      "25%       691.291718\n",
      "50%       760.613935\n",
      "75%       840.493483\n",
      "max      1055.846211\n",
      "Name: tweet_var, dtype: float64\n",
      " \n",
      "social spambots 3:\n",
      "count    200.000000\n",
      "mean     406.735286\n",
      "std       74.188779\n",
      "min      137.300949\n",
      "25%      385.506559\n",
      "50%      414.055154\n",
      "75%      440.053096\n",
      "max      776.997411\n",
      "Name: tweet_var, dtype: float64\n",
      " \n"
     ]
    }
   ],
   "source": [
    "print('traditional spambots 1:')\n",
    "print(trad_samp['tweet_var'].describe())\n",
    "print(' ')\n",
    "print('fake followers:')\n",
    "fake_samp['tweet_var'].describe()\n",
    "print(' ')\n",
    "print('social spambots 1:')\n",
    "print(soc1_samp['tweet_var'].describe())\n",
    "print(' ')\n",
    "print('social spambots 2:')\n",
    "print(soc2_samp['tweet_var'].describe())\n",
    "print(' ')\n",
    "print('social spambots 3:')\n",
    "print(soc3_samp['tweet_var'].describe())\n",
    "print(' ')"
   ]
  },
  {
   "cell_type": "code",
   "execution_count": 113,
   "metadata": {},
   "outputs": [
    {
     "data": {
      "text/plain": [
       "count     982.000000\n",
       "mean      597.920582\n",
       "std       258.451151\n",
       "min         0.000000\n",
       "25%       432.134656\n",
       "50%       604.751752\n",
       "75%       764.394582\n",
       "max      1771.212191\n",
       "Name: tweet_var, dtype: float64"
      ]
     },
     "execution_count": 113,
     "metadata": {},
     "output_type": "execute_result"
    },
    {
     "data": {
      "image/png": "[encoded data removed]",
      "text/plain": [
       "<matplotlib.figure.Figure at 0x25a80e275c0>"
      ]
     },
     "metadata": {},
     "output_type": "display_data"
    }
   ],
   "source": [
    "plt.figure()\n",
    "human_samp['tweet_var'].plot.hist(title='Variation in Tweets in Genuine Users')\n",
    "human_samp['tweet_var'].describe()"
   ]
  },
  {
   "cell_type": "markdown",
   "metadata": {},
   "source": [
    "**Adding tweet features to the total data**"
   ]
  },
  {
   "cell_type": "code",
   "execution_count": 114,
   "metadata": {},
   "outputs": [
    {
     "ename": "ValueError",
     "evalue": "Buffer dtype mismatch, expected 'Python object' but got 'long long'",
     "output_type": "error",
     "traceback": [
      "\u001b[1;31m---------------------------------------------------------------------------\u001b[0m",
      "\u001b[1;31mValueError\u001b[0m                                Traceback (most recent call last)",
      "\u001b[1;31mValueError\u001b[0m: Buffer dtype mismatch, expected 'Python object' but got 'long long'"
     ]
    },
    {
     "name": "stderr",
     "output_type": "stream",
     "text": [
      "Exception ignored in: 'pandas._libs.lib.is_bool_array'\n",
      "ValueError: Buffer dtype mismatch, expected 'Python object' but got 'long long'\n"
     ]
    }
   ],
   "source": [
    "total_data = pd.merge(user_data,total_data, how = 'outer')"
   ]
  },
  {
   "cell_type": "code",
   "execution_count": 115,
   "metadata": {},
   "outputs": [
    {
     "ename": "ValueError",
     "evalue": "Buffer dtype mismatch, expected 'Python object' but got 'long long'",
     "output_type": "error",
     "traceback": [
      "\u001b[1;31m---------------------------------------------------------------------------\u001b[0m",
      "\u001b[1;31mValueError\u001b[0m                                Traceback (most recent call last)",
      "\u001b[1;31mValueError\u001b[0m: Buffer dtype mismatch, expected 'Python object' but got 'long long'"
     ]
    },
    {
     "name": "stderr",
     "output_type": "stream",
     "text": [
      "Exception ignored in: 'pandas._libs.lib.is_bool_array'\n",
      "ValueError: Buffer dtype mismatch, expected 'Python object' but got 'long long'\n"
     ]
    }
   ],
   "source": [
    "total_data = pd.merge(levenshtein_data,total_data, how = 'outer')"
   ]
  },
  {
   "cell_type": "code",
   "execution_count": 116,
   "metadata": {},
   "outputs": [],
   "source": [
    "total_data = total_data.dropna(subset=['id'])\n",
    "if 'bot' in total_data.columns or 'tweet_var' in total_data.columns:\n",
    "    total_data = total_data.dropna(subset=['bot','tweet_var'])"
   ]
  },
  {
   "cell_type": "code",
   "execution_count": 117,
   "metadata": {},
   "outputs": [],
   "source": [
    "tweet_features = ['p_retweet','p_favorites','p_hashtags','p_urls','p_mentions','avg_tweets_per_hour','500<var<750']"
   ]
  },
  {
   "cell_type": "markdown",
   "metadata": {},
   "source": [
    "### Tweets - Target Feature Correlation"
   ]
  },
  {
   "cell_type": "code",
   "execution_count": 118,
   "metadata": {},
   "outputs": [
    {
     "data": {
      "image/png": "[encoded data removed]",
      "text/plain": [
       "<matplotlib.figure.Figure at 0x25a80297470>"
      ]
     },
     "metadata": {},
     "output_type": "display_data"
    }
   ],
   "source": [
    "corr_mtx = General_Lib.Plot_Correlation_Matrix(total_data, tweet_features + ['bot'])"
   ]
  },
  {
   "cell_type": "code",
   "execution_count": 119,
   "metadata": {},
   "outputs": [
    {
     "data": {
      "text/plain": [
       "p_retweet              0.078084\n",
       "p_favorites            0.034111\n",
       "p_hashtags             0.559934\n",
       "p_urls                 0.138514\n",
       "p_mentions             0.770703\n",
       "avg_tweets_per_hour    0.067625\n",
       "500<var<750            0.891961\n",
       "bot                    1.000000\n",
       "Name: bot, dtype: float64"
      ]
     },
     "execution_count": 119,
     "metadata": {},
     "output_type": "execute_result"
    }
   ],
   "source": [
    "corr_mtx['bot']"
   ]
  },
  {
   "cell_type": "code",
   "execution_count": 120,
   "metadata": {},
   "outputs": [],
   "source": [
    "tweet_features_for_models = ['p_hashtags','p_mentions','500<var<750']"
   ]
  },
  {
   "cell_type": "markdown",
   "metadata": {},
   "source": [
    "As we can see, p_hashtags,p_mentions and 500<var<750 are higly correlated to our target feature"
   ]
  },
  {
   "cell_type": "markdown",
   "metadata": {},
   "source": [
    "## 3.5. Description Feature"
   ]
  },
  {
   "cell_type": "markdown",
   "metadata": {},
   "source": [
    "Handling 'description' field created the need to translate descriptions to English in order to create BoW - a character limited process . In addition, a long preprocessing process was used in dictionary creation, and running it takes a long time.\n",
    "Therefore in some sections below we used the 'run_full_process' variable, in order to control running time."
   ]
  },
  {
   "cell_type": "code",
   "execution_count": 121,
   "metadata": {},
   "outputs": [
    {
     "name": "stdout",
     "output_type": "stream",
     "text": [
      "[nltk_data] Downloading package stopwords to\n",
      "[nltk_data]     C:\\Users\\DELL\\AppData\\Roaming\\nltk_data...\n",
      "[nltk_data]   Package stopwords is already up-to-date!\n"
     ]
    },
    {
     "data": {
      "text/plain": [
       "True"
      ]
     },
     "execution_count": 121,
     "metadata": {},
     "output_type": "execute_result"
    }
   ],
   "source": [
    "nltk.download('stopwords')"
   ]
  },
  {
   "cell_type": "code",
   "execution_count": 122,
   "metadata": {},
   "outputs": [],
   "source": [
    "try:\n",
    "    from yandex.Translater import Translater\n",
    "except ModuleNotFoundError as e:\n",
    "    #see if need user flag in university\n",
    "    !{sys.executable} -m pip install yandex-translater --user \n",
    "\n",
    "try:\n",
    "    from textblob import TextBlob, Word\n",
    "except ModuleNotFoundError as e:\n",
    "    !{sys.executable} -m pip install textblob --user\n",
    "    \n",
    "try:\n",
    "    import nltk\n",
    "except ModuleNotFoundError as e:\n",
    "    !{sys.executable} -m pip install nltk --user"
   ]
  },
  {
   "cell_type": "code",
   "execution_count": 123,
   "metadata": {},
   "outputs": [],
   "source": [
    "import Description"
   ]
  },
  {
   "cell_type": "code",
   "execution_count": 124,
   "metadata": {},
   "outputs": [],
   "source": [
    "if(run_full_process):\n",
    "    \n",
    "    nltk.download('punkt')\n",
    "    nltk.download('wordnet')\n",
    "    # # # # translating description # # # # #\n",
    "    description_df = Description.description_trans(total_data)\n",
    "    # # # # detect language # # # # #\n",
    "    description_df = Description.add_language_detection(description_df)\n",
    "    # # # # creating BoW and extracting most important words from it# # # # #\n",
    "    count_vectors_df, important_words = Description.find_important_words_from_bow(description_df)"
   ]
  },
  {
   "cell_type": "markdown",
   "metadata": {},
   "source": [
    "\n",
    "### 3.5.1. Description Data"
   ]
  },
  {
   "cell_type": "markdown",
   "metadata": {},
   "source": [
    "Description data includes original description column, translated description ('translation') and language detection ('description_lang'). We uploaded it, removed unnecessary columns added in csv creation and filled NA with empty string."
   ]
  },
  {
   "cell_type": "code",
   "execution_count": 125,
   "metadata": {},
   "outputs": [
    {
     "data": {
      "text/plain": [
       "16318"
      ]
     },
     "execution_count": 125,
     "metadata": {},
     "output_type": "execute_result"
    }
   ],
   "source": [
    "len(description_df)"
   ]
  },
  {
   "cell_type": "code",
   "execution_count": 126,
   "metadata": {},
   "outputs": [],
   "source": [
    "description_df = description_df.drop(['Unnamed: 0'], axis=1)"
   ]
  },
  {
   "cell_type": "code",
   "execution_count": 127,
   "metadata": {},
   "outputs": [],
   "source": [
    "description_df['description'].fillna('', inplace = True)\n",
    "description_df['translation'].fillna('', inplace = True)"
   ]
  },
  {
   "cell_type": "code",
   "execution_count": 128,
   "metadata": {},
   "outputs": [
    {
     "data": {
      "text/html": [
       "<div>\n",
       "<style scoped>\n",
       "    .dataframe tbody tr th:only-of-type {\n",
       "        vertical-align: middle;\n",
       "    }\n",
       "\n",
       "    .dataframe tbody tr th {\n",
       "        vertical-align: top;\n",
       "    }\n",
       "\n",
       "    .dataframe thead th {\n",
       "        text-align: right;\n",
       "    }\n",
       "</style>\n",
       "<table border=\"1\" class=\"dataframe\">\n",
       "  <thead>\n",
       "    <tr style=\"text-align: right;\">\n",
       "      <th></th>\n",
       "      <th>id</th>\n",
       "      <th>lang</th>\n",
       "      <th>description</th>\n",
       "      <th>bot</th>\n",
       "      <th>translation</th>\n",
       "      <th>test_set_1</th>\n",
       "      <th>test_set_2</th>\n",
       "      <th>description_lang</th>\n",
       "    </tr>\n",
       "  </thead>\n",
       "  <tbody>\n",
       "    <tr>\n",
       "      <th>0</th>\n",
       "      <td>1502026416</td>\n",
       "      <td>ja</td>\n",
       "      <td>15years ago X.Lines24</td>\n",
       "      <td>0</td>\n",
       "      <td>['15years ago X.Lines24']</td>\n",
       "      <td>0.0</td>\n",
       "      <td>0.0</td>\n",
       "      <td>en</td>\n",
       "    </tr>\n",
       "    <tr>\n",
       "      <th>1</th>\n",
       "      <td>2492782375</td>\n",
       "      <td>ja</td>\n",
       "      <td>保守見習い地元大好き人間。 経済学、電工、仏教を勉強中、ちなDeではいかんのか？ (*^◯^*)</td>\n",
       "      <td>0</td>\n",
       "      <td>['Maintenance apprentice local love. Economics...</td>\n",
       "      <td>0.0</td>\n",
       "      <td>0.0</td>\n",
       "      <td>ja</td>\n",
       "    </tr>\n",
       "    <tr>\n",
       "      <th>2</th>\n",
       "      <td>293212315</td>\n",
       "      <td>en</td>\n",
       "      <td>Let me see what your best move is!</td>\n",
       "      <td>0</td>\n",
       "      <td>['Let me see what your best move is!']</td>\n",
       "      <td>0.0</td>\n",
       "      <td>0.0</td>\n",
       "      <td>en</td>\n",
       "    </tr>\n",
       "    <tr>\n",
       "      <th>3</th>\n",
       "      <td>191839658</td>\n",
       "      <td>en</td>\n",
       "      <td>20. menna: #farida #nyc and the 80s actually y...</td>\n",
       "      <td>0</td>\n",
       "      <td>['20. menna: #farida #nyc and the 80s actually...</td>\n",
       "      <td>0.0</td>\n",
       "      <td>0.0</td>\n",
       "      <td>en</td>\n",
       "    </tr>\n",
       "    <tr>\n",
       "      <th>4</th>\n",
       "      <td>3020965143</td>\n",
       "      <td>en</td>\n",
       "      <td>Cosmetologist</td>\n",
       "      <td>0</td>\n",
       "      <td>['Cosmetologist']</td>\n",
       "      <td>0.0</td>\n",
       "      <td>0.0</td>\n",
       "      <td>en</td>\n",
       "    </tr>\n",
       "  </tbody>\n",
       "</table>\n",
       "</div>"
      ],
      "text/plain": [
       "           id lang                                        description  bot  \\\n",
       "0  1502026416   ja                              15years ago X.Lines24    0   \n",
       "1  2492782375   ja   保守見習い地元大好き人間。 経済学、電工、仏教を勉強中、ちなDeではいかんのか？ (*^◯^*)    0   \n",
       "2   293212315   en                 Let me see what your best move is!    0   \n",
       "3   191839658   en  20. menna: #farida #nyc and the 80s actually y...    0   \n",
       "4  3020965143   en                                      Cosmetologist    0   \n",
       "\n",
       "                                         translation  test_set_1  test_set_2  \\\n",
       "0                          ['15years ago X.Lines24']         0.0         0.0   \n",
       "1  ['Maintenance apprentice local love. Economics...         0.0         0.0   \n",
       "2             ['Let me see what your best move is!']         0.0         0.0   \n",
       "3  ['20. menna: #farida #nyc and the 80s actually...         0.0         0.0   \n",
       "4                                  ['Cosmetologist']         0.0         0.0   \n",
       "\n",
       "  description_lang  \n",
       "0               en  \n",
       "1               ja  \n",
       "2               en  \n",
       "3               en  \n",
       "4               en  "
      ]
     },
     "execution_count": 128,
     "metadata": {},
     "output_type": "execute_result"
    }
   ],
   "source": [
    "description_df.head(5)"
   ]
  },
  {
   "cell_type": "markdown",
   "metadata": {},
   "source": [
    "### 3.5.2. Count Vectors"
   ]
  },
  {
   "cell_type": "markdown",
   "metadata": {},
   "source": [
    "count vectors data frame includes count of each word in each description (each column is a word in the dictionary). In this section we removed unnecessary column that was created while exporting to csv."
   ]
  },
  {
   "cell_type": "code",
   "execution_count": 129,
   "metadata": {},
   "outputs": [
    {
     "data": {
      "text/html": [
       "<div>\n",
       "<style scoped>\n",
       "    .dataframe tbody tr th:only-of-type {\n",
       "        vertical-align: middle;\n",
       "    }\n",
       "\n",
       "    .dataframe tbody tr th {\n",
       "        vertical-align: top;\n",
       "    }\n",
       "\n",
       "    .dataframe thead th {\n",
       "        text-align: right;\n",
       "    }\n",
       "</style>\n",
       "<table border=\"1\" class=\"dataframe\">\n",
       "  <thead>\n",
       "    <tr style=\"text-align: right;\">\n",
       "      <th></th>\n",
       "      <th>Unnamed: 0</th>\n",
       "      <th>main_id</th>\n",
       "      <th>aaaaannndd</th>\n",
       "      <th>ab</th>\n",
       "      <th>abandon</th>\n",
       "      <th>abbbiizzz</th>\n",
       "      <th>abbe</th>\n",
       "      <th>abbindolati</th>\n",
       "      <th>abe</th>\n",
       "      <th>ability</th>\n",
       "      <th>...</th>\n",
       "      <th>티아라</th>\n",
       "      <th>필요에서</th>\n",
       "      <th>ｃａｎｔ</th>\n",
       "      <th>ｆｏｏｄｓ</th>\n",
       "      <th>ｆｕｅｌ</th>\n",
       "      <th>ｍｅｌｔ</th>\n",
       "      <th>test_set_1</th>\n",
       "      <th>test_set_2</th>\n",
       "      <th>is_bot</th>\n",
       "      <th>ｓｔｅｅｌ</th>\n",
       "    </tr>\n",
       "  </thead>\n",
       "  <tbody>\n",
       "    <tr>\n",
       "      <th>0</th>\n",
       "      <td>0</td>\n",
       "      <td>1502026416</td>\n",
       "      <td>0</td>\n",
       "      <td>0</td>\n",
       "      <td>0</td>\n",
       "      <td>0</td>\n",
       "      <td>0</td>\n",
       "      <td>0</td>\n",
       "      <td>0</td>\n",
       "      <td>0</td>\n",
       "      <td>...</td>\n",
       "      <td>0</td>\n",
       "      <td>0</td>\n",
       "      <td>0</td>\n",
       "      <td>0</td>\n",
       "      <td>0</td>\n",
       "      <td>0</td>\n",
       "      <td>0.0</td>\n",
       "      <td>0.0</td>\n",
       "      <td>0</td>\n",
       "      <td>0</td>\n",
       "    </tr>\n",
       "    <tr>\n",
       "      <th>1</th>\n",
       "      <td>1</td>\n",
       "      <td>2492782375</td>\n",
       "      <td>0</td>\n",
       "      <td>0</td>\n",
       "      <td>0</td>\n",
       "      <td>0</td>\n",
       "      <td>0</td>\n",
       "      <td>0</td>\n",
       "      <td>0</td>\n",
       "      <td>0</td>\n",
       "      <td>...</td>\n",
       "      <td>0</td>\n",
       "      <td>0</td>\n",
       "      <td>0</td>\n",
       "      <td>0</td>\n",
       "      <td>0</td>\n",
       "      <td>0</td>\n",
       "      <td>0.0</td>\n",
       "      <td>0.0</td>\n",
       "      <td>0</td>\n",
       "      <td>0</td>\n",
       "    </tr>\n",
       "    <tr>\n",
       "      <th>2</th>\n",
       "      <td>2</td>\n",
       "      <td>293212315</td>\n",
       "      <td>0</td>\n",
       "      <td>0</td>\n",
       "      <td>0</td>\n",
       "      <td>0</td>\n",
       "      <td>0</td>\n",
       "      <td>0</td>\n",
       "      <td>0</td>\n",
       "      <td>0</td>\n",
       "      <td>...</td>\n",
       "      <td>0</td>\n",
       "      <td>0</td>\n",
       "      <td>0</td>\n",
       "      <td>0</td>\n",
       "      <td>0</td>\n",
       "      <td>0</td>\n",
       "      <td>0.0</td>\n",
       "      <td>0.0</td>\n",
       "      <td>0</td>\n",
       "      <td>0</td>\n",
       "    </tr>\n",
       "    <tr>\n",
       "      <th>3</th>\n",
       "      <td>3</td>\n",
       "      <td>191839658</td>\n",
       "      <td>0</td>\n",
       "      <td>0</td>\n",
       "      <td>0</td>\n",
       "      <td>0</td>\n",
       "      <td>0</td>\n",
       "      <td>0</td>\n",
       "      <td>0</td>\n",
       "      <td>0</td>\n",
       "      <td>...</td>\n",
       "      <td>0</td>\n",
       "      <td>0</td>\n",
       "      <td>0</td>\n",
       "      <td>0</td>\n",
       "      <td>0</td>\n",
       "      <td>0</td>\n",
       "      <td>0.0</td>\n",
       "      <td>0.0</td>\n",
       "      <td>0</td>\n",
       "      <td>0</td>\n",
       "    </tr>\n",
       "    <tr>\n",
       "      <th>4</th>\n",
       "      <td>4</td>\n",
       "      <td>3020965143</td>\n",
       "      <td>0</td>\n",
       "      <td>0</td>\n",
       "      <td>0</td>\n",
       "      <td>0</td>\n",
       "      <td>0</td>\n",
       "      <td>0</td>\n",
       "      <td>0</td>\n",
       "      <td>0</td>\n",
       "      <td>...</td>\n",
       "      <td>0</td>\n",
       "      <td>0</td>\n",
       "      <td>0</td>\n",
       "      <td>0</td>\n",
       "      <td>0</td>\n",
       "      <td>0</td>\n",
       "      <td>0.0</td>\n",
       "      <td>0.0</td>\n",
       "      <td>0</td>\n",
       "      <td>0</td>\n",
       "    </tr>\n",
       "  </tbody>\n",
       "</table>\n",
       "<p>5 rows × 11066 columns</p>\n",
       "</div>"
      ],
      "text/plain": [
       "   Unnamed: 0     main_id  aaaaannndd  ab  abandon  abbbiizzz  abbe  \\\n",
       "0           0  1502026416           0   0        0          0     0   \n",
       "1           1  2492782375           0   0        0          0     0   \n",
       "2           2   293212315           0   0        0          0     0   \n",
       "3           3   191839658           0   0        0          0     0   \n",
       "4           4  3020965143           0   0        0          0     0   \n",
       "\n",
       "   abbindolati  abe  ability  ...    티아라  필요에서  ｃａｎｔ  ｆｏｏｄｓ  ｆｕｅｌ  ｍｅｌｔ  \\\n",
       "0            0    0        0  ...      0     0     0      0     0     0   \n",
       "1            0    0        0  ...      0     0     0      0     0     0   \n",
       "2            0    0        0  ...      0     0     0      0     0     0   \n",
       "3            0    0        0  ...      0     0     0      0     0     0   \n",
       "4            0    0        0  ...      0     0     0      0     0     0   \n",
       "\n",
       "   test_set_1  test_set_2  is_bot  ｓｔｅｅｌ  \n",
       "0         0.0         0.0       0      0  \n",
       "1         0.0         0.0       0      0  \n",
       "2         0.0         0.0       0      0  \n",
       "3         0.0         0.0       0      0  \n",
       "4         0.0         0.0       0      0  \n",
       "\n",
       "[5 rows x 11066 columns]"
      ]
     },
     "execution_count": 129,
     "metadata": {},
     "output_type": "execute_result"
    }
   ],
   "source": [
    "count_vectors_df.head(5)"
   ]
  },
  {
   "cell_type": "code",
   "execution_count": 130,
   "metadata": {},
   "outputs": [],
   "source": [
    "count_vectors_df = count_vectors_df.drop(['Unnamed: 0'], axis=1)"
   ]
  },
  {
   "cell_type": "code",
   "execution_count": 131,
   "metadata": {},
   "outputs": [
    {
     "data": {
      "text/html": [
       "<div>\n",
       "<style scoped>\n",
       "    .dataframe tbody tr th:only-of-type {\n",
       "        vertical-align: middle;\n",
       "    }\n",
       "\n",
       "    .dataframe tbody tr th {\n",
       "        vertical-align: top;\n",
       "    }\n",
       "\n",
       "    .dataframe thead th {\n",
       "        text-align: right;\n",
       "    }\n",
       "</style>\n",
       "<table border=\"1\" class=\"dataframe\">\n",
       "  <thead>\n",
       "    <tr style=\"text-align: right;\">\n",
       "      <th></th>\n",
       "      <th>main_id</th>\n",
       "      <th>aaaaannndd</th>\n",
       "      <th>ab</th>\n",
       "      <th>abandon</th>\n",
       "      <th>abbbiizzz</th>\n",
       "      <th>abbe</th>\n",
       "      <th>abbindolati</th>\n",
       "      <th>abe</th>\n",
       "      <th>ability</th>\n",
       "      <th>able</th>\n",
       "      <th>...</th>\n",
       "      <th>티아라</th>\n",
       "      <th>필요에서</th>\n",
       "      <th>ｃａｎｔ</th>\n",
       "      <th>ｆｏｏｄｓ</th>\n",
       "      <th>ｆｕｅｌ</th>\n",
       "      <th>ｍｅｌｔ</th>\n",
       "      <th>test_set_1</th>\n",
       "      <th>test_set_2</th>\n",
       "      <th>is_bot</th>\n",
       "      <th>ｓｔｅｅｌ</th>\n",
       "    </tr>\n",
       "  </thead>\n",
       "  <tbody>\n",
       "    <tr>\n",
       "      <th>0</th>\n",
       "      <td>1502026416</td>\n",
       "      <td>0</td>\n",
       "      <td>0</td>\n",
       "      <td>0</td>\n",
       "      <td>0</td>\n",
       "      <td>0</td>\n",
       "      <td>0</td>\n",
       "      <td>0</td>\n",
       "      <td>0</td>\n",
       "      <td>0</td>\n",
       "      <td>...</td>\n",
       "      <td>0</td>\n",
       "      <td>0</td>\n",
       "      <td>0</td>\n",
       "      <td>0</td>\n",
       "      <td>0</td>\n",
       "      <td>0</td>\n",
       "      <td>0.0</td>\n",
       "      <td>0.0</td>\n",
       "      <td>0</td>\n",
       "      <td>0</td>\n",
       "    </tr>\n",
       "    <tr>\n",
       "      <th>1</th>\n",
       "      <td>2492782375</td>\n",
       "      <td>0</td>\n",
       "      <td>0</td>\n",
       "      <td>0</td>\n",
       "      <td>0</td>\n",
       "      <td>0</td>\n",
       "      <td>0</td>\n",
       "      <td>0</td>\n",
       "      <td>0</td>\n",
       "      <td>0</td>\n",
       "      <td>...</td>\n",
       "      <td>0</td>\n",
       "      <td>0</td>\n",
       "      <td>0</td>\n",
       "      <td>0</td>\n",
       "      <td>0</td>\n",
       "      <td>0</td>\n",
       "      <td>0.0</td>\n",
       "      <td>0.0</td>\n",
       "      <td>0</td>\n",
       "      <td>0</td>\n",
       "    </tr>\n",
       "    <tr>\n",
       "      <th>2</th>\n",
       "      <td>293212315</td>\n",
       "      <td>0</td>\n",
       "      <td>0</td>\n",
       "      <td>0</td>\n",
       "      <td>0</td>\n",
       "      <td>0</td>\n",
       "      <td>0</td>\n",
       "      <td>0</td>\n",
       "      <td>0</td>\n",
       "      <td>0</td>\n",
       "      <td>...</td>\n",
       "      <td>0</td>\n",
       "      <td>0</td>\n",
       "      <td>0</td>\n",
       "      <td>0</td>\n",
       "      <td>0</td>\n",
       "      <td>0</td>\n",
       "      <td>0.0</td>\n",
       "      <td>0.0</td>\n",
       "      <td>0</td>\n",
       "      <td>0</td>\n",
       "    </tr>\n",
       "    <tr>\n",
       "      <th>3</th>\n",
       "      <td>191839658</td>\n",
       "      <td>0</td>\n",
       "      <td>0</td>\n",
       "      <td>0</td>\n",
       "      <td>0</td>\n",
       "      <td>0</td>\n",
       "      <td>0</td>\n",
       "      <td>0</td>\n",
       "      <td>0</td>\n",
       "      <td>0</td>\n",
       "      <td>...</td>\n",
       "      <td>0</td>\n",
       "      <td>0</td>\n",
       "      <td>0</td>\n",
       "      <td>0</td>\n",
       "      <td>0</td>\n",
       "      <td>0</td>\n",
       "      <td>0.0</td>\n",
       "      <td>0.0</td>\n",
       "      <td>0</td>\n",
       "      <td>0</td>\n",
       "    </tr>\n",
       "    <tr>\n",
       "      <th>4</th>\n",
       "      <td>3020965143</td>\n",
       "      <td>0</td>\n",
       "      <td>0</td>\n",
       "      <td>0</td>\n",
       "      <td>0</td>\n",
       "      <td>0</td>\n",
       "      <td>0</td>\n",
       "      <td>0</td>\n",
       "      <td>0</td>\n",
       "      <td>0</td>\n",
       "      <td>...</td>\n",
       "      <td>0</td>\n",
       "      <td>0</td>\n",
       "      <td>0</td>\n",
       "      <td>0</td>\n",
       "      <td>0</td>\n",
       "      <td>0</td>\n",
       "      <td>0.0</td>\n",
       "      <td>0.0</td>\n",
       "      <td>0</td>\n",
       "      <td>0</td>\n",
       "    </tr>\n",
       "  </tbody>\n",
       "</table>\n",
       "<p>5 rows × 11065 columns</p>\n",
       "</div>"
      ],
      "text/plain": [
       "      main_id  aaaaannndd  ab  abandon  abbbiizzz  abbe  abbindolati  abe  \\\n",
       "0  1502026416           0   0        0          0     0            0    0   \n",
       "1  2492782375           0   0        0          0     0            0    0   \n",
       "2   293212315           0   0        0          0     0            0    0   \n",
       "3   191839658           0   0        0          0     0            0    0   \n",
       "4  3020965143           0   0        0          0     0            0    0   \n",
       "\n",
       "   ability  able  ...    티아라  필요에서  ｃａｎｔ  ｆｏｏｄｓ  ｆｕｅｌ  ｍｅｌｔ  test_set_1  \\\n",
       "0        0     0  ...      0     0     0      0     0     0         0.0   \n",
       "1        0     0  ...      0     0     0      0     0     0         0.0   \n",
       "2        0     0  ...      0     0     0      0     0     0         0.0   \n",
       "3        0     0  ...      0     0     0      0     0     0         0.0   \n",
       "4        0     0  ...      0     0     0      0     0     0         0.0   \n",
       "\n",
       "   test_set_2  is_bot  ｓｔｅｅｌ  \n",
       "0         0.0       0      0  \n",
       "1         0.0       0      0  \n",
       "2         0.0       0      0  \n",
       "3         0.0       0      0  \n",
       "4         0.0       0      0  \n",
       "\n",
       "[5 rows x 11065 columns]"
      ]
     },
     "execution_count": 131,
     "metadata": {},
     "output_type": "execute_result"
    }
   ],
   "source": [
    "count_vectors_df.head(5)"
   ]
  },
  {
   "cell_type": "markdown",
   "metadata": {},
   "source": [
    "### 3.5.3. Extracting Features From Description"
   ]
  },
  {
   "cell_type": "markdown",
   "metadata": {},
   "source": [
    "#### Basic Feature Extraction"
   ]
  },
  {
   "cell_type": "markdown",
   "metadata": {},
   "source": [
    "Fetures extracted from description are:\n",
    "\n",
    "* Count Number of Words In a Description\n",
    "* Count Number of characters In a Description\n",
    "* Find Average Word Length in a Description\n",
    "* Count Number of Stopwords in a Description\n",
    "* Count Number of Hashtags in a Description\n",
    "* Count Number of Numerics in a Description\n",
    "* Count Number of Uppercase Words in a Description"
   ]
  },
  {
   "cell_type": "code",
   "execution_count": 132,
   "metadata": {},
   "outputs": [],
   "source": [
    "def avg_word(sentence):\n",
    "    words = sentence.split()\n",
    "    if(len(words) == 0):\n",
    "        return 0\n",
    "    return (sum(len(word) for word in words)/len(words))"
   ]
  },
  {
   "cell_type": "code",
   "execution_count": 133,
   "metadata": {},
   "outputs": [],
   "source": [
    "from nltk.corpus import stopwords\n",
    "stop = stopwords.words('english')"
   ]
  },
  {
   "cell_type": "code",
   "execution_count": 134,
   "metadata": {},
   "outputs": [
    {
     "data": {
      "text/html": [
       "<div>\n",
       "<style scoped>\n",
       "    .dataframe tbody tr th:only-of-type {\n",
       "        vertical-align: middle;\n",
       "    }\n",
       "\n",
       "    .dataframe tbody tr th {\n",
       "        vertical-align: top;\n",
       "    }\n",
       "\n",
       "    .dataframe thead th {\n",
       "        text-align: right;\n",
       "    }\n",
       "</style>\n",
       "<table border=\"1\" class=\"dataframe\">\n",
       "  <thead>\n",
       "    <tr style=\"text-align: right;\">\n",
       "      <th></th>\n",
       "      <th>translation</th>\n",
       "      <th>word_count</th>\n",
       "      <th>char_count</th>\n",
       "      <th>avg_word</th>\n",
       "      <th>stopwords</th>\n",
       "      <th>hashtags</th>\n",
       "      <th>numerics</th>\n",
       "      <th>upper</th>\n",
       "    </tr>\n",
       "  </thead>\n",
       "  <tbody>\n",
       "    <tr>\n",
       "      <th>0</th>\n",
       "      <td>['15years ago X.Lines24']</td>\n",
       "      <td>3</td>\n",
       "      <td>21</td>\n",
       "      <td>6.333333</td>\n",
       "      <td>0</td>\n",
       "      <td>0</td>\n",
       "      <td>0</td>\n",
       "      <td>0</td>\n",
       "    </tr>\n",
       "    <tr>\n",
       "      <th>1</th>\n",
       "      <td>['Maintenance apprentice local love. Economics...</td>\n",
       "      <td>3</td>\n",
       "      <td>48</td>\n",
       "      <td>15.333333</td>\n",
       "      <td>3</td>\n",
       "      <td>0</td>\n",
       "      <td>0</td>\n",
       "      <td>0</td>\n",
       "    </tr>\n",
       "    <tr>\n",
       "      <th>2</th>\n",
       "      <td>['Let me see what your best move is!']</td>\n",
       "      <td>8</td>\n",
       "      <td>34</td>\n",
       "      <td>3.375000</td>\n",
       "      <td>3</td>\n",
       "      <td>0</td>\n",
       "      <td>0</td>\n",
       "      <td>0</td>\n",
       "    </tr>\n",
       "    <tr>\n",
       "      <th>3</th>\n",
       "      <td>['20. menna: #farida #nyc and the 80s actually...</td>\n",
       "      <td>11</td>\n",
       "      <td>58</td>\n",
       "      <td>4.363636</td>\n",
       "      <td>3</td>\n",
       "      <td>2</td>\n",
       "      <td>0</td>\n",
       "      <td>0</td>\n",
       "    </tr>\n",
       "    <tr>\n",
       "      <th>4</th>\n",
       "      <td>['Cosmetologist']</td>\n",
       "      <td>1</td>\n",
       "      <td>13</td>\n",
       "      <td>13.000000</td>\n",
       "      <td>0</td>\n",
       "      <td>0</td>\n",
       "      <td>0</td>\n",
       "      <td>0</td>\n",
       "    </tr>\n",
       "  </tbody>\n",
       "</table>\n",
       "</div>"
      ],
      "text/plain": [
       "                                         translation  word_count  char_count  \\\n",
       "0                          ['15years ago X.Lines24']           3          21   \n",
       "1  ['Maintenance apprentice local love. Economics...           3          48   \n",
       "2             ['Let me see what your best move is!']           8          34   \n",
       "3  ['20. menna: #farida #nyc and the 80s actually...          11          58   \n",
       "4                                  ['Cosmetologist']           1          13   \n",
       "\n",
       "    avg_word  stopwords  hashtags  numerics  upper  \n",
       "0   6.333333          0         0         0      0  \n",
       "1  15.333333          3         0         0      0  \n",
       "2   3.375000          3         0         0      0  \n",
       "3   4.363636          3         2         0      0  \n",
       "4  13.000000          0         0         0      0  "
      ]
     },
     "execution_count": 134,
     "metadata": {},
     "output_type": "execute_result"
    }
   ],
   "source": [
    "description_df['word_count'] = description_df['description'].apply(lambda x: len(str(x).split(\" \")))\n",
    "description_df['char_count'] = description_df['description'].str.len() ## this also includes spaces\n",
    "description_df['avg_word'] = description_df['description'].apply(lambda x: avg_word(x))\n",
    "description_df['stopwords'] = description_df['translation'].apply(lambda x: len([x for x in x.split() if x in stop]))\n",
    "description_df['hashtags'] = description_df['description'].apply(lambda x: len([x for x in x.split() if x.startswith('#')]))\n",
    "description_df['numerics'] = description_df['description'].apply(lambda x: len([x for x in x.split() if x.isdigit()]))\n",
    "description_df['upper'] = description_df['translation'].apply(lambda x: len([x for x in x.split() if x.isupper()]))\n",
    "description_df[['translation','word_count','char_count','avg_word','stopwords','hashtags','numerics','upper']].head()"
   ]
  },
  {
   "cell_type": "markdown",
   "metadata": {},
   "source": [
    "#### Important Words"
   ]
  },
  {
   "cell_type": "markdown",
   "metadata": {},
   "source": [
    "Important words is a list of 10 most important wotds that were extracted from BoW process"
   ]
  },
  {
   "cell_type": "code",
   "execution_count": 135,
   "metadata": {},
   "outputs": [],
   "source": [
    "if(not run_full_process):\n",
    "    important_words = ['job','lover','love','student','life','follow','instagram','thing','italy','live']"
   ]
  },
  {
   "cell_type": "code",
   "execution_count": 136,
   "metadata": {},
   "outputs": [],
   "source": [
    "important_words_df = count_vectors_df[np.concatenate((['main_id'], important_words), axis=None)]"
   ]
  },
  {
   "cell_type": "code",
   "execution_count": 137,
   "metadata": {},
   "outputs": [
    {
     "data": {
      "text/html": [
       "<div>\n",
       "<style scoped>\n",
       "    .dataframe tbody tr th:only-of-type {\n",
       "        vertical-align: middle;\n",
       "    }\n",
       "\n",
       "    .dataframe tbody tr th {\n",
       "        vertical-align: top;\n",
       "    }\n",
       "\n",
       "    .dataframe thead th {\n",
       "        text-align: right;\n",
       "    }\n",
       "</style>\n",
       "<table border=\"1\" class=\"dataframe\">\n",
       "  <thead>\n",
       "    <tr style=\"text-align: right;\">\n",
       "      <th></th>\n",
       "      <th>main_id</th>\n",
       "      <th>job</th>\n",
       "      <th>lover</th>\n",
       "      <th>love</th>\n",
       "      <th>student</th>\n",
       "      <th>life</th>\n",
       "      <th>follow</th>\n",
       "      <th>instagram</th>\n",
       "      <th>thing</th>\n",
       "      <th>italy</th>\n",
       "      <th>live</th>\n",
       "    </tr>\n",
       "  </thead>\n",
       "  <tbody>\n",
       "    <tr>\n",
       "      <th>0</th>\n",
       "      <td>1502026416</td>\n",
       "      <td>0</td>\n",
       "      <td>0</td>\n",
       "      <td>0</td>\n",
       "      <td>0</td>\n",
       "      <td>0</td>\n",
       "      <td>0</td>\n",
       "      <td>0</td>\n",
       "      <td>0</td>\n",
       "      <td>0</td>\n",
       "      <td>0</td>\n",
       "    </tr>\n",
       "    <tr>\n",
       "      <th>1</th>\n",
       "      <td>2492782375</td>\n",
       "      <td>0</td>\n",
       "      <td>0</td>\n",
       "      <td>1</td>\n",
       "      <td>0</td>\n",
       "      <td>0</td>\n",
       "      <td>0</td>\n",
       "      <td>0</td>\n",
       "      <td>0</td>\n",
       "      <td>0</td>\n",
       "      <td>0</td>\n",
       "    </tr>\n",
       "    <tr>\n",
       "      <th>2</th>\n",
       "      <td>293212315</td>\n",
       "      <td>0</td>\n",
       "      <td>0</td>\n",
       "      <td>0</td>\n",
       "      <td>0</td>\n",
       "      <td>0</td>\n",
       "      <td>0</td>\n",
       "      <td>0</td>\n",
       "      <td>0</td>\n",
       "      <td>0</td>\n",
       "      <td>0</td>\n",
       "    </tr>\n",
       "    <tr>\n",
       "      <th>3</th>\n",
       "      <td>191839658</td>\n",
       "      <td>0</td>\n",
       "      <td>0</td>\n",
       "      <td>0</td>\n",
       "      <td>0</td>\n",
       "      <td>0</td>\n",
       "      <td>0</td>\n",
       "      <td>0</td>\n",
       "      <td>0</td>\n",
       "      <td>0</td>\n",
       "      <td>0</td>\n",
       "    </tr>\n",
       "    <tr>\n",
       "      <th>4</th>\n",
       "      <td>3020965143</td>\n",
       "      <td>0</td>\n",
       "      <td>0</td>\n",
       "      <td>0</td>\n",
       "      <td>0</td>\n",
       "      <td>0</td>\n",
       "      <td>0</td>\n",
       "      <td>0</td>\n",
       "      <td>0</td>\n",
       "      <td>0</td>\n",
       "      <td>0</td>\n",
       "    </tr>\n",
       "    <tr>\n",
       "      <th>5</th>\n",
       "      <td>2157382005</td>\n",
       "      <td>0</td>\n",
       "      <td>0</td>\n",
       "      <td>0</td>\n",
       "      <td>0</td>\n",
       "      <td>0</td>\n",
       "      <td>0</td>\n",
       "      <td>0</td>\n",
       "      <td>0</td>\n",
       "      <td>0</td>\n",
       "      <td>0</td>\n",
       "    </tr>\n",
       "    <tr>\n",
       "      <th>6</th>\n",
       "      <td>1947320929</td>\n",
       "      <td>0</td>\n",
       "      <td>0</td>\n",
       "      <td>0</td>\n",
       "      <td>0</td>\n",
       "      <td>0</td>\n",
       "      <td>0</td>\n",
       "      <td>0</td>\n",
       "      <td>0</td>\n",
       "      <td>0</td>\n",
       "      <td>0</td>\n",
       "    </tr>\n",
       "    <tr>\n",
       "      <th>7</th>\n",
       "      <td>255846106</td>\n",
       "      <td>0</td>\n",
       "      <td>0</td>\n",
       "      <td>0</td>\n",
       "      <td>1</td>\n",
       "      <td>0</td>\n",
       "      <td>0</td>\n",
       "      <td>0</td>\n",
       "      <td>0</td>\n",
       "      <td>0</td>\n",
       "      <td>0</td>\n",
       "    </tr>\n",
       "    <tr>\n",
       "      <th>8</th>\n",
       "      <td>1733095801</td>\n",
       "      <td>0</td>\n",
       "      <td>0</td>\n",
       "      <td>0</td>\n",
       "      <td>0</td>\n",
       "      <td>0</td>\n",
       "      <td>0</td>\n",
       "      <td>0</td>\n",
       "      <td>0</td>\n",
       "      <td>0</td>\n",
       "      <td>0</td>\n",
       "    </tr>\n",
       "    <tr>\n",
       "      <th>9</th>\n",
       "      <td>1336097480</td>\n",
       "      <td>0</td>\n",
       "      <td>0</td>\n",
       "      <td>0</td>\n",
       "      <td>0</td>\n",
       "      <td>0</td>\n",
       "      <td>0</td>\n",
       "      <td>0</td>\n",
       "      <td>0</td>\n",
       "      <td>0</td>\n",
       "      <td>0</td>\n",
       "    </tr>\n",
       "  </tbody>\n",
       "</table>\n",
       "</div>"
      ],
      "text/plain": [
       "      main_id  job  lover  love  student  life  follow  instagram  thing  \\\n",
       "0  1502026416    0      0     0        0     0       0          0      0   \n",
       "1  2492782375    0      0     1        0     0       0          0      0   \n",
       "2   293212315    0      0     0        0     0       0          0      0   \n",
       "3   191839658    0      0     0        0     0       0          0      0   \n",
       "4  3020965143    0      0     0        0     0       0          0      0   \n",
       "5  2157382005    0      0     0        0     0       0          0      0   \n",
       "6  1947320929    0      0     0        0     0       0          0      0   \n",
       "7   255846106    0      0     0        1     0       0          0      0   \n",
       "8  1733095801    0      0     0        0     0       0          0      0   \n",
       "9  1336097480    0      0     0        0     0       0          0      0   \n",
       "\n",
       "   italy  live  \n",
       "0      0     0  \n",
       "1      0     0  \n",
       "2      0     0  \n",
       "3      0     0  \n",
       "4      0     0  \n",
       "5      0     0  \n",
       "6      0     0  \n",
       "7      0     0  \n",
       "8      0     0  \n",
       "9      0     0  "
      ]
     },
     "execution_count": 137,
     "metadata": {},
     "output_type": "execute_result"
    }
   ],
   "source": [
    "important_words_df.head(10)"
   ]
  },
  {
   "cell_type": "markdown",
   "metadata": {},
   "source": [
    "Merging word count vectors with basic description features"
   ]
  },
  {
   "cell_type": "code",
   "execution_count": 138,
   "metadata": {},
   "outputs": [],
   "source": [
    "description_df = description_df.merge(important_words_df, left_on=\"id\",right_on=\"main_id\")"
   ]
  },
  {
   "cell_type": "code",
   "execution_count": 139,
   "metadata": {},
   "outputs": [],
   "source": [
    "description_df.drop([\"main_id\"],axis=1,inplace=True)"
   ]
  },
  {
   "cell_type": "code",
   "execution_count": 140,
   "metadata": {},
   "outputs": [],
   "source": [
    "description_df = description_df.rename(index=str, columns={\"job\": \"job_appearances\", \"lover\": \"lover_appearances\", \"love\": \"love_appearances\",\n",
    "                                          \"student\": \"student_appearances\", \"life\": \"life_appearances\", \"follow\": \"follow_appearances\",\n",
    "                                          \"instagram\": \"instagram_appearances\", \"thing\": \"thing_appearances\",\"italy\": \"italy_appearances\", \n",
    "                                          \"live\": \"live_appearances\"})"
   ]
  },
  {
   "cell_type": "markdown",
   "metadata": {},
   "source": [
    "#### Add 'contains_url'"
   ]
  },
  {
   "cell_type": "markdown",
   "metadata": {},
   "source": [
    "If 'http' appeared in a description we mared a description as one that containes a URL"
   ]
  },
  {
   "cell_type": "code",
   "execution_count": 141,
   "metadata": {},
   "outputs": [],
   "source": [
    "count_vectors_df['http'] = count_vectors_df['http'].reset_index(drop=True)\n",
    "description_df['contains_url'] = 0\n",
    "description_df['contains_url'] = description_df['contains_url'].reset_index(drop=True)\n",
    "count_vectors_df['http'].index = description_df['contains_url'].index"
   ]
  },
  {
   "cell_type": "code",
   "execution_count": 142,
   "metadata": {},
   "outputs": [],
   "source": [
    "description_df['contains_url'] = count_vectors_df['http'].apply(lambda x: 1 if x > 0 else 0)"
   ]
  },
  {
   "cell_type": "code",
   "execution_count": 143,
   "metadata": {},
   "outputs": [
    {
     "data": {
      "text/plain": [
       "array([0, 1], dtype=int64)"
      ]
     },
     "execution_count": 143,
     "metadata": {},
     "output_type": "execute_result"
    }
   ],
   "source": [
    "description_df['contains_url'].unique()"
   ]
  },
  {
   "cell_type": "markdown",
   "metadata": {},
   "source": [
    "#### Add Language Difference"
   ]
  },
  {
   "cell_type": "markdown",
   "metadata": {},
   "source": [
    "Using 'description_lang' which was added to 'description_df' with Yandex service of language detection. If 'description_lang' is different from an account's language ('lang') it was marked with '1', otherwise '0'."
   ]
  },
  {
   "cell_type": "code",
   "execution_count": 144,
   "metadata": {},
   "outputs": [],
   "source": [
    "description_df['different_lang'] = description_df['description_lang'] == description_df['lang']\n",
    "description_df['different_lang'] = description_df['different_lang'].apply(lambda x: 1 if x else 0)"
   ]
  },
  {
   "cell_type": "code",
   "execution_count": 145,
   "metadata": {},
   "outputs": [
    {
     "data": {
      "text/plain": [
       "array([0, 1], dtype=int64)"
      ]
     },
     "execution_count": 145,
     "metadata": {},
     "output_type": "execute_result"
    }
   ],
   "source": [
    "description_df['different_lang'].unique()"
   ]
  },
  {
   "cell_type": "markdown",
   "metadata": {},
   "source": [
    "### 3.5.4. Description Features Visualization"
   ]
  },
  {
   "cell_type": "markdown",
   "metadata": {},
   "source": [
    "**Calculating Pearson Correlation**"
   ]
  },
  {
   "cell_type": "code",
   "execution_count": 146,
   "metadata": {},
   "outputs": [
    {
     "data": {
      "text/plain": [
       "Index(['id', 'lang', 'description', 'bot', 'translation', 'test_set_1',\n",
       "       'test_set_2', 'description_lang', 'word_count', 'char_count',\n",
       "       'avg_word', 'stopwords', 'hashtags', 'numerics', 'upper',\n",
       "       'job_appearances', 'lover_appearances', 'love_appearances',\n",
       "       'student_appearances', 'life_appearances', 'follow_appearances',\n",
       "       'instagram_appearances', 'thing_appearances', 'italy_appearances',\n",
       "       'live_appearances', 'contains_url', 'different_lang'],\n",
       "      dtype='object')"
      ]
     },
     "execution_count": 146,
     "metadata": {},
     "output_type": "execute_result"
    }
   ],
   "source": [
    "description_df.columns"
   ]
  },
  {
   "cell_type": "code",
   "execution_count": 147,
   "metadata": {
    "scrolled": true
   },
   "outputs": [
    {
     "data": {
      "image/png": "[encoded data removed]",
      "text/plain": [
       "<matplotlib.figure.Figure at 0x25a81d7d588>"
      ]
     },
     "metadata": {},
     "output_type": "display_data"
    }
   ],
   "source": [
    "features_for_correlation = ['word_count','char_count','avg_word','stopwords','hashtags','numerics',\n",
    "                        'upper','job_appearances','lover_appearances','love_appearances',\n",
    "                        'student_appearances','life_appearances', 'follow_appearances', 'instagram_appearances',\n",
    "                        'thing_appearances', 'italy_appearances', 'live_appearances', 'contains_url',\n",
    "                        'different_lang','bot']\n",
    "\n",
    "corr_mtx = General_Lib.Plot_Correlation_Matrix(description_df,features_for_correlation)"
   ]
  },
  {
   "cell_type": "code",
   "execution_count": 205,
   "metadata": {},
   "outputs": [
    {
     "data": {
      "text/plain": [
       "word_count               0.204636\n",
       "char_count               0.223448\n",
       "avg_word                 0.231802\n",
       "stopwords                0.146455\n",
       "hashtags                 0.051877\n",
       "numerics                 0.065483\n",
       "upper                    0.090484\n",
       "job_appearances          0.159020\n",
       "lover_appearances        0.096801\n",
       "love_appearances         0.072153\n",
       "student_appearances      0.079392\n",
       "life_appearances         0.067299\n",
       "follow_appearances       0.033892\n",
       "instagram_appearances    0.084680\n",
       "thing_appearances        0.049061\n",
       "italy_appearances        0.060783\n",
       "live_appearances         0.044462\n",
       "contains_url             0.054179\n",
       "different_lang           0.149087\n",
       "bot                      1.000000\n",
       "Name: bot, dtype: float64"
      ]
     },
     "execution_count": 205,
     "metadata": {},
     "output_type": "execute_result"
    }
   ],
   "source": [
    "corr_mtx['bot']"
   ]
  },
  {
   "cell_type": "markdown",
   "metadata": {},
   "source": [
    "#### Important Features Distribution"
   ]
  },
  {
   "cell_type": "code",
   "execution_count": 148,
   "metadata": {},
   "outputs": [
    {
     "name": "stdout",
     "output_type": "stream",
     "text": [
      "Number of spambots containing the word 'job' is 1392 and number of genuine accounts containing 'job' is 15\n"
     ]
    }
   ],
   "source": [
    "print(\"Number of spambots containing the word 'job' is\"\n",
    "      ,description_df[description_df.bot==1]['job_appearances'].apply(lambda x: 1 if x > 0 else 0).sum() ,\n",
    "      \"and number of genuine accounts containing 'job' is\",\n",
    "      description_df[description_df.bot==0]['job_appearances'].apply(lambda x: 1 if x > 0 else 0).sum())"
   ]
  },
  {
   "cell_type": "code",
   "execution_count": 149,
   "metadata": {},
   "outputs": [
    {
     "name": "stdout",
     "output_type": "stream",
     "text": [
      "Number of spambots containing the word 'follow' is 279 and number of genuine accounts containing 'follow' is 84\n"
     ]
    }
   ],
   "source": [
    "print(\"Number of spambots containing the word 'follow' is\",\n",
    "      description_df[description_df.bot==1]['follow_appearances'].apply(lambda x: 1 if x > 0 else 0).sum() ,\n",
    "      \"and number of genuine accounts containing 'follow' is\",\n",
    "      description_df[description_df.bot==0]['follow_appearances'].apply(lambda x: 1 if x > 0 else 0).sum())"
   ]
  },
  {
   "cell_type": "code",
   "execution_count": 150,
   "metadata": {},
   "outputs": [
    {
     "name": "stdout",
     "output_type": "stream",
     "text": [
      "Number of accounts with different language than declared is: 4519\n"
     ]
    }
   ],
   "source": [
    "print(\"Number of accounts with different language than declared is:\", description_df[description_df.bot==0]['different_lang'].sum())"
   ]
  },
  {
   "cell_type": "markdown",
   "metadata": {},
   "source": [
    "#### Merge Final Description Features with Total Data"
   ]
  },
  {
   "cell_type": "code",
   "execution_count": 151,
   "metadata": {},
   "outputs": [],
   "source": [
    "description_features = ['id','word_count','char_count','avg_word','stopwords','hashtags','numerics',\n",
    "                        'upper','job_appearances','lover_appearances','love_appearances',\n",
    "                        'student_appearances','life_appearances', 'follow_appearances', 'instagram_appearances',\n",
    "                        'thing_appearances', 'italy_appearances', 'live_appearances', 'contains_url', 'different_lang']"
   ]
  },
  {
   "cell_type": "code",
   "execution_count": 152,
   "metadata": {},
   "outputs": [],
   "source": [
    "description_features_for_model = ['word_count','avg_word','stopwords','job_appearances','follow_appearances','different_lang']"
   ]
  },
  {
   "cell_type": "code",
   "execution_count": 153,
   "metadata": {},
   "outputs": [
    {
     "data": {
      "text/html": [
       "<div>\n",
       "<style scoped>\n",
       "    .dataframe tbody tr th:only-of-type {\n",
       "        vertical-align: middle;\n",
       "    }\n",
       "\n",
       "    .dataframe tbody tr th {\n",
       "        vertical-align: top;\n",
       "    }\n",
       "\n",
       "    .dataframe thead th {\n",
       "        text-align: right;\n",
       "    }\n",
       "</style>\n",
       "<table border=\"1\" class=\"dataframe\">\n",
       "  <thead>\n",
       "    <tr style=\"text-align: right;\">\n",
       "      <th></th>\n",
       "      <th>id</th>\n",
       "      <th>word_count</th>\n",
       "      <th>char_count</th>\n",
       "      <th>avg_word</th>\n",
       "      <th>stopwords</th>\n",
       "      <th>hashtags</th>\n",
       "      <th>numerics</th>\n",
       "      <th>upper</th>\n",
       "      <th>job_appearances</th>\n",
       "      <th>lover_appearances</th>\n",
       "      <th>love_appearances</th>\n",
       "      <th>student_appearances</th>\n",
       "      <th>life_appearances</th>\n",
       "      <th>follow_appearances</th>\n",
       "      <th>instagram_appearances</th>\n",
       "      <th>thing_appearances</th>\n",
       "      <th>italy_appearances</th>\n",
       "      <th>live_appearances</th>\n",
       "      <th>contains_url</th>\n",
       "      <th>different_lang</th>\n",
       "    </tr>\n",
       "  </thead>\n",
       "  <tbody>\n",
       "    <tr>\n",
       "      <th>0</th>\n",
       "      <td>1502026416</td>\n",
       "      <td>3</td>\n",
       "      <td>21</td>\n",
       "      <td>6.333333</td>\n",
       "      <td>0</td>\n",
       "      <td>0</td>\n",
       "      <td>0</td>\n",
       "      <td>0</td>\n",
       "      <td>0</td>\n",
       "      <td>0</td>\n",
       "      <td>0</td>\n",
       "      <td>0</td>\n",
       "      <td>0</td>\n",
       "      <td>0</td>\n",
       "      <td>0</td>\n",
       "      <td>0</td>\n",
       "      <td>0</td>\n",
       "      <td>0</td>\n",
       "      <td>0</td>\n",
       "      <td>0</td>\n",
       "    </tr>\n",
       "    <tr>\n",
       "      <th>1</th>\n",
       "      <td>2492782375</td>\n",
       "      <td>3</td>\n",
       "      <td>48</td>\n",
       "      <td>15.333333</td>\n",
       "      <td>3</td>\n",
       "      <td>0</td>\n",
       "      <td>0</td>\n",
       "      <td>0</td>\n",
       "      <td>0</td>\n",
       "      <td>0</td>\n",
       "      <td>1</td>\n",
       "      <td>0</td>\n",
       "      <td>0</td>\n",
       "      <td>0</td>\n",
       "      <td>0</td>\n",
       "      <td>0</td>\n",
       "      <td>0</td>\n",
       "      <td>0</td>\n",
       "      <td>0</td>\n",
       "      <td>1</td>\n",
       "    </tr>\n",
       "    <tr>\n",
       "      <th>2</th>\n",
       "      <td>293212315</td>\n",
       "      <td>8</td>\n",
       "      <td>34</td>\n",
       "      <td>3.375000</td>\n",
       "      <td>3</td>\n",
       "      <td>0</td>\n",
       "      <td>0</td>\n",
       "      <td>0</td>\n",
       "      <td>0</td>\n",
       "      <td>0</td>\n",
       "      <td>0</td>\n",
       "      <td>0</td>\n",
       "      <td>0</td>\n",
       "      <td>0</td>\n",
       "      <td>0</td>\n",
       "      <td>0</td>\n",
       "      <td>0</td>\n",
       "      <td>0</td>\n",
       "      <td>0</td>\n",
       "      <td>1</td>\n",
       "    </tr>\n",
       "    <tr>\n",
       "      <th>3</th>\n",
       "      <td>191839658</td>\n",
       "      <td>11</td>\n",
       "      <td>58</td>\n",
       "      <td>4.363636</td>\n",
       "      <td>3</td>\n",
       "      <td>2</td>\n",
       "      <td>0</td>\n",
       "      <td>0</td>\n",
       "      <td>0</td>\n",
       "      <td>0</td>\n",
       "      <td>0</td>\n",
       "      <td>0</td>\n",
       "      <td>0</td>\n",
       "      <td>0</td>\n",
       "      <td>0</td>\n",
       "      <td>0</td>\n",
       "      <td>0</td>\n",
       "      <td>0</td>\n",
       "      <td>0</td>\n",
       "      <td>1</td>\n",
       "    </tr>\n",
       "    <tr>\n",
       "      <th>4</th>\n",
       "      <td>3020965143</td>\n",
       "      <td>1</td>\n",
       "      <td>13</td>\n",
       "      <td>13.000000</td>\n",
       "      <td>0</td>\n",
       "      <td>0</td>\n",
       "      <td>0</td>\n",
       "      <td>0</td>\n",
       "      <td>0</td>\n",
       "      <td>0</td>\n",
       "      <td>0</td>\n",
       "      <td>0</td>\n",
       "      <td>0</td>\n",
       "      <td>0</td>\n",
       "      <td>0</td>\n",
       "      <td>0</td>\n",
       "      <td>0</td>\n",
       "      <td>0</td>\n",
       "      <td>0</td>\n",
       "      <td>1</td>\n",
       "    </tr>\n",
       "  </tbody>\n",
       "</table>\n",
       "</div>"
      ],
      "text/plain": [
       "           id  word_count  char_count   avg_word  stopwords  hashtags  \\\n",
       "0  1502026416           3          21   6.333333          0         0   \n",
       "1  2492782375           3          48  15.333333          3         0   \n",
       "2   293212315           8          34   3.375000          3         0   \n",
       "3   191839658          11          58   4.363636          3         2   \n",
       "4  3020965143           1          13  13.000000          0         0   \n",
       "\n",
       "   numerics  upper  job_appearances  lover_appearances  love_appearances  \\\n",
       "0         0      0                0                  0                 0   \n",
       "1         0      0                0                  0                 1   \n",
       "2         0      0                0                  0                 0   \n",
       "3         0      0                0                  0                 0   \n",
       "4         0      0                0                  0                 0   \n",
       "\n",
       "   student_appearances  life_appearances  follow_appearances  \\\n",
       "0                    0                 0                   0   \n",
       "1                    0                 0                   0   \n",
       "2                    0                 0                   0   \n",
       "3                    0                 0                   0   \n",
       "4                    0                 0                   0   \n",
       "\n",
       "   instagram_appearances  thing_appearances  italy_appearances  \\\n",
       "0                      0                  0                  0   \n",
       "1                      0                  0                  0   \n",
       "2                      0                  0                  0   \n",
       "3                      0                  0                  0   \n",
       "4                      0                  0                  0   \n",
       "\n",
       "   live_appearances  contains_url  different_lang  \n",
       "0                 0             0               0  \n",
       "1                 0             0               1  \n",
       "2                 0             0               1  \n",
       "3                 0             0               1  \n",
       "4                 0             0               1  "
      ]
     },
     "execution_count": 153,
     "metadata": {},
     "output_type": "execute_result"
    }
   ],
   "source": [
    "description_df[description_features].head(5)"
   ]
  },
  {
   "cell_type": "code",
   "execution_count": 154,
   "metadata": {},
   "outputs": [
    {
     "ename": "ValueError",
     "evalue": "Buffer dtype mismatch, expected 'Python object' but got 'long long'",
     "output_type": "error",
     "traceback": [
      "\u001b[1;31m---------------------------------------------------------------------------\u001b[0m",
      "\u001b[1;31mValueError\u001b[0m                                Traceback (most recent call last)",
      "\u001b[1;31mValueError\u001b[0m: Buffer dtype mismatch, expected 'Python object' but got 'long long'"
     ]
    },
    {
     "name": "stderr",
     "output_type": "stream",
     "text": [
      "Exception ignored in: 'pandas._libs.lib.is_bool_array'\n",
      "ValueError: Buffer dtype mismatch, expected 'Python object' but got 'long long'\n"
     ]
    }
   ],
   "source": [
    "total_data = pd.merge(description_df[description_features],total_data, how = 'outer')"
   ]
  },
  {
   "cell_type": "code",
   "execution_count": 155,
   "metadata": {},
   "outputs": [
    {
     "data": {
      "text/plain": [
       "(16318, 158)"
      ]
     },
     "execution_count": 155,
     "metadata": {},
     "output_type": "execute_result"
    }
   ],
   "source": [
    "total_data.shape"
   ]
  },
  {
   "cell_type": "code",
   "execution_count": 156,
   "metadata": {},
   "outputs": [
    {
     "data": {
      "text/plain": [
       "id                                               object\n",
       "word_count                                        int64\n",
       "char_count                                        int64\n",
       "avg_word                                        float64\n",
       "stopwords                                         int64\n",
       "hashtags                                          int64\n",
       "numerics                                          int64\n",
       "upper                                             int64\n",
       "job_appearances                                   int64\n",
       "lover_appearances                                 int64\n",
       "love_appearances                                  int64\n",
       "student_appearances                               int64\n",
       "life_appearances                                  int64\n",
       "follow_appearances                                int64\n",
       "instagram_appearances                             int64\n",
       "thing_appearances                                 int64\n",
       "italy_appearances                                 int64\n",
       "live_appearances                                  int64\n",
       "contains_url                                      int64\n",
       "different_lang                                    int64\n",
       "bot                                               int64\n",
       "tweet_var                                       float64\n",
       "500<var<750                                       int64\n",
       "p_retweet                                       float64\n",
       "p_favorites                                     float64\n",
       "p_hashtags                                      float64\n",
       "p_urls                                          float64\n",
       "p_mentions                                      float64\n",
       "avg_tweets_per_hour                             float64\n",
       "default_profile                                 float64\n",
       "                                                 ...   \n",
       "profile_sidebar_border_color_unique               int64\n",
       "profile_sidebar_border_color_unique_mode          int64\n",
       "profile_sidebar_border_color_unique_dist        float64\n",
       "profile_sidebar_border_color_most_common           bool\n",
       "profile_sidebar_border_color_binning              int64\n",
       "profile_sidebar_border_color_binning_mode         int64\n",
       "profile_sidebar_border_color_binning_dist       float64\n",
       "profile_sidebar_border_color_top_colors           int64\n",
       "profile_sidebar_border_color_top_colors_mode      int64\n",
       "profile_sidebar_border_color_top_colors_dist    float64\n",
       "profile_sidebar_fill_color_unique                 int64\n",
       "profile_sidebar_fill_color_unique_mode            int64\n",
       "profile_sidebar_fill_color_unique_dist          float64\n",
       "profile_sidebar_fill_color_most_common             bool\n",
       "profile_sidebar_fill_color_binning                int64\n",
       "profile_sidebar_fill_color_binning_mode           int64\n",
       "profile_sidebar_fill_color_binning_dist         float64\n",
       "profile_sidebar_fill_color_top_colors             int64\n",
       "profile_sidebar_fill_color_top_colors_mode        int64\n",
       "profile_sidebar_fill_color_top_colors_dist      float64\n",
       "profile_text_color_unique                         int64\n",
       "profile_text_color_unique_mode                    int64\n",
       "profile_text_color_unique_dist                  float64\n",
       "profile_text_color_most_common                     bool\n",
       "profile_text_color_binning                        int64\n",
       "profile_text_color_binning_mode                   int64\n",
       "profile_text_color_binning_dist                 float64\n",
       "profile_text_color_top_colors                     int64\n",
       "profile_text_color_top_colors_mode                int64\n",
       "profile_text_color_top_colors_dist              float64\n",
       "Length: 158, dtype: object"
      ]
     },
     "execution_count": 156,
     "metadata": {},
     "output_type": "execute_result"
    }
   ],
   "source": [
    "total_data.dtypes"
   ]
  },
  {
   "cell_type": "markdown",
   "metadata": {},
   "source": [
    "# 4. Data Visualization & Analysis"
   ]
  },
  {
   "cell_type": "markdown",
   "metadata": {},
   "source": [
    "**Most visualization work is done on each part above**"
   ]
  },
  {
   "cell_type": "markdown",
   "metadata": {},
   "source": [
    "## 4.1. Correlations"
   ]
  },
  {
   "cell_type": "markdown",
   "metadata": {},
   "source": [
    "On the section below we choose user features with the highest correlation to target. For tweets and description features we chose high correlated features above."
   ]
  },
  {
   "cell_type": "markdown",
   "metadata": {},
   "source": [
    "### Target - Feature Correlations: User Features"
   ]
  },
  {
   "cell_type": "code",
   "execution_count": 157,
   "metadata": {},
   "outputs": [
    {
     "name": "stdout",
     "output_type": "stream",
     "text": [
      "\u001b[1m---------------Target - Feature Correlations---------------\u001b[0m\u001b[0m\n",
      "\n",
      "\u001b[1m*** pearson best 10 correlation results ***\u001b[0m\u001b[0m\n",
      "is_favourite -0.8213190694808827\n",
      "statuses_count_binning -0.7152237317990724\n",
      "profile_banner_url_len -0.6334670314652076\n",
      "profile_banner_url_most_common 0.6308267000370438\n",
      "bin_followers_count -0.5266178365117588\n",
      "geo_enabled -0.4850199497669231\n",
      "time_zone_most_common 0.43609469098969944\n",
      "is_top_month 0.3797496310780204\n",
      "profile_background_color_unique_dist 0.3727125349041029\n",
      "is_utc_offset -0.3696063648983339\n",
      "time_zone_unique -0.36857292506672146\n",
      "\n",
      "\u001b[1m*** kendall best 10 correlation results ***\u001b[0m\u001b[0m\n",
      "is_favourite -0.8213190694808825\n",
      "favourites_count -0.7844299933781393\n",
      "statuses_count_binning -0.6877574852658319\n",
      "profile_banner_url_most_common 0.6308267000370429\n",
      "profile_banner_url_len -0.6085600600354579\n",
      "statuses_count -0.5342907031773665\n",
      "geo_enabled -0.4850199497669217\n",
      "bin_followers_count -0.47066705357482563\n",
      "profile_banner_url_unique -0.4523520153379925\n",
      "profile_banner_url_unique_mode -0.4523520153379925\n",
      "time_zone_most_common 0.43609469098970033\n",
      "\n",
      "\u001b[1m*** spearman best 10 correlation results ***\u001b[0m\u001b[0m\n",
      "favourites_count -0.8629122926525928\n",
      "is_favourite -0.8213190694808827\n",
      "statuses_count_binning -0.7123428992858545\n",
      "statuses_count -0.6528006357051084\n",
      "profile_banner_url_len -0.6456236121117073\n",
      "profile_banner_url_most_common 0.630826700037043\n",
      "bin_followers_count -0.5072211862810718\n",
      "profile_banner_url_unique -0.49721869831809523\n",
      "profile_banner_url_unique_mode -0.49721869831809523\n",
      "geo_enabled -0.48501994976692175\n",
      "followers_count -0.46364539239061203\n",
      "\n"
     ]
    }
   ],
   "source": [
    "methods = ['pearson', 'kendall', 'spearman']\n",
    "features_list_to_drop = tweet_features + description_features + ['bot']\n",
    "General_Lib.Print_Target_Features_Correlation(total_data, \n",
    "                                              methods, \n",
    "                                              'bot', \n",
    "                                              features_list_to_drop)"
   ]
  },
  {
   "cell_type": "code",
   "execution_count": 158,
   "metadata": {},
   "outputs": [],
   "source": [
    "top_base_correlated_features = ['is_favourite', \n",
    "                                'statuses_count_binning',\n",
    "                                'bin_followers_count', \n",
    "                                'profile_background_color_unique_dist',\n",
    "                                'is_utc_offset',\n",
    "                                'is_top_month',\n",
    "                                'geo_enabled',\n",
    "                                'time_zone_most_common',\n",
    "                                'profile_banner_url_len']"
   ]
  },
  {
   "cell_type": "code",
   "execution_count": 159,
   "metadata": {},
   "outputs": [],
   "source": [
    "total_features_to_use = top_base_correlated_features + tweet_features_for_models + description_features_for_model"
   ]
  },
  {
   "cell_type": "markdown",
   "metadata": {},
   "source": [
    "# 5. Data Division"
   ]
  },
  {
   "cell_type": "markdown",
   "metadata": {},
   "source": [
    "Dividing data by binary columns 'test_set_1' (we use it as validation set) and 'test_set_2' (we use it by test set). When marked with '1' an account belongs to a test set, otherwise, belongs to training set."
   ]
  },
  {
   "cell_type": "code",
   "execution_count": 160,
   "metadata": {},
   "outputs": [],
   "source": [
    "train_data, test_set_1, test_set_2 = General_Lib.train_test_division(total_data)"
   ]
  },
  {
   "cell_type": "markdown",
   "metadata": {},
   "source": [
    "# 6. Model"
   ]
  },
  {
   "cell_type": "markdown",
   "metadata": {},
   "source": [
    "**Dividing train data into X values and y values**"
   ]
  },
  {
   "cell_type": "code",
   "execution_count": 161,
   "metadata": {
    "scrolled": true
   },
   "outputs": [],
   "source": [
    "y_train = train_data['bot']\n",
    "x_train = train_data[total_features_to_use]"
   ]
  },
  {
   "cell_type": "markdown",
   "metadata": {},
   "source": [
    "## 6.1. Decision Trees"
   ]
  },
  {
   "cell_type": "code",
   "execution_count": 162,
   "metadata": {},
   "outputs": [
    {
     "data": {
      "text/plain": [
       "DecisionTreeClassifier(class_weight={0: 1, 1: 2}, criterion='entropy',\n",
       "            max_depth=None, max_features=None, max_leaf_nodes=None,\n",
       "            min_impurity_decrease=0.0, min_impurity_split=None,\n",
       "            min_samples_leaf=1, min_samples_split=2,\n",
       "            min_weight_fraction_leaf=0.0, presort=False, random_state=None,\n",
       "            splitter='best')"
      ]
     },
     "execution_count": 162,
     "metadata": {},
     "output_type": "execute_result"
    }
   ],
   "source": [
    "from sklearn.tree import DecisionTreeClassifier \n",
    "from sklearn import tree\n",
    "DTclassifier = DecisionTreeClassifier(criterion='entropy', class_weight = {0:1,1:2})  \n",
    "DTclassifier.fit(x_train, y_train)"
   ]
  },
  {
   "cell_type": "markdown",
   "metadata": {},
   "source": [
    "## 6.2. Random forest"
   ]
  },
  {
   "cell_type": "code",
   "execution_count": 163,
   "metadata": {},
   "outputs": [
    {
     "data": {
      "text/plain": [
       "RandomForestRegressor(bootstrap=True, criterion='mse', max_depth=None,\n",
       "           max_features='auto', max_leaf_nodes=None,\n",
       "           min_impurity_decrease=0.0, min_impurity_split=None,\n",
       "           min_samples_leaf=1, min_samples_split=2,\n",
       "           min_weight_fraction_leaf=0.0, n_estimators=20, n_jobs=None,\n",
       "           oob_score=False, random_state=0, verbose=0, warm_start=False)"
      ]
     },
     "execution_count": 163,
     "metadata": {},
     "output_type": "execute_result"
    }
   ],
   "source": [
    "from sklearn.ensemble import RandomForestRegressor\n",
    "RFclassifier = RandomForestRegressor(n_estimators=20, random_state=0)  \n",
    "RFclassifier.fit(x_train, y_train)   "
   ]
  },
  {
   "cell_type": "code",
   "execution_count": 164,
   "metadata": {},
   "outputs": [],
   "source": [
    "feature_importances = pd.DataFrame(RFclassifier.feature_importances_,\n",
    "                                   index = x_train.columns,\n",
    "                                   columns=['importance']).sort_values('importance',ascending=False)"
   ]
  },
  {
   "cell_type": "code",
   "execution_count": 165,
   "metadata": {},
   "outputs": [
    {
     "data": {
      "text/html": [
       "<div>\n",
       "<style scoped>\n",
       "    .dataframe tbody tr th:only-of-type {\n",
       "        vertical-align: middle;\n",
       "    }\n",
       "\n",
       "    .dataframe tbody tr th {\n",
       "        vertical-align: top;\n",
       "    }\n",
       "\n",
       "    .dataframe thead th {\n",
       "        text-align: right;\n",
       "    }\n",
       "</style>\n",
       "<table border=\"1\" class=\"dataframe\">\n",
       "  <thead>\n",
       "    <tr style=\"text-align: right;\">\n",
       "      <th></th>\n",
       "      <th>importance</th>\n",
       "    </tr>\n",
       "  </thead>\n",
       "  <tbody>\n",
       "    <tr>\n",
       "      <th>500&lt;var&lt;750</th>\n",
       "      <td>0.779561</td>\n",
       "    </tr>\n",
       "    <tr>\n",
       "      <th>p_mentions</th>\n",
       "      <td>0.077339</td>\n",
       "    </tr>\n",
       "    <tr>\n",
       "      <th>profile_background_color_unique_dist</th>\n",
       "      <td>0.028848</td>\n",
       "    </tr>\n",
       "    <tr>\n",
       "      <th>p_hashtags</th>\n",
       "      <td>0.021604</td>\n",
       "    </tr>\n",
       "    <tr>\n",
       "      <th>avg_word</th>\n",
       "      <td>0.021510</td>\n",
       "    </tr>\n",
       "    <tr>\n",
       "      <th>is_utc_offset</th>\n",
       "      <td>0.020734</td>\n",
       "    </tr>\n",
       "    <tr>\n",
       "      <th>profile_banner_url_len</th>\n",
       "      <td>0.014308</td>\n",
       "    </tr>\n",
       "    <tr>\n",
       "      <th>word_count</th>\n",
       "      <td>0.012746</td>\n",
       "    </tr>\n",
       "    <tr>\n",
       "      <th>is_favourite</th>\n",
       "      <td>0.005248</td>\n",
       "    </tr>\n",
       "    <tr>\n",
       "      <th>statuses_count_binning</th>\n",
       "      <td>0.005080</td>\n",
       "    </tr>\n",
       "    <tr>\n",
       "      <th>time_zone_most_common</th>\n",
       "      <td>0.004590</td>\n",
       "    </tr>\n",
       "    <tr>\n",
       "      <th>bin_followers_count</th>\n",
       "      <td>0.002852</td>\n",
       "    </tr>\n",
       "    <tr>\n",
       "      <th>geo_enabled</th>\n",
       "      <td>0.002098</td>\n",
       "    </tr>\n",
       "    <tr>\n",
       "      <th>stopwords</th>\n",
       "      <td>0.001568</td>\n",
       "    </tr>\n",
       "    <tr>\n",
       "      <th>is_top_month</th>\n",
       "      <td>0.001148</td>\n",
       "    </tr>\n",
       "    <tr>\n",
       "      <th>different_lang</th>\n",
       "      <td>0.000520</td>\n",
       "    </tr>\n",
       "    <tr>\n",
       "      <th>job_appearances</th>\n",
       "      <td>0.000151</td>\n",
       "    </tr>\n",
       "    <tr>\n",
       "      <th>follow_appearances</th>\n",
       "      <td>0.000096</td>\n",
       "    </tr>\n",
       "  </tbody>\n",
       "</table>\n",
       "</div>"
      ],
      "text/plain": [
       "                                      importance\n",
       "500<var<750                             0.779561\n",
       "p_mentions                              0.077339\n",
       "profile_background_color_unique_dist    0.028848\n",
       "p_hashtags                              0.021604\n",
       "avg_word                                0.021510\n",
       "is_utc_offset                           0.020734\n",
       "profile_banner_url_len                  0.014308\n",
       "word_count                              0.012746\n",
       "is_favourite                            0.005248\n",
       "statuses_count_binning                  0.005080\n",
       "time_zone_most_common                   0.004590\n",
       "bin_followers_count                     0.002852\n",
       "geo_enabled                             0.002098\n",
       "stopwords                               0.001568\n",
       "is_top_month                            0.001148\n",
       "different_lang                          0.000520\n",
       "job_appearances                         0.000151\n",
       "follow_appearances                      0.000096"
      ]
     },
     "execution_count": 165,
     "metadata": {},
     "output_type": "execute_result"
    }
   ],
   "source": [
    "feature_importances"
   ]
  },
  {
   "cell_type": "markdown",
   "metadata": {},
   "source": [
    "## 6.3. Naive Bayes"
   ]
  },
  {
   "cell_type": "code",
   "execution_count": 166,
   "metadata": {},
   "outputs": [
    {
     "data": {
      "text/plain": [
       "GaussianNB(priors=None, var_smoothing=1e-09)"
      ]
     },
     "execution_count": 166,
     "metadata": {},
     "output_type": "execute_result"
    }
   ],
   "source": [
    "from sklearn.naive_bayes import GaussianNB\n",
    "NBclassifier = GaussianNB()\n",
    "NBclassifier.fit(x_train, y_train)"
   ]
  },
  {
   "cell_type": "code",
   "execution_count": 167,
   "metadata": {},
   "outputs": [
    {
     "data": {
      "text/plain": [
       "array([[9.39195298e-01, 2.76898734e+00, 4.44552441e+00, 8.03770344e+01,\n",
       "        4.32188065e-01, 3.52848101e-01, 5.61030741e-01, 2.75768535e-01,\n",
       "        4.53013110e+01, 4.43769319e-01, 7.78425445e-01, 8.78390597e-01,\n",
       "        1.15804702e+01, 5.48874180e+00, 3.08679928e+00, 3.39059675e-03,\n",
       "        1.62748644e-02, 8.17811935e-01],\n",
       "       [7.63852103e-02, 1.21633648e+00, 2.28668291e+00, 4.28634707e+02,\n",
       "        1.01705689e-02, 7.43616909e-01, 1.32429283e-01, 8.23180422e-01,\n",
       "        9.78408730e+00, 1.31112989e-01, 2.21668247e-01, 1.71628350e-02,\n",
       "        7.17152241e+00, 2.55151104e+00, 1.61680263e+00, 2.02140057e-01,\n",
       "        3.33721793e-02, 9.27216866e-01]])"
      ]
     },
     "execution_count": 167,
     "metadata": {},
     "output_type": "execute_result"
    }
   ],
   "source": [
    "NBclassifier.theta_ "
   ]
  },
  {
   "cell_type": "markdown",
   "metadata": {},
   "source": [
    "## 6.4. Logistic Resression"
   ]
  },
  {
   "cell_type": "code",
   "execution_count": 168,
   "metadata": {},
   "outputs": [
    {
     "name": "stderr",
     "output_type": "stream",
     "text": [
      "C:\\Users\\DELL\\Anaconda3\\lib\\site-packages\\sklearn\\linear_model\\logistic.py:433: FutureWarning: Default solver will be changed to 'lbfgs' in 0.22. Specify a solver to silence this warning.\n",
      "  FutureWarning)\n"
     ]
    },
    {
     "data": {
      "text/plain": [
       "LogisticRegression(C=1.0, class_weight=None, dual=False, fit_intercept=True,\n",
       "          intercept_scaling=1, max_iter=100, multi_class='warn',\n",
       "          n_jobs=None, penalty='l2', random_state=None, solver='warn',\n",
       "          tol=0.0001, verbose=0, warm_start=False)"
      ]
     },
     "execution_count": 168,
     "metadata": {},
     "output_type": "execute_result"
    }
   ],
   "source": [
    "from sklearn.linear_model import LogisticRegression\n",
    "LRclassifier = LogisticRegression()\n",
    "LRclassifier.fit(x_train, y_train)"
   ]
  },
  {
   "cell_type": "code",
   "execution_count": 169,
   "metadata": {},
   "outputs": [
    {
     "data": {
      "text/plain": [
       "array([[-1.88506616e+00, -1.74959232e-01,  6.97095854e-02,\n",
       "         2.42890405e-03, -1.23152731e+00,  8.36370593e-01,\n",
       "        -6.01384630e-01,  1.22943236e+00, -3.49710474e-02,\n",
       "        -1.41048052e+00, -2.16034729e+00, -4.75184532e+00,\n",
       "         3.55975670e-02, -1.96385645e-02, -1.58788613e-01,\n",
       "         1.89632460e+00,  2.42927499e-01,  1.21728920e+00]])"
      ]
     },
     "execution_count": 169,
     "metadata": {},
     "output_type": "execute_result"
    }
   ],
   "source": [
    "LRclassifier.coef_ "
   ]
  },
  {
   "cell_type": "markdown",
   "metadata": {},
   "source": [
    "# 7. Model Evaluation"
   ]
  },
  {
   "cell_type": "code",
   "execution_count": 170,
   "metadata": {},
   "outputs": [],
   "source": [
    "import Evaluation_Results_Lib\n",
    "results_analyzer = False\n",
    "compare_results = False"
   ]
  },
  {
   "cell_type": "markdown",
   "metadata": {},
   "source": [
    "**Dividing validation and test data into X values and y values**"
   ]
  },
  {
   "cell_type": "code",
   "execution_count": 171,
   "metadata": {},
   "outputs": [],
   "source": [
    "y_validation = test_set_1['bot']\n",
    "x_validation = test_set_1[total_features_to_use]"
   ]
  },
  {
   "cell_type": "code",
   "execution_count": 172,
   "metadata": {},
   "outputs": [],
   "source": [
    "y_test = test_set_2['bot']\n",
    "x_test = test_set_2[total_features_to_use]"
   ]
  },
  {
   "cell_type": "markdown",
   "metadata": {},
   "source": [
    "## 7.1. Decision Trees"
   ]
  },
  {
   "cell_type": "markdown",
   "metadata": {},
   "source": [
    "### 7.1.1. Validation Set"
   ]
  },
  {
   "cell_type": "code",
   "execution_count": 173,
   "metadata": {},
   "outputs": [],
   "source": [
    "y_pred_descisionTree = DTclassifier.predict(x_validation)  \n",
    "y_pred_descisionTree_probs = DTclassifier.predict_proba(x_validation)"
   ]
  },
  {
   "cell_type": "code",
   "execution_count": 174,
   "metadata": {
    "scrolled": true
   },
   "outputs": [
    {
     "name": "stdout",
     "output_type": "stream",
     "text": [
      "Confusion Matrix :\n",
      "[[992   8]\n",
      " [ 92 899]]\n",
      "Classification Report :\n",
      "              precision    recall  f1-score   support\n",
      "\n",
      "           0       0.92      0.99      0.95      1000\n",
      "           1       0.99      0.91      0.95       991\n",
      "\n",
      "   micro avg       0.95      0.95      0.95      1991\n",
      "   macro avg       0.95      0.95      0.95      1991\n",
      "weighted avg       0.95      0.95      0.95      1991\n",
      "\n",
      "Accuracy :  0.9497739829231542\n",
      "MCC :  0.9027296047427779\n",
      "Specificity :  0.9071644803229062\n"
     ]
    }
   ],
   "source": [
    "Evaluation_Results_Lib.print_results(y_validation, \n",
    "                                     y_pred_descisionTree, \n",
    "                                     analyze_results = results_analyzer, \n",
    "                                     classifier_name = 'Decision_Tree')"
   ]
  },
  {
   "cell_type": "markdown",
   "metadata": {},
   "source": [
    "### 7.1.2. Test Set"
   ]
  },
  {
   "cell_type": "code",
   "execution_count": 175,
   "metadata": {},
   "outputs": [],
   "source": [
    "y_pred_descisionTree_test = DTclassifier.predict(x_test)  \n",
    "y_pred_descisionTree_probs_test = DTclassifier.predict_proba(x_test)"
   ]
  },
  {
   "cell_type": "code",
   "execution_count": 176,
   "metadata": {},
   "outputs": [
    {
     "name": "stdout",
     "output_type": "stream",
     "text": [
      "Confusion Matrix :\n",
      "[[486   4]\n",
      " [ 21 443]]\n",
      "Classification Report :\n",
      "              precision    recall  f1-score   support\n",
      "\n",
      "           0       0.96      0.99      0.97       490\n",
      "           1       0.99      0.95      0.97       464\n",
      "\n",
      "   micro avg       0.97      0.97      0.97       954\n",
      "   macro avg       0.97      0.97      0.97       954\n",
      "weighted avg       0.97      0.97      0.97       954\n",
      "\n",
      "Accuracy :  0.9737945492662474\n",
      "MCC :  0.948103495846641\n",
      "Specificity :  0.9547413793103449\n"
     ]
    }
   ],
   "source": [
    "Evaluation_Results_Lib.print_results(y_test, \n",
    "                                     y_pred_descisionTree_test, \n",
    "                                     analyze_results = results_analyzer, \n",
    "                                     classifier_name = 'Decision_Tree')"
   ]
  },
  {
   "cell_type": "markdown",
   "metadata": {},
   "source": [
    "## 7.2. Random forest"
   ]
  },
  {
   "cell_type": "markdown",
   "metadata": {},
   "source": [
    "### 7.2.1. Validation Set"
   ]
  },
  {
   "cell_type": "code",
   "execution_count": 177,
   "metadata": {},
   "outputs": [],
   "source": [
    "# Random forest\n",
    "y_pred_forest = RFclassifier.predict(x_validation)\n",
    "y_pred_forest_probs = y_pred_forest"
   ]
  },
  {
   "cell_type": "code",
   "execution_count": 178,
   "metadata": {},
   "outputs": [],
   "source": [
    "y_pred_forest = y_pred_forest >=0.5\n",
    "y_pred_forest = y_pred_forest.astype(int)"
   ]
  },
  {
   "cell_type": "code",
   "execution_count": 179,
   "metadata": {},
   "outputs": [
    {
     "data": {
      "text/plain": [
       "array([0, 1])"
      ]
     },
     "execution_count": 179,
     "metadata": {},
     "output_type": "execute_result"
    }
   ],
   "source": [
    "np.unique(y_pred_forest)"
   ]
  },
  {
   "cell_type": "code",
   "execution_count": 180,
   "metadata": {},
   "outputs": [
    {
     "name": "stdout",
     "output_type": "stream",
     "text": [
      "Confusion Matrix :\n",
      "[[995   5]\n",
      " [ 52 939]]\n",
      "Classification Report :\n",
      "              precision    recall  f1-score   support\n",
      "\n",
      "           0       0.95      0.99      0.97      1000\n",
      "           1       0.99      0.95      0.97       991\n",
      "\n",
      "   micro avg       0.97      0.97      0.97      1991\n",
      "   macro avg       0.97      0.97      0.97      1991\n",
      "weighted avg       0.97      0.97      0.97      1991\n",
      "\n",
      "Accuracy :  0.9713711702661979\n",
      "MCC :  0.9437818796364495\n",
      "Specificity :  0.9475277497477296\n"
     ]
    }
   ],
   "source": [
    "Evaluation_Results_Lib.print_results(y_validation, \n",
    "                                     y_pred_forest, \n",
    "                                     analyze_results = results_analyzer, \n",
    "                                     classifier_name = 'Random_Forest')"
   ]
  },
  {
   "cell_type": "markdown",
   "metadata": {},
   "source": [
    "### 7.2.2. Test Set"
   ]
  },
  {
   "cell_type": "code",
   "execution_count": 181,
   "metadata": {},
   "outputs": [],
   "source": [
    "# Random forest\n",
    "y_pred_forest_test = RFclassifier.predict(x_test)\n",
    "y_pred_forest_probs_test = y_pred_forest_test"
   ]
  },
  {
   "cell_type": "code",
   "execution_count": 182,
   "metadata": {},
   "outputs": [],
   "source": [
    "y_pred_forest_test = y_pred_forest_test >=0.5\n",
    "y_pred_forest_test = y_pred_forest_test.astype(int)"
   ]
  },
  {
   "cell_type": "code",
   "execution_count": 183,
   "metadata": {},
   "outputs": [
    {
     "name": "stdout",
     "output_type": "stream",
     "text": [
      "Confusion Matrix :\n",
      "[[486   4]\n",
      " [ 22 442]]\n",
      "Classification Report :\n",
      "              precision    recall  f1-score   support\n",
      "\n",
      "           0       0.96      0.99      0.97       490\n",
      "           1       0.99      0.95      0.97       464\n",
      "\n",
      "   micro avg       0.97      0.97      0.97       954\n",
      "   macro avg       0.97      0.97      0.97       954\n",
      "weighted avg       0.97      0.97      0.97       954\n",
      "\n",
      "Accuracy :  0.9727463312368972\n",
      "MCC :  0.9460721825249041\n",
      "Specificity :  0.9525862068965517\n"
     ]
    }
   ],
   "source": [
    "Evaluation_Results_Lib.print_results(y_test, \n",
    "                                     y_pred_forest_test, \n",
    "                                     analyze_results = results_analyzer, \n",
    "                                     classifier_name = 'Random_Forest')"
   ]
  },
  {
   "cell_type": "markdown",
   "metadata": {},
   "source": [
    "## 7.3. Naive Bayes"
   ]
  },
  {
   "cell_type": "markdown",
   "metadata": {},
   "source": [
    "### 7.3.1 Validation Set"
   ]
  },
  {
   "cell_type": "code",
   "execution_count": 184,
   "metadata": {},
   "outputs": [],
   "source": [
    "y_pred_nb = NBclassifier.predict(x_validation)\n",
    "y_pred_nb_probs = NBclassifier.predict_proba(x_validation)"
   ]
  },
  {
   "cell_type": "code",
   "execution_count": 185,
   "metadata": {},
   "outputs": [
    {
     "name": "stdout",
     "output_type": "stream",
     "text": [
      "Confusion Matrix :\n",
      "[[998   2]\n",
      " [911  80]]\n",
      "Classification Report :\n",
      "              precision    recall  f1-score   support\n",
      "\n",
      "           0       0.52      1.00      0.69      1000\n",
      "           1       0.98      0.08      0.15       991\n",
      "\n",
      "   micro avg       0.54      0.54      0.54      1991\n",
      "   macro avg       0.75      0.54      0.42      1991\n",
      "weighted avg       0.75      0.54      0.42      1991\n",
      "\n",
      "Accuracy :  0.5414364640883977\n",
      "MCC :  0.19808340613654948\n",
      "Specificity :  0.08072653884964683\n"
     ]
    }
   ],
   "source": [
    "Evaluation_Results_Lib.print_results(y_validation, \n",
    "                                     y_pred_nb, \n",
    "                                     analyze_results = results_analyzer, \n",
    "                                     classifier_name = 'Naive_Bayes')"
   ]
  },
  {
   "cell_type": "markdown",
   "metadata": {},
   "source": [
    "### 7.3.2 Test Set"
   ]
  },
  {
   "cell_type": "code",
   "execution_count": 186,
   "metadata": {},
   "outputs": [],
   "source": [
    "y_pred_nb_test = NBclassifier.predict(x_test)\n",
    "y_pred_nb_probs_test = NBclassifier.predict_proba(x_test)"
   ]
  },
  {
   "cell_type": "code",
   "execution_count": 187,
   "metadata": {},
   "outputs": [
    {
     "name": "stdout",
     "output_type": "stream",
     "text": [
      "Confusion Matrix :\n",
      "[[489   1]\n",
      " [220 244]]\n",
      "Classification Report :\n",
      "              precision    recall  f1-score   support\n",
      "\n",
      "           0       0.69      1.00      0.82       490\n",
      "           1       1.00      0.53      0.69       464\n",
      "\n",
      "   micro avg       0.77      0.77      0.77       954\n",
      "   macro avg       0.84      0.76      0.75       954\n",
      "weighted avg       0.84      0.77      0.75       954\n",
      "\n",
      "Accuracy :  0.7683438155136268\n",
      "MCC :  0.5992857972802867\n",
      "Specificity :  0.5258620689655172\n"
     ]
    }
   ],
   "source": [
    "Evaluation_Results_Lib.print_results(y_test, \n",
    "                                     y_pred_nb_test, \n",
    "                                     analyze_results = results_analyzer, \n",
    "                                     classifier_name = 'Naive_Bayes')"
   ]
  },
  {
   "cell_type": "markdown",
   "metadata": {},
   "source": [
    "## 7.4. Logistic regression"
   ]
  },
  {
   "cell_type": "markdown",
   "metadata": {},
   "source": [
    "### 7.4.1. Validation Set"
   ]
  },
  {
   "cell_type": "code",
   "execution_count": 188,
   "metadata": {},
   "outputs": [],
   "source": [
    "y_pred_lr = LRclassifier.predict(x_validation)\n",
    "y_pred_lr_probs = LRclassifier.predict_proba(x_validation)"
   ]
  },
  {
   "cell_type": "code",
   "execution_count": 189,
   "metadata": {},
   "outputs": [
    {
     "name": "stdout",
     "output_type": "stream",
     "text": [
      "Confusion Matrix :\n",
      "[[994   6]\n",
      " [ 56 935]]\n",
      "Classification Report :\n",
      "              precision    recall  f1-score   support\n",
      "\n",
      "           0       0.95      0.99      0.97      1000\n",
      "           1       0.99      0.94      0.97       991\n",
      "\n",
      "   micro avg       0.97      0.97      0.97      1991\n",
      "   macro avg       0.97      0.97      0.97      1991\n",
      "weighted avg       0.97      0.97      0.97      1991\n",
      "\n",
      "Accuracy :  0.9688598694123556\n",
      "MCC :  0.9388899038917626\n",
      "Specificity :  0.9434914228052472\n"
     ]
    }
   ],
   "source": [
    "Evaluation_Results_Lib.print_results(y_validation, \n",
    "                                     y_pred_lr, \n",
    "                                     analyze_results = results_analyzer, \n",
    "                                     classifier_name = 'Logistic_Regression')"
   ]
  },
  {
   "cell_type": "markdown",
   "metadata": {},
   "source": [
    "### 7.4.2. Test Set"
   ]
  },
  {
   "cell_type": "code",
   "execution_count": 190,
   "metadata": {},
   "outputs": [],
   "source": [
    "y_pred_lr_test = LRclassifier.predict(x_test)\n",
    "y_pred_lr_probs_test = LRclassifier.predict_proba(x_test)"
   ]
  },
  {
   "cell_type": "code",
   "execution_count": 191,
   "metadata": {},
   "outputs": [
    {
     "name": "stdout",
     "output_type": "stream",
     "text": [
      "Confusion Matrix :\n",
      "[[486   4]\n",
      " [ 21 443]]\n",
      "Classification Report :\n",
      "              precision    recall  f1-score   support\n",
      "\n",
      "           0       0.96      0.99      0.97       490\n",
      "           1       0.99      0.95      0.97       464\n",
      "\n",
      "   micro avg       0.97      0.97      0.97       954\n",
      "   macro avg       0.97      0.97      0.97       954\n",
      "weighted avg       0.97      0.97      0.97       954\n",
      "\n",
      "Accuracy :  0.9737945492662474\n",
      "MCC :  0.948103495846641\n",
      "Specificity :  0.9547413793103449\n"
     ]
    }
   ],
   "source": [
    "Evaluation_Results_Lib.print_results(y_test, \n",
    "                                     y_pred_lr_test, \n",
    "                                     analyze_results = results_analyzer, \n",
    "                                     classifier_name = 'Logistic_Regression')"
   ]
  },
  {
   "cell_type": "markdown",
   "metadata": {},
   "source": [
    "## 7.5. Collective Model"
   ]
  },
  {
   "cell_type": "markdown",
   "metadata": {},
   "source": [
    "This model classifies by the majority in all models"
   ]
  },
  {
   "cell_type": "markdown",
   "metadata": {},
   "source": [
    "### 7.5.1. Validation Set"
   ]
  },
  {
   "cell_type": "code",
   "execution_count": 192,
   "metadata": {},
   "outputs": [],
   "source": [
    "res_dict = {'Decision_Trees':y_pred_descisionTree, \n",
    "            'Random_Forest':y_pred_forest, \n",
    "            'Naive_bayes':y_pred_nb,\n",
    "            'LG':y_pred_lr\n",
    "           }\n",
    "\n",
    "results = pd.DataFrame(data = res_dict)\n",
    "results['Collective_Model'] = results.mode(axis = 1)[0]"
   ]
  },
  {
   "cell_type": "code",
   "execution_count": 193,
   "metadata": {},
   "outputs": [
    {
     "name": "stdout",
     "output_type": "stream",
     "text": [
      "Confusion Matrix :\n",
      "[[998   2]\n",
      " [109 882]]\n",
      "Classification Report :\n",
      "              precision    recall  f1-score   support\n",
      "\n",
      "           0       0.90      1.00      0.95      1000\n",
      "           1       1.00      0.89      0.94       991\n",
      "\n",
      "   micro avg       0.94      0.94      0.94      1991\n",
      "   macro avg       0.95      0.94      0.94      1991\n",
      "weighted avg       0.95      0.94      0.94      1991\n",
      "\n",
      "Accuracy :  0.9442491210447012\n",
      "MCC :  0.8936239199266683\n",
      "Specificity :  0.8900100908173562\n"
     ]
    }
   ],
   "source": [
    "Evaluation_Results_Lib.print_results(y_validation, \n",
    "                                     results['Collective_Model'], \n",
    "                                     analyze_results = False, \n",
    "                                     classifier_name = 'Collective_Model')"
   ]
  },
  {
   "cell_type": "markdown",
   "metadata": {},
   "source": [
    "### 7.5.2. Test Set"
   ]
  },
  {
   "cell_type": "code",
   "execution_count": 194,
   "metadata": {},
   "outputs": [],
   "source": [
    "res_dict_test = {'Decision_Trees':y_pred_descisionTree_test, \n",
    "                 'Random_Forest':y_pred_forest_test, \n",
    "                 'Naive_bayes':y_pred_nb_test,\n",
    "                 'LG':y_pred_lr_test\n",
    "                }\n",
    "\n",
    "results_test = pd.DataFrame(data = res_dict_test)\n",
    "results_test['Collective_Model'] = results_test.mode(axis = 1)[0]"
   ]
  },
  {
   "cell_type": "code",
   "execution_count": 195,
   "metadata": {},
   "outputs": [
    {
     "name": "stdout",
     "output_type": "stream",
     "text": [
      "Confusion Matrix :\n",
      "[[488   2]\n",
      " [ 27 437]]\n",
      "Classification Report :\n",
      "              precision    recall  f1-score   support\n",
      "\n",
      "           0       0.95      1.00      0.97       490\n",
      "           1       1.00      0.94      0.97       464\n",
      "\n",
      "   micro avg       0.97      0.97      0.97       954\n",
      "   macro avg       0.97      0.97      0.97       954\n",
      "weighted avg       0.97      0.97      0.97       954\n",
      "\n",
      "Accuracy :  0.9696016771488469\n",
      "MCC :  0.9403691421023607\n",
      "Specificity :  0.9418103448275862\n"
     ]
    }
   ],
   "source": [
    "Evaluation_Results_Lib.print_results(y_test, \n",
    "                                     results_test['Collective_Model'], \n",
    "                                     analyze_results = results_analyzer, \n",
    "                                     classifier_name = 'Collective_Model')"
   ]
  },
  {
   "cell_type": "markdown",
   "metadata": {},
   "source": [
    "## 7.6. ROC\\AUC"
   ]
  },
  {
   "cell_type": "markdown",
   "metadata": {},
   "source": [
    "### 7.6.1 Validation Set "
   ]
  },
  {
   "cell_type": "code",
   "execution_count": 196,
   "metadata": {
    "scrolled": true
   },
   "outputs": [
    {
     "data": {
      "image/png": "[encoded data removed]",
      "text/plain": [
       "<matplotlib.figure.Figure at 0x25a8734b2b0>"
      ]
     },
     "metadata": {},
     "output_type": "display_data"
    },
    {
     "data": {
      "image/png": "[encoded data removed]",
      "text/plain": [
       "<matplotlib.figure.Figure at 0x25a86faed68>"
      ]
     },
     "metadata": {},
     "output_type": "display_data"
    }
   ],
   "source": [
    "Evaluation_Results_Lib.Plot_Metrics(y_validation,\n",
    "                                    y_pred_descisionTree_probs[:,1], \n",
    "                                    'Descision_Tree')"
   ]
  },
  {
   "cell_type": "code",
   "execution_count": 197,
   "metadata": {
    "scrolled": false
   },
   "outputs": [
    {
     "data": {
      "image/png": "[encoded data removed]",
      "text/plain": [
       "<matplotlib.figure.Figure at 0x25a873b6ba8>"
      ]
     },
     "metadata": {},
     "output_type": "display_data"
    },
    {
     "data": {
      "image/png": "[encoded data removed]",
      "text/plain": [
       "<matplotlib.figure.Figure at 0x25a86f9ed30>"
      ]
     },
     "metadata": {},
     "output_type": "display_data"
    }
   ],
   "source": [
    "Evaluation_Results_Lib.Plot_Metrics(y_validation,\n",
    "                                    y_pred_forest_probs, \n",
    "                                    'Random_Forest')"
   ]
  },
  {
   "cell_type": "code",
   "execution_count": 198,
   "metadata": {},
   "outputs": [
    {
     "data": {
      "image/png": "[encoded data removed]",
      "text/plain": [
       "<matplotlib.figure.Figure at 0x25a801f3ac8>"
      ]
     },
     "metadata": {},
     "output_type": "display_data"
    },
    {
     "data": {
      "image/png": "[encoded data removed]",
      "text/plain": [
       "<matplotlib.figure.Figure at 0x25a874c9fd0>"
      ]
     },
     "metadata": {},
     "output_type": "display_data"
    }
   ],
   "source": [
    "Evaluation_Results_Lib.Plot_Metrics(y_validation,\n",
    "                                    y_pred_nb_probs[:,1], \n",
    "                                    'Naive_Bayes')"
   ]
  },
  {
   "cell_type": "code",
   "execution_count": 199,
   "metadata": {},
   "outputs": [
    {
     "data": {
      "image/png": "[encoded data removed]",
      "text/plain": [
       "<matplotlib.figure.Figure at 0x25a873c33c8>"
      ]
     },
     "metadata": {},
     "output_type": "display_data"
    },
    {
     "data": {
      "image/png": "[encoded data removed]",
      "text/plain": [
       "<matplotlib.figure.Figure at 0x25a86ee7550>"
      ]
     },
     "metadata": {},
     "output_type": "display_data"
    }
   ],
   "source": [
    "Evaluation_Results_Lib.Plot_Metrics(y_validation,\n",
    "                                    y_pred_lr_probs[:,1], \n",
    "                                    'Logistic_Regression')"
   ]
  },
  {
   "cell_type": "markdown",
   "metadata": {},
   "source": [
    "### 7.6.2. Test Set "
   ]
  },
  {
   "cell_type": "code",
   "execution_count": 200,
   "metadata": {
    "scrolled": true
   },
   "outputs": [
    {
     "data": {
      "image/png": "[encoded data removed]",
      "text/plain": [
       "<matplotlib.figure.Figure at 0x25a87386128>"
      ]
     },
     "metadata": {},
     "output_type": "display_data"
    },
    {
     "data": {
      "image/png": "[encoded data removed]",
      "text/plain": [
       "<matplotlib.figure.Figure at 0x25a87399e80>"
      ]
     },
     "metadata": {},
     "output_type": "display_data"
    }
   ],
   "source": [
    "Evaluation_Results_Lib.Plot_Metrics(y_test,\n",
    "                                    y_pred_descisionTree_probs_test[:,1], \n",
    "                                    'Descision_Tree')"
   ]
  },
  {
   "cell_type": "code",
   "execution_count": 201,
   "metadata": {
    "scrolled": false
   },
   "outputs": [
    {
     "data": {
      "image/png": "[encoded data removed]",
      "text/plain": [
       "<matplotlib.figure.Figure at 0x25a81f54cc0>"
      ]
     },
     "metadata": {},
     "output_type": "display_data"
    },
    {
     "data": {
      "image/png": "[encoded data removed]",
      "text/plain": [
       "<matplotlib.figure.Figure at 0x25a874c9a58>"
      ]
     },
     "metadata": {},
     "output_type": "display_data"
    }
   ],
   "source": [
    "Evaluation_Results_Lib.Plot_Metrics(y_test,\n",
    "                                    y_pred_forest_probs_test, \n",
    "                                    'Random_Forest')"
   ]
  },
  {
   "cell_type": "code",
   "execution_count": 202,
   "metadata": {},
   "outputs": [
    {
     "data": {
      "image/png": "[encoded data removed]",
      "text/plain": [
       "<matplotlib.figure.Figure at 0x25a813e0cc0>"
      ]
     },
     "metadata": {},
     "output_type": "display_data"
    },
    {
     "data": {
      "image/png": "[encoded data removed]",
      "text/plain": [
       "<matplotlib.figure.Figure at 0x25a8039deb8>"
      ]
     },
     "metadata": {},
     "output_type": "display_data"
    }
   ],
   "source": [
    "Evaluation_Results_Lib.Plot_Metrics(y_test,\n",
    "                                    y_pred_nb_probs_test[:,1], \n",
    "                                    'Naive_Bayes')"
   ]
  },
  {
   "cell_type": "code",
   "execution_count": 203,
   "metadata": {
    "scrolled": true
   },
   "outputs": [
    {
     "data": {
      "image/png": "[encoded data removed]",
      "text/plain": [
       "<matplotlib.figure.Figure at 0x25a8031e550>"
      ]
     },
     "metadata": {},
     "output_type": "display_data"
    },
    {
     "data": {
      "image/png": "[encoded data removed]",
      "text/plain": [
       "<matplotlib.figure.Figure at 0x25a859a82b0>"
      ]
     },
     "metadata": {},
     "output_type": "display_data"
    }
   ],
   "source": [
    "Evaluation_Results_Lib.Plot_Metrics(y_test,\n",
    "                                    y_pred_lr_probs_test[:,1], \n",
    "                                    'Logistic_Regression')"
   ]
  },
  {
   "cell_type": "markdown",
   "metadata": {},
   "source": [
    "# 7.7. Robustness Test : K-Fold"
   ]
  },
  {
   "cell_type": "markdown",
   "metadata": {},
   "source": [
    "Cross-validation with the model that yields the best results : **Random Forest**"
   ]
  },
  {
   "cell_type": "code",
   "execution_count": 204,
   "metadata": {},
   "outputs": [
    {
     "name": "stdout",
     "output_type": "stream",
     "text": [
      "Confusion Matrix :\n",
      "[[414  10]\n",
      " [ 10 953]]\n",
      "Classification Report :\n",
      "              precision    recall  f1-score   support\n",
      "\n",
      "           0       0.98      0.98      0.98       424\n",
      "           1       0.99      0.99      0.99       963\n",
      "\n",
      "   micro avg       0.99      0.99      0.99      1387\n",
      "   macro avg       0.98      0.98      0.98      1387\n",
      "weighted avg       0.99      0.99      0.99      1387\n",
      "\n",
      "Accuracy :  0.9855803893294881\n",
      "MCC :  0.96603087834793\n",
      "Specificity :  0.9896157840083074\n",
      "------------------------------------------------------------------------\n",
      "Confusion Matrix :\n",
      "[[420   9]\n",
      " [ 18 940]]\n",
      "Classification Report :\n",
      "              precision    recall  f1-score   support\n",
      "\n",
      "           0       0.96      0.98      0.97       429\n",
      "           1       0.99      0.98      0.99       958\n",
      "\n",
      "   micro avg       0.98      0.98      0.98      1387\n",
      "   macro avg       0.97      0.98      0.98      1387\n",
      "weighted avg       0.98      0.98      0.98      1387\n",
      "\n",
      "Accuracy :  0.9805335255948089\n",
      "MCC :  0.9548108366210208\n",
      "Specificity :  0.9812108559498957\n",
      "------------------------------------------------------------------------\n",
      "Confusion Matrix :\n",
      "[[426   8]\n",
      " [ 12 941]]\n",
      "Classification Report :\n",
      "              precision    recall  f1-score   support\n",
      "\n",
      "           0       0.97      0.98      0.98       434\n",
      "           1       0.99      0.99      0.99       953\n",
      "\n",
      "   micro avg       0.99      0.99      0.99      1387\n",
      "   macro avg       0.98      0.98      0.98      1387\n",
      "weighted avg       0.99      0.99      0.99      1387\n",
      "\n",
      "Accuracy :  0.9855803893294881\n",
      "MCC :  0.9665709268999871\n",
      "Specificity :  0.9874081846799581\n",
      "------------------------------------------------------------------------\n",
      "Confusion Matrix :\n",
      "[[436  11]\n",
      " [  4 935]]\n",
      "Classification Report :\n",
      "              precision    recall  f1-score   support\n",
      "\n",
      "           0       0.99      0.98      0.98       447\n",
      "           1       0.99      1.00      0.99       939\n",
      "\n",
      "   micro avg       0.99      0.99      0.99      1386\n",
      "   macro avg       0.99      0.99      0.99      1386\n",
      "weighted avg       0.99      0.99      0.99      1386\n",
      "\n",
      "Accuracy :  0.9891774891774892\n",
      "MCC :  0.9751979029839621\n",
      "Specificity :  0.9957401490947817\n",
      "------------------------------------------------------------------------\n",
      "Confusion Matrix :\n",
      "[[440   9]\n",
      " [ 11 926]]\n",
      "Classification Report :\n",
      "              precision    recall  f1-score   support\n",
      "\n",
      "           0       0.98      0.98      0.98       449\n",
      "           1       0.99      0.99      0.99       937\n",
      "\n",
      "   micro avg       0.99      0.99      0.99      1386\n",
      "   macro avg       0.98      0.98      0.98      1386\n",
      "weighted avg       0.99      0.99      0.99      1386\n",
      "\n",
      "Accuracy :  0.9855699855699855\n",
      "MCC :  0.9670993311012325\n",
      "Specificity :  0.9882604055496265\n",
      "------------------------------------------------------------------------\n",
      "Confusion Matrix :\n",
      "[[435  13]\n",
      " [  3 935]]\n",
      "Classification Report :\n",
      "              precision    recall  f1-score   support\n",
      "\n",
      "           0       0.99      0.97      0.98       448\n",
      "           1       0.99      1.00      0.99       938\n",
      "\n",
      "   micro avg       0.99      0.99      0.99      1386\n",
      "   macro avg       0.99      0.98      0.99      1386\n",
      "weighted avg       0.99      0.99      0.99      1386\n",
      "\n",
      "Accuracy :  0.9884559884559885\n",
      "MCC :  0.9735932901446189\n",
      "Specificity :  0.9968017057569296\n",
      "------------------------------------------------------------------------\n",
      "Confusion Matrix :\n",
      "[[465  10]\n",
      " [  8 903]]\n",
      "Classification Report :\n",
      "              precision    recall  f1-score   support\n",
      "\n",
      "           0       0.98      0.98      0.98       475\n",
      "           1       0.99      0.99      0.99       911\n",
      "\n",
      "   micro avg       0.99      0.99      0.99      1386\n",
      "   macro avg       0.99      0.99      0.99      1386\n",
      "weighted avg       0.99      0.99      0.99      1386\n",
      "\n",
      "Accuracy :  0.987012987012987\n",
      "MCC :  0.9711492954738418\n",
      "Specificity :  0.991218441273326\n",
      "------------------------------------------------------------------------\n",
      "Confusion Matrix :\n",
      "[[412  10]\n",
      " [  9 955]]\n",
      "Classification Report :\n",
      "              precision    recall  f1-score   support\n",
      "\n",
      "           0       0.98      0.98      0.98       422\n",
      "           1       0.99      0.99      0.99       964\n",
      "\n",
      "   micro avg       0.99      0.99      0.99      1386\n",
      "   macro avg       0.98      0.98      0.98      1386\n",
      "weighted avg       0.99      0.99      0.99      1386\n",
      "\n",
      "Accuracy :  0.9862914862914863\n",
      "MCC :  0.9676132099398086\n",
      "Specificity :  0.9906639004149378\n",
      "------------------------------------------------------------------------\n",
      "Confusion Matrix :\n",
      "[[430   4]\n",
      " [  6 946]]\n",
      "Classification Report :\n",
      "              precision    recall  f1-score   support\n",
      "\n",
      "           0       0.99      0.99      0.99       434\n",
      "           1       1.00      0.99      0.99       952\n",
      "\n",
      "   micro avg       0.99      0.99      0.99      1386\n",
      "   macro avg       0.99      0.99      0.99      1386\n",
      "weighted avg       0.99      0.99      0.99      1386\n",
      "\n",
      "Accuracy :  0.9927849927849928\n",
      "MCC :  0.983253682573721\n",
      "Specificity :  0.9936974789915967\n",
      "------------------------------------------------------------------------\n",
      "Confusion Matrix :\n",
      "[[455   7]\n",
      " [ 10 914]]\n",
      "Classification Report :\n",
      "              precision    recall  f1-score   support\n",
      "\n",
      "           0       0.98      0.98      0.98       462\n",
      "           1       0.99      0.99      0.99       924\n",
      "\n",
      "   micro avg       0.99      0.99      0.99      1386\n",
      "   macro avg       0.99      0.99      0.99      1386\n",
      "weighted avg       0.99      0.99      0.99      1386\n",
      "\n",
      "Accuracy :  0.9877344877344877\n",
      "MCC :  0.9724588209550542\n",
      "Specificity :  0.9891774891774892\n",
      "------------------------------------------------------------------------\n"
     ]
    }
   ],
   "source": [
    "kfold = KFold(n_splits=10, shuffle = True)\n",
    "rfc = RandomForestRegressor(n_estimators=20, random_state=0)\n",
    "for train_indices, test_indices in kfold.split(x_train):\n",
    "    rfc.fit(x_train.iloc[train_indices], y_train.iloc[train_indices])\n",
    "    y_pred = rfc.predict(x_train.iloc[test_indices])\n",
    "    y_pred = y_pred >=0.5\n",
    "    y_pred = y_pred.astype(int)\n",
    "    Evaluation_Results_Lib.print_results(y_train.iloc[test_indices], y_pred, \n",
    "              analyze_results = results_analyzer, classifier_name = 'Random Forest')\n",
    "    print(\"------------------------------------------------------------------------\")"
   ]
  },
  {
   "cell_type": "markdown",
   "metadata": {},
   "source": [
    "As seen above, results are consistent for each fold, hence the best model is robust. "
   ]
  }
 ],
 "metadata": {
  "kernelspec": {
   "display_name": "Python 3",
   "language": "python",
   "name": "python3"
  },
  "language_info": {
   "codemirror_mode": {
    "name": "ipython",
    "version": 3
   },
   "file_extension": ".py",
   "mimetype": "text/x-python",
   "name": "python",
   "nbconvert_exporter": "python",
   "pygments_lexer": "ipython3",
   "version": "3.6.4"
  }
 },
 "nbformat": 4,
 "nbformat_minor": 2
}
