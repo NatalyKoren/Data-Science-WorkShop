{
 "cells": [
  {
   "cell_type": "markdown",
   "metadata": {},
   "source": [
    "# Kaggle Taxi Fare"
   ]
  },
  {
   "cell_type": "markdown",
   "metadata": {},
   "source": [
    "## 1.Data preparation and cleaning"
   ]
  },
  {
   "cell_type": "markdown",
   "metadata": {},
   "source": [
    "## Imports  "
   ]
  },
  {
   "cell_type": "code",
   "execution_count": 2,
   "metadata": {},
   "outputs": [],
   "source": [
    "import pandas as pd\n",
    "import numpy as np\n",
    "import seaborn as sns\n",
    "import sklearn\n",
    "import matplotlib.pyplot as plt\n",
    "import os,glob"
   ]
  },
  {
   "cell_type": "markdown",
   "metadata": {},
   "source": [
    "## Loading DataSet"
   ]
  },
  {
   "cell_type": "code",
   "execution_count": 3,
   "metadata": {},
   "outputs": [],
   "source": [
    "# reading the data\n",
    "df = pd.read_csv(r'C:/Users/Hen/workshop/kaggle_dateset/train.csv')"
   ]
  },
  {
   "cell_type": "markdown",
   "metadata": {},
   "source": [
    "## Data Understanding"
   ]
  },
  {
   "cell_type": "code",
   "execution_count": 6,
   "metadata": {},
   "outputs": [
    {
     "data": {
      "text/plain": [
       "key                   object\n",
       "fare_amount          float64\n",
       "pickup_datetime       object\n",
       "pickup_longitude     float64\n",
       "pickup_latitude      float64\n",
       "dropoff_longitude    float64\n",
       "dropoff_latitude     float64\n",
       "passenger_count        int64\n",
       "dtype: object"
      ]
     },
     "execution_count": 6,
     "metadata": {},
     "output_type": "execute_result"
    }
   ],
   "source": [
    "# understanding data types\n",
    "df.dtypes"
   ]
  },
  {
   "cell_type": "code",
   "execution_count": 7,
   "metadata": {},
   "outputs": [
    {
     "data": {
      "text/html": [
       "<div>\n",
       "<style scoped>\n",
       "    .dataframe tbody tr th:only-of-type {\n",
       "        vertical-align: middle;\n",
       "    }\n",
       "\n",
       "    .dataframe tbody tr th {\n",
       "        vertical-align: top;\n",
       "    }\n",
       "\n",
       "    .dataframe thead th {\n",
       "        text-align: right;\n",
       "    }\n",
       "</style>\n",
       "<table border=\"1\" class=\"dataframe\">\n",
       "  <thead>\n",
       "    <tr style=\"text-align: right;\">\n",
       "      <th></th>\n",
       "      <th>key</th>\n",
       "      <th>fare_amount</th>\n",
       "      <th>pickup_datetime</th>\n",
       "      <th>pickup_longitude</th>\n",
       "      <th>pickup_latitude</th>\n",
       "      <th>dropoff_longitude</th>\n",
       "      <th>dropoff_latitude</th>\n",
       "      <th>passenger_count</th>\n",
       "    </tr>\n",
       "  </thead>\n",
       "  <tbody>\n",
       "    <tr>\n",
       "      <th>0</th>\n",
       "      <td>2009-06-15 17:26:21.0000001</td>\n",
       "      <td>4.5</td>\n",
       "      <td>2009-06-15 17:26:21 UTC</td>\n",
       "      <td>-73.844311</td>\n",
       "      <td>40.721319</td>\n",
       "      <td>-73.841610</td>\n",
       "      <td>40.712278</td>\n",
       "      <td>1</td>\n",
       "    </tr>\n",
       "    <tr>\n",
       "      <th>1</th>\n",
       "      <td>2010-01-05 16:52:16.0000002</td>\n",
       "      <td>16.9</td>\n",
       "      <td>2010-01-05 16:52:16 UTC</td>\n",
       "      <td>-74.016048</td>\n",
       "      <td>40.711303</td>\n",
       "      <td>-73.979268</td>\n",
       "      <td>40.782004</td>\n",
       "      <td>1</td>\n",
       "    </tr>\n",
       "    <tr>\n",
       "      <th>2</th>\n",
       "      <td>2011-08-18 00:35:00.00000049</td>\n",
       "      <td>5.7</td>\n",
       "      <td>2011-08-18 00:35:00 UTC</td>\n",
       "      <td>-73.982738</td>\n",
       "      <td>40.761270</td>\n",
       "      <td>-73.991242</td>\n",
       "      <td>40.750562</td>\n",
       "      <td>2</td>\n",
       "    </tr>\n",
       "    <tr>\n",
       "      <th>3</th>\n",
       "      <td>2012-04-21 04:30:42.0000001</td>\n",
       "      <td>7.7</td>\n",
       "      <td>2012-04-21 04:30:42 UTC</td>\n",
       "      <td>-73.987130</td>\n",
       "      <td>40.733143</td>\n",
       "      <td>-73.991567</td>\n",
       "      <td>40.758092</td>\n",
       "      <td>1</td>\n",
       "    </tr>\n",
       "    <tr>\n",
       "      <th>4</th>\n",
       "      <td>2010-03-09 07:51:00.000000135</td>\n",
       "      <td>5.3</td>\n",
       "      <td>2010-03-09 07:51:00 UTC</td>\n",
       "      <td>-73.968095</td>\n",
       "      <td>40.768008</td>\n",
       "      <td>-73.956655</td>\n",
       "      <td>40.783762</td>\n",
       "      <td>1</td>\n",
       "    </tr>\n",
       "    <tr>\n",
       "      <th>5</th>\n",
       "      <td>2011-01-06 09:50:45.0000002</td>\n",
       "      <td>12.1</td>\n",
       "      <td>2011-01-06 09:50:45 UTC</td>\n",
       "      <td>-74.000964</td>\n",
       "      <td>40.731630</td>\n",
       "      <td>-73.972892</td>\n",
       "      <td>40.758233</td>\n",
       "      <td>1</td>\n",
       "    </tr>\n",
       "    <tr>\n",
       "      <th>6</th>\n",
       "      <td>2012-11-20 20:35:00.0000001</td>\n",
       "      <td>7.5</td>\n",
       "      <td>2012-11-20 20:35:00 UTC</td>\n",
       "      <td>-73.980002</td>\n",
       "      <td>40.751662</td>\n",
       "      <td>-73.973802</td>\n",
       "      <td>40.764842</td>\n",
       "      <td>1</td>\n",
       "    </tr>\n",
       "    <tr>\n",
       "      <th>7</th>\n",
       "      <td>2012-01-04 17:22:00.00000081</td>\n",
       "      <td>16.5</td>\n",
       "      <td>2012-01-04 17:22:00 UTC</td>\n",
       "      <td>-73.951300</td>\n",
       "      <td>40.774138</td>\n",
       "      <td>-73.990095</td>\n",
       "      <td>40.751048</td>\n",
       "      <td>1</td>\n",
       "    </tr>\n",
       "    <tr>\n",
       "      <th>8</th>\n",
       "      <td>2012-12-03 13:10:00.000000125</td>\n",
       "      <td>9.0</td>\n",
       "      <td>2012-12-03 13:10:00 UTC</td>\n",
       "      <td>-74.006462</td>\n",
       "      <td>40.726713</td>\n",
       "      <td>-73.993078</td>\n",
       "      <td>40.731628</td>\n",
       "      <td>1</td>\n",
       "    </tr>\n",
       "    <tr>\n",
       "      <th>9</th>\n",
       "      <td>2009-09-02 01:11:00.00000083</td>\n",
       "      <td>8.9</td>\n",
       "      <td>2009-09-02 01:11:00 UTC</td>\n",
       "      <td>-73.980658</td>\n",
       "      <td>40.733873</td>\n",
       "      <td>-73.991540</td>\n",
       "      <td>40.758138</td>\n",
       "      <td>2</td>\n",
       "    </tr>\n",
       "  </tbody>\n",
       "</table>\n",
       "</div>"
      ],
      "text/plain": [
       "                             key  fare_amount          pickup_datetime  \\\n",
       "0    2009-06-15 17:26:21.0000001          4.5  2009-06-15 17:26:21 UTC   \n",
       "1    2010-01-05 16:52:16.0000002         16.9  2010-01-05 16:52:16 UTC   \n",
       "2   2011-08-18 00:35:00.00000049          5.7  2011-08-18 00:35:00 UTC   \n",
       "3    2012-04-21 04:30:42.0000001          7.7  2012-04-21 04:30:42 UTC   \n",
       "4  2010-03-09 07:51:00.000000135          5.3  2010-03-09 07:51:00 UTC   \n",
       "5    2011-01-06 09:50:45.0000002         12.1  2011-01-06 09:50:45 UTC   \n",
       "6    2012-11-20 20:35:00.0000001          7.5  2012-11-20 20:35:00 UTC   \n",
       "7   2012-01-04 17:22:00.00000081         16.5  2012-01-04 17:22:00 UTC   \n",
       "8  2012-12-03 13:10:00.000000125          9.0  2012-12-03 13:10:00 UTC   \n",
       "9   2009-09-02 01:11:00.00000083          8.9  2009-09-02 01:11:00 UTC   \n",
       "\n",
       "   pickup_longitude  pickup_latitude  dropoff_longitude  dropoff_latitude  \\\n",
       "0        -73.844311        40.721319         -73.841610         40.712278   \n",
       "1        -74.016048        40.711303         -73.979268         40.782004   \n",
       "2        -73.982738        40.761270         -73.991242         40.750562   \n",
       "3        -73.987130        40.733143         -73.991567         40.758092   \n",
       "4        -73.968095        40.768008         -73.956655         40.783762   \n",
       "5        -74.000964        40.731630         -73.972892         40.758233   \n",
       "6        -73.980002        40.751662         -73.973802         40.764842   \n",
       "7        -73.951300        40.774138         -73.990095         40.751048   \n",
       "8        -74.006462        40.726713         -73.993078         40.731628   \n",
       "9        -73.980658        40.733873         -73.991540         40.758138   \n",
       "\n",
       "   passenger_count  \n",
       "0                1  \n",
       "1                1  \n",
       "2                2  \n",
       "3                1  \n",
       "4                1  \n",
       "5                1  \n",
       "6                1  \n",
       "7                1  \n",
       "8                1  \n",
       "9                2  "
      ]
     },
     "execution_count": 7,
     "metadata": {},
     "output_type": "execute_result"
    }
   ],
   "source": [
    "df.head(10)"
   ]
  },
  {
   "cell_type": "code",
   "execution_count": 8,
   "metadata": {},
   "outputs": [
    {
     "data": {
      "text/plain": [
       "'2009-01-01 00:00:27 UTC'"
      ]
     },
     "execution_count": 8,
     "metadata": {},
     "output_type": "execute_result"
    }
   ],
   "source": [
    "# undestanding year range\n",
    "df['pickup_datetime'].min()"
   ]
  },
  {
   "cell_type": "code",
   "execution_count": 9,
   "metadata": {},
   "outputs": [
    {
     "data": {
      "text/plain": [
       "'2015-06-30 23:59:54 UTC'"
      ]
     },
     "execution_count": 9,
     "metadata": {},
     "output_type": "execute_result"
    }
   ],
   "source": [
    "# undestanding year range\n",
    "df['pickup_datetime'].max()"
   ]
  },
  {
   "cell_type": "markdown",
   "metadata": {},
   "source": [
    "## Removing Records with Missing Values"
   ]
  },
  {
   "cell_type": "code",
   "execution_count": 4,
   "metadata": {},
   "outputs": [
    {
     "data": {
      "text/plain": [
       "key                    0\n",
       "fare_amount            0\n",
       "pickup_datetime        0\n",
       "pickup_longitude       0\n",
       "pickup_latitude        0\n",
       "dropoff_longitude    376\n",
       "dropoff_latitude     376\n",
       "passenger_count        0\n",
       "dtype: int64"
      ]
     },
     "execution_count": 4,
     "metadata": {},
     "output_type": "execute_result"
    }
   ],
   "source": [
    "np.sum(df.isnull())"
   ]
  },
  {
   "cell_type": "code",
   "execution_count": 5,
   "metadata": {},
   "outputs": [],
   "source": [
    "df.dropna(inplace = True)"
   ]
  },
  {
   "cell_type": "code",
   "execution_count": 6,
   "metadata": {},
   "outputs": [
    {
     "data": {
      "text/plain": [
       "key                  0\n",
       "fare_amount          0\n",
       "pickup_datetime      0\n",
       "pickup_longitude     0\n",
       "pickup_latitude      0\n",
       "dropoff_longitude    0\n",
       "dropoff_latitude     0\n",
       "passenger_count      0\n",
       "dtype: int64"
      ]
     },
     "execution_count": 6,
     "metadata": {},
     "output_type": "execute_result"
    }
   ],
   "source": [
    "np.sum(df.isnull())"
   ]
  },
  {
   "cell_type": "markdown",
   "metadata": {},
   "source": [
    "## Data Statistics (on 0.1% of the data)"
   ]
  },
  {
   "cell_type": "code",
   "execution_count": 13,
   "metadata": {},
   "outputs": [
    {
     "data": {
      "text/html": [
       "<div>\n",
       "<style scoped>\n",
       "    .dataframe tbody tr th:only-of-type {\n",
       "        vertical-align: middle;\n",
       "    }\n",
       "\n",
       "    .dataframe tbody tr th {\n",
       "        vertical-align: top;\n",
       "    }\n",
       "\n",
       "    .dataframe thead th {\n",
       "        text-align: right;\n",
       "    }\n",
       "</style>\n",
       "<table border=\"1\" class=\"dataframe\">\n",
       "  <thead>\n",
       "    <tr style=\"text-align: right;\">\n",
       "      <th></th>\n",
       "      <th>fare_amount</th>\n",
       "      <th>pickup_longitude</th>\n",
       "      <th>pickup_latitude</th>\n",
       "      <th>dropoff_longitude</th>\n",
       "      <th>dropoff_latitude</th>\n",
       "      <th>passenger_count</th>\n",
       "    </tr>\n",
       "  </thead>\n",
       "  <tbody>\n",
       "    <tr>\n",
       "      <th>count</th>\n",
       "      <td>5.542348e+07</td>\n",
       "      <td>5.542348e+07</td>\n",
       "      <td>5.542348e+07</td>\n",
       "      <td>5.542348e+07</td>\n",
       "      <td>5.542348e+07</td>\n",
       "      <td>5.542348e+07</td>\n",
       "    </tr>\n",
       "    <tr>\n",
       "      <th>mean</th>\n",
       "      <td>1.134500e+01</td>\n",
       "      <td>-7.250973e+01</td>\n",
       "      <td>3.991982e+01</td>\n",
       "      <td>-7.251121e+01</td>\n",
       "      <td>3.992068e+01</td>\n",
       "      <td>1.685391e+00</td>\n",
       "    </tr>\n",
       "    <tr>\n",
       "      <th>std</th>\n",
       "      <td>2.071087e+01</td>\n",
       "      <td>1.284878e+01</td>\n",
       "      <td>9.642324e+00</td>\n",
       "      <td>1.278220e+01</td>\n",
       "      <td>9.633346e+00</td>\n",
       "      <td>1.327662e+00</td>\n",
       "    </tr>\n",
       "    <tr>\n",
       "      <th>min</th>\n",
       "      <td>-3.000000e+02</td>\n",
       "      <td>-3.442060e+03</td>\n",
       "      <td>-3.492264e+03</td>\n",
       "      <td>-3.442025e+03</td>\n",
       "      <td>-3.547887e+03</td>\n",
       "      <td>0.000000e+00</td>\n",
       "    </tr>\n",
       "    <tr>\n",
       "      <th>25%</th>\n",
       "      <td>6.000000e+00</td>\n",
       "      <td>-7.399207e+01</td>\n",
       "      <td>4.073493e+01</td>\n",
       "      <td>-7.399140e+01</td>\n",
       "      <td>4.073403e+01</td>\n",
       "      <td>1.000000e+00</td>\n",
       "    </tr>\n",
       "    <tr>\n",
       "      <th>50%</th>\n",
       "      <td>8.500000e+00</td>\n",
       "      <td>-7.398180e+01</td>\n",
       "      <td>4.075265e+01</td>\n",
       "      <td>-7.398015e+01</td>\n",
       "      <td>4.075316e+01</td>\n",
       "      <td>1.000000e+00</td>\n",
       "    </tr>\n",
       "    <tr>\n",
       "      <th>75%</th>\n",
       "      <td>1.250000e+01</td>\n",
       "      <td>-7.396708e+01</td>\n",
       "      <td>4.076713e+01</td>\n",
       "      <td>-7.396367e+01</td>\n",
       "      <td>4.076810e+01</td>\n",
       "      <td>2.000000e+00</td>\n",
       "    </tr>\n",
       "    <tr>\n",
       "      <th>max</th>\n",
       "      <td>9.396336e+04</td>\n",
       "      <td>3.457626e+03</td>\n",
       "      <td>3.408790e+03</td>\n",
       "      <td>3.457622e+03</td>\n",
       "      <td>3.537133e+03</td>\n",
       "      <td>2.080000e+02</td>\n",
       "    </tr>\n",
       "  </tbody>\n",
       "</table>\n",
       "</div>"
      ],
      "text/plain": [
       "        fare_amount  pickup_longitude  pickup_latitude  dropoff_longitude  \\\n",
       "count  5.542348e+07      5.542348e+07     5.542348e+07       5.542348e+07   \n",
       "mean   1.134500e+01     -7.250973e+01     3.991982e+01      -7.251121e+01   \n",
       "std    2.071087e+01      1.284878e+01     9.642324e+00       1.278220e+01   \n",
       "min   -3.000000e+02     -3.442060e+03    -3.492264e+03      -3.442025e+03   \n",
       "25%    6.000000e+00     -7.399207e+01     4.073493e+01      -7.399140e+01   \n",
       "50%    8.500000e+00     -7.398180e+01     4.075265e+01      -7.398015e+01   \n",
       "75%    1.250000e+01     -7.396708e+01     4.076713e+01      -7.396367e+01   \n",
       "max    9.396336e+04      3.457626e+03     3.408790e+03       3.457622e+03   \n",
       "\n",
       "       dropoff_latitude  passenger_count  \n",
       "count      5.542348e+07     5.542348e+07  \n",
       "mean       3.992068e+01     1.685391e+00  \n",
       "std        9.633346e+00     1.327662e+00  \n",
       "min       -3.547887e+03     0.000000e+00  \n",
       "25%        4.073403e+01     1.000000e+00  \n",
       "50%        4.075316e+01     1.000000e+00  \n",
       "75%        4.076810e+01     2.000000e+00  \n",
       "max        3.537133e+03     2.080000e+02  "
      ]
     },
     "execution_count": 13,
     "metadata": {},
     "output_type": "execute_result"
    }
   ],
   "source": [
    "df.describe()"
   ]
  },
  {
   "cell_type": "code",
   "execution_count": 7,
   "metadata": {},
   "outputs": [],
   "source": [
    "# sampling data for statistics\n",
    "s_df = df.sample(frac=0.001)"
   ]
  },
  {
   "cell_type": "code",
   "execution_count": 8,
   "metadata": {},
   "outputs": [
    {
     "name": "stdout",
     "output_type": "stream",
     "text": [
      "finished day of week\n",
      "finished month\n",
      "finished hour\n",
      "finished season\n"
     ]
    }
   ],
   "source": [
    "# extracting float values from timestamp\n",
    "s_df['pickup_day_of_week'] = pd.to_datetime(s_df['pickup_datetime']).dt.dayofweek\n",
    "print('finished day of week')\n",
    "s_df['month'] =  pd.to_datetime(s_df['pickup_datetime']).dt.month\n",
    "print('finished month')\n",
    "s_df['hour_in_seconds'] =  pd.to_datetime(s_df['pickup_datetime']).dt.hour #should have been in seconds but didnt work\n",
    "print('finished hour')\n",
    "s_df['season'] = (s_df['month']%12 + 3)//3\n",
    "print('finished season')"
   ]
  },
  {
   "cell_type": "code",
   "execution_count": 9,
   "metadata": {},
   "outputs": [
    {
     "data": {
      "text/plain": [
       "Index(['key', 'fare_amount', 'pickup_datetime', 'pickup_longitude',\n",
       "       'pickup_latitude', 'dropoff_longitude', 'dropoff_latitude',\n",
       "       'passenger_count', 'pickup_day_of_week', 'month', 'hour_in_seconds',\n",
       "       'season'],\n",
       "      dtype='object')"
      ]
     },
     "execution_count": 9,
     "metadata": {},
     "output_type": "execute_result"
    }
   ],
   "source": [
    "s_df.columns"
   ]
  },
  {
   "cell_type": "code",
   "execution_count": 10,
   "metadata": {},
   "outputs": [
    {
     "data": {
      "text/plain": [
       "key                    object\n",
       "fare_amount           float64\n",
       "pickup_datetime        object\n",
       "pickup_longitude      float64\n",
       "pickup_latitude       float64\n",
       "dropoff_longitude     float64\n",
       "dropoff_latitude      float64\n",
       "passenger_count         int64\n",
       "pickup_day_of_week      int64\n",
       "month                   int64\n",
       "hour_in_seconds         int64\n",
       "season                  int64\n",
       "dtype: object"
      ]
     },
     "execution_count": 10,
     "metadata": {},
     "output_type": "execute_result"
    }
   ],
   "source": [
    "s_df.dtypes"
   ]
  },
  {
   "cell_type": "code",
   "execution_count": 11,
   "metadata": {},
   "outputs": [
    {
     "data": {
      "text/html": [
       "<div>\n",
       "<style scoped>\n",
       "    .dataframe tbody tr th:only-of-type {\n",
       "        vertical-align: middle;\n",
       "    }\n",
       "\n",
       "    .dataframe tbody tr th {\n",
       "        vertical-align: top;\n",
       "    }\n",
       "\n",
       "    .dataframe thead th {\n",
       "        text-align: right;\n",
       "    }\n",
       "</style>\n",
       "<table border=\"1\" class=\"dataframe\">\n",
       "  <thead>\n",
       "    <tr style=\"text-align: right;\">\n",
       "      <th></th>\n",
       "      <th>key</th>\n",
       "      <th>fare_amount</th>\n",
       "      <th>pickup_datetime</th>\n",
       "      <th>pickup_longitude</th>\n",
       "      <th>pickup_latitude</th>\n",
       "      <th>dropoff_longitude</th>\n",
       "      <th>dropoff_latitude</th>\n",
       "      <th>passenger_count</th>\n",
       "      <th>pickup_day_of_week</th>\n",
       "      <th>month</th>\n",
       "      <th>hour_in_seconds</th>\n",
       "      <th>season</th>\n",
       "    </tr>\n",
       "  </thead>\n",
       "  <tbody>\n",
       "    <tr>\n",
       "      <th>11886041</th>\n",
       "      <td>2012-11-18 20:54:38.0000001</td>\n",
       "      <td>7.5</td>\n",
       "      <td>2012-11-18 20:54:38 UTC</td>\n",
       "      <td>-73.954095</td>\n",
       "      <td>40.778957</td>\n",
       "      <td>-73.975145</td>\n",
       "      <td>40.790077</td>\n",
       "      <td>1</td>\n",
       "      <td>6</td>\n",
       "      <td>11</td>\n",
       "      <td>20</td>\n",
       "      <td>4</td>\n",
       "    </tr>\n",
       "    <tr>\n",
       "      <th>17052167</th>\n",
       "      <td>2012-01-09 15:30:20.0000004</td>\n",
       "      <td>5.3</td>\n",
       "      <td>2012-01-09 15:30:20 UTC</td>\n",
       "      <td>-73.967784</td>\n",
       "      <td>40.766136</td>\n",
       "      <td>-73.966803</td>\n",
       "      <td>40.757162</td>\n",
       "      <td>1</td>\n",
       "      <td>0</td>\n",
       "      <td>1</td>\n",
       "      <td>15</td>\n",
       "      <td>1</td>\n",
       "    </tr>\n",
       "    <tr>\n",
       "      <th>12419724</th>\n",
       "      <td>2011-03-23 09:23:58.0000007</td>\n",
       "      <td>11.3</td>\n",
       "      <td>2011-03-23 09:23:58 UTC</td>\n",
       "      <td>-73.978274</td>\n",
       "      <td>40.772913</td>\n",
       "      <td>-73.969596</td>\n",
       "      <td>40.750906</td>\n",
       "      <td>1</td>\n",
       "      <td>2</td>\n",
       "      <td>3</td>\n",
       "      <td>9</td>\n",
       "      <td>2</td>\n",
       "    </tr>\n",
       "    <tr>\n",
       "      <th>20207192</th>\n",
       "      <td>2014-11-11 13:30:00.00000055</td>\n",
       "      <td>19.5</td>\n",
       "      <td>2014-11-11 13:30:00 UTC</td>\n",
       "      <td>-73.979825</td>\n",
       "      <td>40.781135</td>\n",
       "      <td>-73.969740</td>\n",
       "      <td>40.762002</td>\n",
       "      <td>1</td>\n",
       "      <td>1</td>\n",
       "      <td>11</td>\n",
       "      <td>13</td>\n",
       "      <td>4</td>\n",
       "    </tr>\n",
       "    <tr>\n",
       "      <th>28407438</th>\n",
       "      <td>2010-07-24 10:21:09.0000002</td>\n",
       "      <td>8.1</td>\n",
       "      <td>2010-07-24 10:21:09 UTC</td>\n",
       "      <td>-73.985113</td>\n",
       "      <td>40.763529</td>\n",
       "      <td>-73.955920</td>\n",
       "      <td>40.774805</td>\n",
       "      <td>1</td>\n",
       "      <td>5</td>\n",
       "      <td>7</td>\n",
       "      <td>10</td>\n",
       "      <td>3</td>\n",
       "    </tr>\n",
       "    <tr>\n",
       "      <th>19632170</th>\n",
       "      <td>2011-10-02 16:24:21.0000001</td>\n",
       "      <td>3.7</td>\n",
       "      <td>2011-10-02 16:24:21 UTC</td>\n",
       "      <td>-73.978763</td>\n",
       "      <td>40.767064</td>\n",
       "      <td>-73.982283</td>\n",
       "      <td>40.770982</td>\n",
       "      <td>2</td>\n",
       "      <td>6</td>\n",
       "      <td>10</td>\n",
       "      <td>16</td>\n",
       "      <td>4</td>\n",
       "    </tr>\n",
       "    <tr>\n",
       "      <th>17911288</th>\n",
       "      <td>2014-10-28 09:03:00.000000204</td>\n",
       "      <td>26.5</td>\n",
       "      <td>2014-10-28 09:03:00 UTC</td>\n",
       "      <td>-73.971180</td>\n",
       "      <td>40.797897</td>\n",
       "      <td>-74.004782</td>\n",
       "      <td>40.721530</td>\n",
       "      <td>1</td>\n",
       "      <td>1</td>\n",
       "      <td>10</td>\n",
       "      <td>9</td>\n",
       "      <td>4</td>\n",
       "    </tr>\n",
       "    <tr>\n",
       "      <th>3731765</th>\n",
       "      <td>2014-09-12 12:44:00.0000006</td>\n",
       "      <td>4.5</td>\n",
       "      <td>2014-09-12 12:44:00 UTC</td>\n",
       "      <td>-73.982310</td>\n",
       "      <td>40.745707</td>\n",
       "      <td>-73.976363</td>\n",
       "      <td>40.753517</td>\n",
       "      <td>1</td>\n",
       "      <td>4</td>\n",
       "      <td>9</td>\n",
       "      <td>12</td>\n",
       "      <td>4</td>\n",
       "    </tr>\n",
       "    <tr>\n",
       "      <th>23790289</th>\n",
       "      <td>2010-01-12 06:55:00.000000108</td>\n",
       "      <td>4.9</td>\n",
       "      <td>2010-01-12 06:55:00 UTC</td>\n",
       "      <td>-73.982347</td>\n",
       "      <td>40.762268</td>\n",
       "      <td>-73.992052</td>\n",
       "      <td>40.749220</td>\n",
       "      <td>1</td>\n",
       "      <td>1</td>\n",
       "      <td>1</td>\n",
       "      <td>6</td>\n",
       "      <td>1</td>\n",
       "    </tr>\n",
       "    <tr>\n",
       "      <th>11397990</th>\n",
       "      <td>2011-03-15 08:27:00.000000109</td>\n",
       "      <td>14.5</td>\n",
       "      <td>2011-03-15 08:27:00 UTC</td>\n",
       "      <td>-73.988073</td>\n",
       "      <td>40.737757</td>\n",
       "      <td>-73.976992</td>\n",
       "      <td>40.788532</td>\n",
       "      <td>1</td>\n",
       "      <td>1</td>\n",
       "      <td>3</td>\n",
       "      <td>8</td>\n",
       "      <td>2</td>\n",
       "    </tr>\n",
       "    <tr>\n",
       "      <th>11268124</th>\n",
       "      <td>2009-11-12 10:47:00.00000015</td>\n",
       "      <td>14.9</td>\n",
       "      <td>2009-11-12 10:47:00 UTC</td>\n",
       "      <td>-73.990493</td>\n",
       "      <td>40.731312</td>\n",
       "      <td>-73.978147</td>\n",
       "      <td>40.751562</td>\n",
       "      <td>1</td>\n",
       "      <td>3</td>\n",
       "      <td>11</td>\n",
       "      <td>10</td>\n",
       "      <td>4</td>\n",
       "    </tr>\n",
       "    <tr>\n",
       "      <th>34343607</th>\n",
       "      <td>2010-12-29 20:25:00.0000002</td>\n",
       "      <td>6.9</td>\n",
       "      <td>2010-12-29 20:25:00 UTC</td>\n",
       "      <td>-73.992620</td>\n",
       "      <td>40.744733</td>\n",
       "      <td>-74.002588</td>\n",
       "      <td>40.734182</td>\n",
       "      <td>1</td>\n",
       "      <td>2</td>\n",
       "      <td>12</td>\n",
       "      <td>20</td>\n",
       "      <td>1</td>\n",
       "    </tr>\n",
       "    <tr>\n",
       "      <th>40196340</th>\n",
       "      <td>2011-08-27 08:48:00.00000015</td>\n",
       "      <td>9.7</td>\n",
       "      <td>2011-08-27 08:48:00 UTC</td>\n",
       "      <td>-73.991828</td>\n",
       "      <td>40.684722</td>\n",
       "      <td>-73.991938</td>\n",
       "      <td>40.711077</td>\n",
       "      <td>5</td>\n",
       "      <td>5</td>\n",
       "      <td>8</td>\n",
       "      <td>8</td>\n",
       "      <td>3</td>\n",
       "    </tr>\n",
       "    <tr>\n",
       "      <th>32987862</th>\n",
       "      <td>2010-07-06 23:22:03.0000004</td>\n",
       "      <td>4.5</td>\n",
       "      <td>2010-07-06 23:22:03 UTC</td>\n",
       "      <td>-73.953721</td>\n",
       "      <td>40.775157</td>\n",
       "      <td>-73.963574</td>\n",
       "      <td>40.774386</td>\n",
       "      <td>2</td>\n",
       "      <td>1</td>\n",
       "      <td>7</td>\n",
       "      <td>23</td>\n",
       "      <td>3</td>\n",
       "    </tr>\n",
       "    <tr>\n",
       "      <th>36724253</th>\n",
       "      <td>2010-10-18 21:15:00.00000048</td>\n",
       "      <td>20.5</td>\n",
       "      <td>2010-10-18 21:15:00 UTC</td>\n",
       "      <td>-73.966225</td>\n",
       "      <td>40.757673</td>\n",
       "      <td>-73.978365</td>\n",
       "      <td>40.681223</td>\n",
       "      <td>1</td>\n",
       "      <td>0</td>\n",
       "      <td>10</td>\n",
       "      <td>21</td>\n",
       "      <td>4</td>\n",
       "    </tr>\n",
       "    <tr>\n",
       "      <th>15411061</th>\n",
       "      <td>2011-11-24 15:58:00.00000043</td>\n",
       "      <td>6.9</td>\n",
       "      <td>2011-11-24 15:58:00 UTC</td>\n",
       "      <td>-73.988232</td>\n",
       "      <td>40.774830</td>\n",
       "      <td>-74.007482</td>\n",
       "      <td>40.748277</td>\n",
       "      <td>5</td>\n",
       "      <td>3</td>\n",
       "      <td>11</td>\n",
       "      <td>15</td>\n",
       "      <td>4</td>\n",
       "    </tr>\n",
       "    <tr>\n",
       "      <th>5309206</th>\n",
       "      <td>2013-08-30 02:54:11.0000002</td>\n",
       "      <td>5.0</td>\n",
       "      <td>2013-08-30 02:54:11 UTC</td>\n",
       "      <td>-73.985224</td>\n",
       "      <td>40.764000</td>\n",
       "      <td>-73.988816</td>\n",
       "      <td>40.774231</td>\n",
       "      <td>1</td>\n",
       "      <td>4</td>\n",
       "      <td>8</td>\n",
       "      <td>2</td>\n",
       "      <td>3</td>\n",
       "    </tr>\n",
       "    <tr>\n",
       "      <th>51667330</th>\n",
       "      <td>2013-05-25 12:31:42.0000002</td>\n",
       "      <td>28.0</td>\n",
       "      <td>2013-05-25 12:31:42 UTC</td>\n",
       "      <td>-73.862983</td>\n",
       "      <td>40.769688</td>\n",
       "      <td>-73.935218</td>\n",
       "      <td>40.751296</td>\n",
       "      <td>1</td>\n",
       "      <td>5</td>\n",
       "      <td>5</td>\n",
       "      <td>12</td>\n",
       "      <td>2</td>\n",
       "    </tr>\n",
       "    <tr>\n",
       "      <th>4313160</th>\n",
       "      <td>2010-09-14 13:37:38.0000002</td>\n",
       "      <td>6.9</td>\n",
       "      <td>2010-09-14 13:37:38 UTC</td>\n",
       "      <td>-73.995088</td>\n",
       "      <td>40.744820</td>\n",
       "      <td>-73.927878</td>\n",
       "      <td>40.766397</td>\n",
       "      <td>1</td>\n",
       "      <td>1</td>\n",
       "      <td>9</td>\n",
       "      <td>13</td>\n",
       "      <td>4</td>\n",
       "    </tr>\n",
       "    <tr>\n",
       "      <th>45390950</th>\n",
       "      <td>2015-03-22 12:33:36.0000007</td>\n",
       "      <td>6.0</td>\n",
       "      <td>2015-03-22 12:33:36 UTC</td>\n",
       "      <td>-73.993393</td>\n",
       "      <td>40.747368</td>\n",
       "      <td>-74.003372</td>\n",
       "      <td>40.732471</td>\n",
       "      <td>1</td>\n",
       "      <td>6</td>\n",
       "      <td>3</td>\n",
       "      <td>12</td>\n",
       "      <td>2</td>\n",
       "    </tr>\n",
       "    <tr>\n",
       "      <th>35102211</th>\n",
       "      <td>2013-04-21 04:03:21.0000003</td>\n",
       "      <td>6.0</td>\n",
       "      <td>2013-04-21 04:03:21 UTC</td>\n",
       "      <td>-73.989877</td>\n",
       "      <td>40.762665</td>\n",
       "      <td>-74.004560</td>\n",
       "      <td>40.752278</td>\n",
       "      <td>1</td>\n",
       "      <td>6</td>\n",
       "      <td>4</td>\n",
       "      <td>4</td>\n",
       "      <td>2</td>\n",
       "    </tr>\n",
       "    <tr>\n",
       "      <th>33107133</th>\n",
       "      <td>2010-06-04 07:29:00.000000130</td>\n",
       "      <td>8.1</td>\n",
       "      <td>2010-06-04 07:29:00 UTC</td>\n",
       "      <td>-73.972613</td>\n",
       "      <td>40.752550</td>\n",
       "      <td>-73.984695</td>\n",
       "      <td>40.759230</td>\n",
       "      <td>2</td>\n",
       "      <td>4</td>\n",
       "      <td>6</td>\n",
       "      <td>7</td>\n",
       "      <td>3</td>\n",
       "    </tr>\n",
       "    <tr>\n",
       "      <th>183707</th>\n",
       "      <td>2015-04-21 03:50:29.0000001</td>\n",
       "      <td>10.0</td>\n",
       "      <td>2015-04-21 03:50:29 UTC</td>\n",
       "      <td>-73.987732</td>\n",
       "      <td>40.770042</td>\n",
       "      <td>-73.973274</td>\n",
       "      <td>40.750267</td>\n",
       "      <td>1</td>\n",
       "      <td>1</td>\n",
       "      <td>4</td>\n",
       "      <td>3</td>\n",
       "      <td>2</td>\n",
       "    </tr>\n",
       "    <tr>\n",
       "      <th>35551479</th>\n",
       "      <td>2015-01-16 15:39:28.0000006</td>\n",
       "      <td>17.5</td>\n",
       "      <td>2015-01-16 15:39:28 UTC</td>\n",
       "      <td>-74.005760</td>\n",
       "      <td>40.706829</td>\n",
       "      <td>-73.975044</td>\n",
       "      <td>40.752205</td>\n",
       "      <td>1</td>\n",
       "      <td>4</td>\n",
       "      <td>1</td>\n",
       "      <td>15</td>\n",
       "      <td>1</td>\n",
       "    </tr>\n",
       "    <tr>\n",
       "      <th>19761705</th>\n",
       "      <td>2009-08-01 10:49:00.00000057</td>\n",
       "      <td>5.3</td>\n",
       "      <td>2009-08-01 10:49:00 UTC</td>\n",
       "      <td>0.000000</td>\n",
       "      <td>0.000000</td>\n",
       "      <td>0.000000</td>\n",
       "      <td>0.000000</td>\n",
       "      <td>1</td>\n",
       "      <td>5</td>\n",
       "      <td>8</td>\n",
       "      <td>10</td>\n",
       "      <td>3</td>\n",
       "    </tr>\n",
       "    <tr>\n",
       "      <th>53119502</th>\n",
       "      <td>2011-05-21 13:22:15.0000004</td>\n",
       "      <td>6.9</td>\n",
       "      <td>2011-05-21 13:22:15 UTC</td>\n",
       "      <td>-73.960313</td>\n",
       "      <td>40.772716</td>\n",
       "      <td>-73.975431</td>\n",
       "      <td>40.761659</td>\n",
       "      <td>1</td>\n",
       "      <td>5</td>\n",
       "      <td>5</td>\n",
       "      <td>13</td>\n",
       "      <td>2</td>\n",
       "    </tr>\n",
       "    <tr>\n",
       "      <th>40381862</th>\n",
       "      <td>2010-04-24 14:08:41.0000003</td>\n",
       "      <td>6.9</td>\n",
       "      <td>2010-04-24 14:08:41 UTC</td>\n",
       "      <td>-73.977321</td>\n",
       "      <td>40.729357</td>\n",
       "      <td>-74.000710</td>\n",
       "      <td>40.725987</td>\n",
       "      <td>1</td>\n",
       "      <td>5</td>\n",
       "      <td>4</td>\n",
       "      <td>14</td>\n",
       "      <td>2</td>\n",
       "    </tr>\n",
       "    <tr>\n",
       "      <th>108989</th>\n",
       "      <td>2009-01-22 13:31:00.00000030</td>\n",
       "      <td>5.3</td>\n",
       "      <td>2009-01-22 13:31:00 UTC</td>\n",
       "      <td>-73.958212</td>\n",
       "      <td>40.768610</td>\n",
       "      <td>-73.958180</td>\n",
       "      <td>40.776415</td>\n",
       "      <td>1</td>\n",
       "      <td>3</td>\n",
       "      <td>1</td>\n",
       "      <td>13</td>\n",
       "      <td>1</td>\n",
       "    </tr>\n",
       "    <tr>\n",
       "      <th>16244810</th>\n",
       "      <td>2013-03-04 19:09:00.000000220</td>\n",
       "      <td>5.0</td>\n",
       "      <td>2013-03-04 19:09:00 UTC</td>\n",
       "      <td>-73.978135</td>\n",
       "      <td>40.752325</td>\n",
       "      <td>-73.989552</td>\n",
       "      <td>40.757675</td>\n",
       "      <td>1</td>\n",
       "      <td>0</td>\n",
       "      <td>3</td>\n",
       "      <td>19</td>\n",
       "      <td>2</td>\n",
       "    </tr>\n",
       "    <tr>\n",
       "      <th>1648414</th>\n",
       "      <td>2011-04-06 11:41:00.000000180</td>\n",
       "      <td>3.7</td>\n",
       "      <td>2011-04-06 11:41:00 UTC</td>\n",
       "      <td>-73.969387</td>\n",
       "      <td>40.762965</td>\n",
       "      <td>-73.964578</td>\n",
       "      <td>40.769247</td>\n",
       "      <td>1</td>\n",
       "      <td>2</td>\n",
       "      <td>4</td>\n",
       "      <td>11</td>\n",
       "      <td>2</td>\n",
       "    </tr>\n",
       "  </tbody>\n",
       "</table>\n",
       "</div>"
      ],
      "text/plain": [
       "                                    key  fare_amount          pickup_datetime  \\\n",
       "11886041    2012-11-18 20:54:38.0000001          7.5  2012-11-18 20:54:38 UTC   \n",
       "17052167    2012-01-09 15:30:20.0000004          5.3  2012-01-09 15:30:20 UTC   \n",
       "12419724    2011-03-23 09:23:58.0000007         11.3  2011-03-23 09:23:58 UTC   \n",
       "20207192   2014-11-11 13:30:00.00000055         19.5  2014-11-11 13:30:00 UTC   \n",
       "28407438    2010-07-24 10:21:09.0000002          8.1  2010-07-24 10:21:09 UTC   \n",
       "19632170    2011-10-02 16:24:21.0000001          3.7  2011-10-02 16:24:21 UTC   \n",
       "17911288  2014-10-28 09:03:00.000000204         26.5  2014-10-28 09:03:00 UTC   \n",
       "3731765     2014-09-12 12:44:00.0000006          4.5  2014-09-12 12:44:00 UTC   \n",
       "23790289  2010-01-12 06:55:00.000000108          4.9  2010-01-12 06:55:00 UTC   \n",
       "11397990  2011-03-15 08:27:00.000000109         14.5  2011-03-15 08:27:00 UTC   \n",
       "11268124   2009-11-12 10:47:00.00000015         14.9  2009-11-12 10:47:00 UTC   \n",
       "34343607    2010-12-29 20:25:00.0000002          6.9  2010-12-29 20:25:00 UTC   \n",
       "40196340   2011-08-27 08:48:00.00000015          9.7  2011-08-27 08:48:00 UTC   \n",
       "32987862    2010-07-06 23:22:03.0000004          4.5  2010-07-06 23:22:03 UTC   \n",
       "36724253   2010-10-18 21:15:00.00000048         20.5  2010-10-18 21:15:00 UTC   \n",
       "15411061   2011-11-24 15:58:00.00000043          6.9  2011-11-24 15:58:00 UTC   \n",
       "5309206     2013-08-30 02:54:11.0000002          5.0  2013-08-30 02:54:11 UTC   \n",
       "51667330    2013-05-25 12:31:42.0000002         28.0  2013-05-25 12:31:42 UTC   \n",
       "4313160     2010-09-14 13:37:38.0000002          6.9  2010-09-14 13:37:38 UTC   \n",
       "45390950    2015-03-22 12:33:36.0000007          6.0  2015-03-22 12:33:36 UTC   \n",
       "35102211    2013-04-21 04:03:21.0000003          6.0  2013-04-21 04:03:21 UTC   \n",
       "33107133  2010-06-04 07:29:00.000000130          8.1  2010-06-04 07:29:00 UTC   \n",
       "183707      2015-04-21 03:50:29.0000001         10.0  2015-04-21 03:50:29 UTC   \n",
       "35551479    2015-01-16 15:39:28.0000006         17.5  2015-01-16 15:39:28 UTC   \n",
       "19761705   2009-08-01 10:49:00.00000057          5.3  2009-08-01 10:49:00 UTC   \n",
       "53119502    2011-05-21 13:22:15.0000004          6.9  2011-05-21 13:22:15 UTC   \n",
       "40381862    2010-04-24 14:08:41.0000003          6.9  2010-04-24 14:08:41 UTC   \n",
       "108989     2009-01-22 13:31:00.00000030          5.3  2009-01-22 13:31:00 UTC   \n",
       "16244810  2013-03-04 19:09:00.000000220          5.0  2013-03-04 19:09:00 UTC   \n",
       "1648414   2011-04-06 11:41:00.000000180          3.7  2011-04-06 11:41:00 UTC   \n",
       "\n",
       "          pickup_longitude  pickup_latitude  dropoff_longitude  \\\n",
       "11886041        -73.954095        40.778957         -73.975145   \n",
       "17052167        -73.967784        40.766136         -73.966803   \n",
       "12419724        -73.978274        40.772913         -73.969596   \n",
       "20207192        -73.979825        40.781135         -73.969740   \n",
       "28407438        -73.985113        40.763529         -73.955920   \n",
       "19632170        -73.978763        40.767064         -73.982283   \n",
       "17911288        -73.971180        40.797897         -74.004782   \n",
       "3731765         -73.982310        40.745707         -73.976363   \n",
       "23790289        -73.982347        40.762268         -73.992052   \n",
       "11397990        -73.988073        40.737757         -73.976992   \n",
       "11268124        -73.990493        40.731312         -73.978147   \n",
       "34343607        -73.992620        40.744733         -74.002588   \n",
       "40196340        -73.991828        40.684722         -73.991938   \n",
       "32987862        -73.953721        40.775157         -73.963574   \n",
       "36724253        -73.966225        40.757673         -73.978365   \n",
       "15411061        -73.988232        40.774830         -74.007482   \n",
       "5309206         -73.985224        40.764000         -73.988816   \n",
       "51667330        -73.862983        40.769688         -73.935218   \n",
       "4313160         -73.995088        40.744820         -73.927878   \n",
       "45390950        -73.993393        40.747368         -74.003372   \n",
       "35102211        -73.989877        40.762665         -74.004560   \n",
       "33107133        -73.972613        40.752550         -73.984695   \n",
       "183707          -73.987732        40.770042         -73.973274   \n",
       "35551479        -74.005760        40.706829         -73.975044   \n",
       "19761705          0.000000         0.000000           0.000000   \n",
       "53119502        -73.960313        40.772716         -73.975431   \n",
       "40381862        -73.977321        40.729357         -74.000710   \n",
       "108989          -73.958212        40.768610         -73.958180   \n",
       "16244810        -73.978135        40.752325         -73.989552   \n",
       "1648414         -73.969387        40.762965         -73.964578   \n",
       "\n",
       "          dropoff_latitude  passenger_count  pickup_day_of_week  month  \\\n",
       "11886041         40.790077                1                   6     11   \n",
       "17052167         40.757162                1                   0      1   \n",
       "12419724         40.750906                1                   2      3   \n",
       "20207192         40.762002                1                   1     11   \n",
       "28407438         40.774805                1                   5      7   \n",
       "19632170         40.770982                2                   6     10   \n",
       "17911288         40.721530                1                   1     10   \n",
       "3731765          40.753517                1                   4      9   \n",
       "23790289         40.749220                1                   1      1   \n",
       "11397990         40.788532                1                   1      3   \n",
       "11268124         40.751562                1                   3     11   \n",
       "34343607         40.734182                1                   2     12   \n",
       "40196340         40.711077                5                   5      8   \n",
       "32987862         40.774386                2                   1      7   \n",
       "36724253         40.681223                1                   0     10   \n",
       "15411061         40.748277                5                   3     11   \n",
       "5309206          40.774231                1                   4      8   \n",
       "51667330         40.751296                1                   5      5   \n",
       "4313160          40.766397                1                   1      9   \n",
       "45390950         40.732471                1                   6      3   \n",
       "35102211         40.752278                1                   6      4   \n",
       "33107133         40.759230                2                   4      6   \n",
       "183707           40.750267                1                   1      4   \n",
       "35551479         40.752205                1                   4      1   \n",
       "19761705          0.000000                1                   5      8   \n",
       "53119502         40.761659                1                   5      5   \n",
       "40381862         40.725987                1                   5      4   \n",
       "108989           40.776415                1                   3      1   \n",
       "16244810         40.757675                1                   0      3   \n",
       "1648414          40.769247                1                   2      4   \n",
       "\n",
       "          hour_in_seconds  season  \n",
       "11886041               20       4  \n",
       "17052167               15       1  \n",
       "12419724                9       2  \n",
       "20207192               13       4  \n",
       "28407438               10       3  \n",
       "19632170               16       4  \n",
       "17911288                9       4  \n",
       "3731765                12       4  \n",
       "23790289                6       1  \n",
       "11397990                8       2  \n",
       "11268124               10       4  \n",
       "34343607               20       1  \n",
       "40196340                8       3  \n",
       "32987862               23       3  \n",
       "36724253               21       4  \n",
       "15411061               15       4  \n",
       "5309206                 2       3  \n",
       "51667330               12       2  \n",
       "4313160                13       4  \n",
       "45390950               12       2  \n",
       "35102211                4       2  \n",
       "33107133                7       3  \n",
       "183707                  3       2  \n",
       "35551479               15       1  \n",
       "19761705               10       3  \n",
       "53119502               13       2  \n",
       "40381862               14       2  \n",
       "108989                 13       1  \n",
       "16244810               19       2  \n",
       "1648414                11       2  "
      ]
     },
     "execution_count": 11,
     "metadata": {},
     "output_type": "execute_result"
    }
   ],
   "source": [
    "s_df.head(30)"
   ]
  },
  {
   "cell_type": "markdown",
   "metadata": {},
   "source": [
    "### Fare Amount Histogram"
   ]
  },
  {
   "cell_type": "code",
   "execution_count": 20,
   "metadata": {},
   "outputs": [],
   "source": [
    "%matplotlib inline"
   ]
  },
  {
   "cell_type": "code",
   "execution_count": 21,
   "metadata": {},
   "outputs": [
    {
     "name": "stderr",
     "output_type": "stream",
     "text": [
      "C:\\Users\\Hen\\Anaconda3\\lib\\site-packages\\matplotlib\\axes\\_axes.py:6462: UserWarning: The 'normed' kwarg is deprecated, and has been replaced by the 'density' kwarg.\n",
      "  warnings.warn(\"The 'normed' kwarg is deprecated, and has been \"\n"
     ]
    },
    {
     "data": {
      "text/plain": [
       "<matplotlib.axes._subplots.AxesSubplot at 0x1a7cc9095f8>"
      ]
     },
     "execution_count": 21,
     "metadata": {},
     "output_type": "execute_result"
    },
    {
     "data": {
      "image/png": "[encoded data removed]",
      "text/plain": [
       "<Figure size 432x288 with 1 Axes>"
      ]
     },
     "metadata": {},
     "output_type": "display_data"
    }
   ],
   "source": [
    "# Plot without limitations\n",
    "sns.distplot(s_df.fare_amount, bins = 25, kde = False , hist_kws=dict(edgecolor=\"k\", linewidth=2))"
   ]
  },
  {
   "cell_type": "code",
   "execution_count": 22,
   "metadata": {},
   "outputs": [
    {
     "name": "stderr",
     "output_type": "stream",
     "text": [
      "C:\\Users\\Hen\\Anaconda3\\lib\\site-packages\\matplotlib\\axes\\_axes.py:6462: UserWarning: The 'normed' kwarg is deprecated, and has been replaced by the 'density' kwarg.\n",
      "  warnings.warn(\"The 'normed' kwarg is deprecated, and has been \"\n"
     ]
    },
    {
     "data": {
      "text/plain": [
       "<matplotlib.axes._subplots.AxesSubplot at 0x1a7cccd8da0>"
      ]
     },
     "execution_count": 22,
     "metadata": {},
     "output_type": "execute_result"
    },
    {
     "data": {
      "image/png": "[encoded data removed]",
      "text/plain": [
       "<Figure size 432x288 with 1 Axes>"
      ]
     },
     "metadata": {},
     "output_type": "display_data"
    }
   ],
   "source": [
    "# 0 < fare amount < 60\n",
    "data_fare = s_df[s_df['fare_amount'] < 60]\n",
    "data_fare = data_fare[data_fare['fare_amount'] > 0]\n",
    "sns.distplot(data_fare.fare_amount, bins = 25, kde = False , hist_kws=dict(edgecolor=\"k\", linewidth=2))"
   ]
  },
  {
   "cell_type": "markdown",
   "metadata": {},
   "source": [
    "### Passenger Count vs Fare Amount"
   ]
  },
  {
   "cell_type": "code",
   "execution_count": 23,
   "metadata": {},
   "outputs": [
    {
     "data": {
      "text/plain": [
       "<matplotlib.axes._subplots.AxesSubplot at 0x1a7ccbd7da0>"
      ]
     },
     "execution_count": 23,
     "metadata": {},
     "output_type": "execute_result"
    },
    {
     "data": {
      "image/png": "[encoded data removed]",
      "text/plain": [
       "<Figure size 432x288 with 1 Axes>"
      ]
     },
     "metadata": {},
     "output_type": "display_data"
    }
   ],
   "source": [
    "sns.regplot(x = 'passenger_count',y = 'fare_amount', data = s_df)"
   ]
  },
  {
   "cell_type": "code",
   "execution_count": 34,
   "metadata": {},
   "outputs": [
    {
     "data": {
      "text/plain": [
       "<matplotlib.axes._subplots.AxesSubplot at 0x1aa70912470>"
      ]
     },
     "execution_count": 34,
     "metadata": {},
     "output_type": "execute_result"
    },
    {
     "data": {
      "image/png": "[encoded data removed]",
      "text/plain": [
       "<Figure size 432x288 with 1 Axes>"
      ]
     },
     "metadata": {},
     "output_type": "display_data"
    }
   ],
   "source": [
    "# 0 < passenger count < 6\n",
    "data_pass_count = s_df[s_df['passenger_count'] < 6]\n",
    "data_pass_count = data_pass_count[data_pass_count['passenger_count'] > 0]\n",
    "sns.regplot(x = 'passenger_count',y = 'fare_amount', data = data_pass_count)"
   ]
  },
  {
   "cell_type": "code",
   "execution_count": 24,
   "metadata": {},
   "outputs": [
    {
     "data": {
      "text/plain": [
       "fare_amount    AxesSubplot(0.1,0.15;0.8x0.75)\n",
       "dtype: object"
      ]
     },
     "execution_count": 24,
     "metadata": {},
     "output_type": "execute_result"
    },
    {
     "data": {
      "image/png": "[encoded data removed]",
      "text/plain": [
       "<Figure size 432x288 with 1 Axes>"
      ]
     },
     "metadata": {},
     "output_type": "display_data"
    }
   ],
   "source": [
    "s_df[['passenger_count','fare_amount']].boxplot(by='passenger_count', return_type = 'axes')"
   ]
  },
  {
   "cell_type": "code",
   "execution_count": 25,
   "metadata": {},
   "outputs": [
    {
     "data": {
      "image/png": "[encoded data removed]",
      "text/plain": [
       "<Figure size 432x288 with 1 Axes>"
      ]
     },
     "metadata": {},
     "output_type": "display_data"
    }
   ],
   "source": [
    "sns.set_style(\"whitegrid\")\n",
    "fareData = s_df[s_df['fare_amount'] < 200 ]\n",
    "fareData = fareData[fareData['fare_amount'] > 0 ]\n",
    "ax = sns.boxplot(x=\"passenger_count\", y=\"fare_amount\", data=fareData)"
   ]
  },
  {
   "cell_type": "markdown",
   "metadata": {},
   "source": [
    "### Season vs Fare Amount"
   ]
  },
  {
   "cell_type": "code",
   "execution_count": 26,
   "metadata": {},
   "outputs": [
    {
     "data": {
      "text/plain": [
       "fare_amount    AxesSubplot(0.1,0.15;0.8x0.75)\n",
       "dtype: object"
      ]
     },
     "execution_count": 26,
     "metadata": {},
     "output_type": "execute_result"
    },
    {
     "data": {
      "image/png": "[encoded data removed]",
      "text/plain": [
       "<Figure size 432x288 with 1 Axes>"
      ]
     },
     "metadata": {},
     "output_type": "display_data"
    }
   ],
   "source": [
    "data_fare[['season','fare_amount']].boxplot(by='season', return_type = 'axes')"
   ]
  },
  {
   "cell_type": "markdown",
   "metadata": {},
   "source": [
    "### Month vs Fare Amount"
   ]
  },
  {
   "cell_type": "code",
   "execution_count": 27,
   "metadata": {},
   "outputs": [
    {
     "name": "stdout",
     "output_type": "stream",
     "text": [
      "Month and fare \n",
      "Month: 6, Mean Fare 11.59286365814726\n",
      "Month: 10, Mean Fare 11.593383406971368\n",
      "Month: 1, Mean Fare 10.711819986494662\n",
      "Month: 3, Mean Fare 11.180873590175132\n",
      "Month: 2, Mean Fare 10.874905749455129\n",
      "Month: 12, Mean Fare 11.554020492343797\n",
      "Month: 11, Mean Fare 11.532345556625193\n",
      "Month: 5, Mean Fare 11.628708151160748\n",
      "Month: 9, Mean Fare 11.741544557826334\n",
      "Month: 7, Mean Fare 11.120266976592731\n",
      "Month: 4, Mean Fare 11.322736900736967\n",
      "Month: 8, Mean Fare 11.190919382194188\n"
     ]
    }
   ],
   "source": [
    "print('Month and fare ')\n",
    "for month in s_df['month'].unique():\n",
    "    fare = s_df[s_df['month'] == month].fare_amount\n",
    "    print('Month: {0}, Mean Fare {1}'.format(month,fare.mean()))\n",
    "    #print(trip_dist.describe())"
   ]
  },
  {
   "cell_type": "markdown",
   "metadata": {},
   "source": [
    "### Day of the Week vs Fare Amount"
   ]
  },
  {
   "cell_type": "code",
   "execution_count": 28,
   "metadata": {},
   "outputs": [
    {
     "data": {
      "text/plain": [
       "fare_amount    AxesSubplot(0.1,0.15;0.8x0.75)\n",
       "dtype: object"
      ]
     },
     "execution_count": 28,
     "metadata": {},
     "output_type": "execute_result"
    },
    {
     "data": {
      "image/png": "[encoded data removed]",
      "text/plain": [
       "<Figure size 432x288 with 1 Axes>"
      ]
     },
     "metadata": {},
     "output_type": "display_data"
    }
   ],
   "source": [
    "fareData[['pickup_day_of_week','fare_amount']].boxplot(by='pickup_day_of_week', return_type = 'axes')"
   ]
  },
  {
   "cell_type": "code",
   "execution_count": 31,
   "metadata": {},
   "outputs": [
    {
     "name": "stdout",
     "output_type": "stream",
     "text": [
      "Day of the week and fare amount\n",
      "Day of the week: 3, Mean Fare 11.457842364057722\n",
      "Day of the week: 1, Mean Fare 11.197732925818187\n",
      "Day of the week: 0, Mean Fare 11.32395569834378\n",
      "Day of the week: 6, Mean Fare 11.65154136559071\n",
      "Day of the week: 5, Mean Fare 10.985575257810716\n",
      "Day of the week: 4, Mean Fare 11.431419388742162\n",
      "Day of the week: 2, Mean Fare 11.318434389590236\n"
     ]
    }
   ],
   "source": [
    "print('Day of the week and fare amount')\n",
    "for day in s_df['pickup_day_of_week'].unique():\n",
    "    fare = s_df[s_df['pickup_day_of_week'] == day].fare_amount\n",
    "    print('Day of the week: {0}, Mean Fare {1}'.format(day,fare.mean()))"
   ]
  },
  {
   "cell_type": "markdown",
   "metadata": {},
   "source": [
    "### Hour of the Day vs Fare Amount"
   ]
  },
  {
   "cell_type": "code",
   "execution_count": 29,
   "metadata": {},
   "outputs": [
    {
     "data": {
      "text/plain": [
       "fare_amount    AxesSubplot(0.1,0.15;0.8x0.75)\n",
       "dtype: object"
      ]
     },
     "execution_count": 29,
     "metadata": {},
     "output_type": "execute_result"
    },
    {
     "data": {
      "image/png": "[encoded data removed]",
      "text/plain": [
       "<Figure size 432x288 with 1 Axes>"
      ]
     },
     "metadata": {},
     "output_type": "display_data"
    }
   ],
   "source": [
    "fareData[['hour_in_seconds','fare_amount']].boxplot(by='hour_in_seconds', return_type = 'axes')"
   ]
  },
  {
   "cell_type": "code",
   "execution_count": 33,
   "metadata": {},
   "outputs": [
    {
     "name": "stdout",
     "output_type": "stream",
     "text": [
      "hour and fare amount\n",
      "Hour: 11, Mean Fare 11.096972926715216\n",
      "Hour: 20, Mean Fare 10.714705586619388\n",
      "Hour: 9, Mean Fare 10.90935040464564\n",
      "Hour: 21, Mean Fare 11.039292211947298\n",
      "Hour: 6, Mean Fare 12.088229666760718\n",
      "Hour: 15, Mean Fare 11.994641302716337\n",
      "Hour: 13, Mean Fare 11.48702257754063\n",
      "Hour: 8, Mean Fare 10.88170346402736\n",
      "Hour: 14, Mean Fare 11.82635495611194\n",
      "Hour: 10, Mean Fare 10.93086621690415\n",
      "Hour: 12, Mean Fare 11.140054336652032\n",
      "Hour: 19, Mean Fare 10.53101137756379\n",
      "Hour: 16, Mean Fare 12.023070753565452\n",
      "Hour: 18, Mean Fare 10.90414032001526\n",
      "Hour: 22, Mean Fare 11.361311869293637\n",
      "Hour: 7, Mean Fare 10.994519433924594\n",
      "Hour: 17, Mean Fare 11.484451276236832\n",
      "Hour: 0, Mean Fare 11.727687750287904\n",
      "Hour: 3, Mean Fare 11.775886572820786\n",
      "Hour: 23, Mean Fare 11.640325616854023\n",
      "Hour: 1, Mean Fare 11.319757875231682\n",
      "Hour: 2, Mean Fare 11.457497705820634\n",
      "Hour: 4, Mean Fare 13.619790175567369\n",
      "Hour: 5, Mean Fare 15.050134886120672\n"
     ]
    }
   ],
   "source": [
    "print('hour and fare amount')\n",
    "for hour in s_df['hour_in_seconds'].unique():\n",
    "    fare = s_df[s_df['hour_in_seconds'] == hour].fare_amount\n",
    "    print('Hour: {0}, Mean Fare {1}'.format(hour,fare.mean()))"
   ]
  },
  {
   "cell_type": "markdown",
   "metadata": {},
   "source": [
    "## Correlations"
   ]
  },
  {
   "cell_type": "code",
   "execution_count": null,
   "metadata": {},
   "outputs": [],
   "source": []
  },
  {
   "cell_type": "code",
   "execution_count": 15,
   "metadata": {},
   "outputs": [
    {
     "name": "stdout",
     "output_type": "stream",
     "text": [
      "Correlations:\n",
      "Column Name: hour_in_seconds, Pearson -0.019305810076798\n",
      "Column Name: month, Pearson 0.023318472366817375\n",
      "Column Name: pickup_day_of_week, Pearson 0.007292070758918055\n",
      "Column Name: season, Pearson 0.02076904979565973\n",
      "Column Name: pickup_longitude, Pearson 0.013311817327598053\n",
      "Column Name: pickup_latitude, Pearson -0.014460537746507268\n",
      "Column Name: dropoff_longitude, Pearson 0.017010396046213384\n",
      "Column Name: dropoff_latitude, Pearson -0.01637589672041296\n",
      "Column Name: passenger_count, Pearson 0.013978245494456223\n"
     ]
    }
   ],
   "source": [
    "print('Correlations:')\n",
    "columns = ['hour_in_seconds','month','pickup_day_of_week','season','pickup_longitude','pickup_latitude','dropoff_longitude','dropoff_latitude','passenger_count']\n",
    "for col_name in columns:\n",
    "    corr = s_df['fare_amount'].corr(s_df[col_name])\n",
    "    print('Column Name: {0}, Pearson {1}'.format(col_name,corr))\n"
   ]
  },
  {
   "cell_type": "markdown",
   "metadata": {},
   "source": [
    "## Object Types to Float"
   ]
  },
  {
   "cell_type": "code",
   "execution_count": null,
   "metadata": {},
   "outputs": [],
   "source": [
    "###################### takes a lot of time! #######################\n",
    "df['pickup_day_of_week'] = pd.to_datetime(df['pickup_datetime']).dt.dayofweek\n",
    "df['pickup_day_of_month'] = pd.to_datetime(df['pickup_datetime']).dt.day\n",
    "df['year'] = pd.to_datetime(df['pickup_datetime']).dt.year\n",
    "df['month'] =  pd.to_datetime(df['pickup_datetime']).dt.month\n",
    "\n",
    "#adding season column\n",
    "#(4)Fall: September, October, November\n",
    "#(1) Winter: December, January, February\n",
    "#(2)Spring: March, April, May\n",
    "#(3)Summer: June, July, August\n",
    "\n",
    "df['season'] = (df['month']%12 + 3)//3"
   ]
  },
  {
   "cell_type": "code",
   "execution_count": null,
   "metadata": {},
   "outputs": [],
   "source": [
    "def to_seconds(s): \n",
    "    hr, mn, sec = [float(x) for x in s.str.split(':')] \n",
    "    return hr*3600 + mn*60 + sec\n",
    "\n",
    "df['hour_in_seconds'] =  to_seconds(pd.to_datetime(df['pickup_datetime']).dt.hour)"
   ]
  },
  {
   "cell_type": "code",
   "execution_count": null,
   "metadata": {},
   "outputs": [],
   "source": [
    "df.head(25)"
   ]
  },
  {
   "cell_type": "code",
   "execution_count": 16,
   "metadata": {},
   "outputs": [
    {
     "data": {
      "text/plain": [
       "array([1, 2, 3, 4], dtype=int64)"
      ]
     },
     "execution_count": 16,
     "metadata": {},
     "output_type": "execute_result"
    }
   ],
   "source": [
    "df['season'].unique()"
   ]
  },
  {
   "cell_type": "code",
   "execution_count": null,
   "metadata": {},
   "outputs": [],
   "source": [
    "df['year'].unique()"
   ]
  },
  {
   "cell_type": "code",
   "execution_count": null,
   "metadata": {},
   "outputs": [],
   "source": [
    "# removing timestamp\n",
    "df.drop(['pickup_datetime'], axis=1,inplace = True)"
   ]
  },
  {
   "cell_type": "code",
   "execution_count": 43,
   "metadata": {},
   "outputs": [
    {
     "data": {
      "text/plain": [
       "Index(['DOLocationID', 'PULocationID', 'RatecodeID', 'VendorID', 'extra',\n",
       "       'fare_amount', 'improvement_surcharge', 'mta_tax', 'passenger_count',\n",
       "       'payment_type', 'store_and_fwd_flag', 'tip_amount', 'tolls_amount',\n",
       "       'total_amount', 'tpep_dropoff_datetime', 'tpep_pickup_datetime',\n",
       "       'trip_distance', 'type', 'pickup_day_of_week', 'dropoff_day_of_week',\n",
       "       'month', 'hour', 'season', 'Distance_Bins'],\n",
       "      dtype='object')"
      ]
     },
     "execution_count": 43,
     "metadata": {},
     "output_type": "execute_result"
    }
   ],
   "source": [
    "df.columns"
   ]
  },
  {
   "cell_type": "markdown",
   "metadata": {},
   "source": [
    "df.dtypes"
   ]
  },
  {
   "cell_type": "markdown",
   "metadata": {},
   "source": [
    "## Data Cleaning"
   ]
  },
  {
   "cell_type": "code",
   "execution_count": null,
   "metadata": {},
   "outputs": [],
   "source": [
    "np.sum(train_data.isnull())"
   ]
  },
  {
   "cell_type": "code",
   "execution_count": null,
   "metadata": {},
   "outputs": [],
   "source": [
    "# clear negative or 0-priced rides\n",
    "df = df[df['fare_amount']>0]"
   ]
  },
  {
   "cell_type": "markdown",
   "metadata": {},
   "source": [
    "## Split to Train, Validation and Test Sets"
   ]
  },
  {
   "cell_type": "code",
   "execution_count": null,
   "metadata": {},
   "outputs": [],
   "source": [
    "# Split to total train set and test\n",
    "msk = np.random.rand(len(df)) < 0.8\n",
    "total_train_data = df[msk]\n",
    "test_data = df[~msk]\n",
    "\n",
    "# Split total train to train and validation set\n",
    "msk = np.random.rand(len(total_train_data)) < 0.8\n",
    "train_data = total_train_data[msk]\n",
    "validation_data = total_train_data[~msk]"
   ]
  },
  {
   "cell_type": "code",
   "execution_count": null,
   "metadata": {},
   "outputs": [],
   "source": [
    "# save files\n",
    "File_Path = r'C:/Users/Hen/workshop/kaggle_dateset'\n",
    "# Save train data\n",
    "Train_File_Name = 'Taxi_Train_Data_Set.csv'\n",
    "New_File_Path = os.path.join(File_Path, Train_File_Name)\n",
    "train_data.to_csv(New_File_Path)\n",
    "\n",
    "# Save validation data\n",
    "Validation_File_Name = 'Taxi_validation_Data_Set.csv'\n",
    "New_File_Path = os.path.join(File_Path, Validation_File_Name)\n",
    "validation_data.to_csv(New_File_Path)\n",
    "\n",
    "# Save test data\n",
    "Test_File_Name = 'Taxi_Test_Data_Set.csv'\n",
    "New_File_Path = os.path.join(File_Path, Test_File_Name)\n",
    "test_data.to_csv(New_File_Path)"
   ]
  },
  {
   "cell_type": "markdown",
   "metadata": {},
   "source": [
    "# Model"
   ]
  },
  {
   "cell_type": "code",
   "execution_count": 86,
   "metadata": {},
   "outputs": [
    {
     "name": "stdout",
     "output_type": "stream",
     "text": [
      "0.02844895337012765\n"
     ]
    }
   ],
   "source": [
    "from sklearn.linear_model import LinearRegression\n",
    "train_data.columns\n",
    "Y_Label = train_data['fare_amount']\n",
    "X_Label = train_data.drop(['fare_amount'], axis=1)\n",
    "\n",
    "model = LinearRegression()\n",
    "model.fit(X_Label,Y_Label)\n",
    "print(model.score(X_Label,Y_Label))"
   ]
  },
  {
   "cell_type": "code",
   "execution_count": 41,
   "metadata": {},
   "outputs": [
    {
     "name": "stderr",
     "output_type": "stream",
     "text": [
      "C:\\Users\\DELL\\Anaconda3\\lib\\site-packages\\ipykernel_launcher.py:1: FutureWarning: reshape is deprecated and will raise in a subsequent release. Please use .values.reshape(...) instead\n",
      "  \"\"\"Entry point for launching an IPython kernel.\n"
     ]
    },
    {
     "data": {
      "text/plain": [
       "LinearRegression(copy_X=True, fit_intercept=True, n_jobs=1, normalize=False)"
      ]
     },
     "execution_count": 41,
     "metadata": {},
     "output_type": "execute_result"
    }
   ],
   "source": [
    "X_Label_Distance = train_data['trip_distance'].reshape(-1,1)\n",
    "Y_Label = train_data['payment_amount']\n",
    "model_distance = LinearRegression()\n",
    "model_distance.fit(X_Label_Distance,Y_Label)"
   ]
  },
  {
   "cell_type": "markdown",
   "metadata": {},
   "source": [
    "## Evaluate Results"
   ]
  },
  {
   "cell_type": "code",
   "execution_count": 87,
   "metadata": {},
   "outputs": [
    {
     "name": "stderr",
     "output_type": "stream",
     "text": [
      "C:\\Users\\DELL\\Anaconda3\\lib\\site-packages\\ipykernel_launcher.py:2: SettingWithCopyWarning: \n",
      "A value is trying to be set on a copy of a slice from a DataFrame.\n",
      "Try using .loc[row_indexer,col_indexer] = value instead\n",
      "\n",
      "See the caveats in the documentation: http://pandas.pydata.org/pandas-docs/stable/indexing.html#indexing-view-versus-copy\n",
      "  \n",
      "C:\\Users\\DELL\\Anaconda3\\lib\\site-packages\\ipykernel_launcher.py:3: SettingWithCopyWarning: \n",
      "A value is trying to be set on a copy of a slice from a DataFrame.\n",
      "Try using .loc[row_indexer,col_indexer] = value instead\n",
      "\n",
      "See the caveats in the documentation: http://pandas.pydata.org/pandas-docs/stable/indexing.html#indexing-view-versus-copy\n",
      "  This is separate from the ipykernel package so we can avoid doing imports until\n"
     ]
    }
   ],
   "source": [
    "from sklearn import metrics\n",
    "validation_class = test_data['fare_amount']\n",
    "expected = validation_class.values\n",
    "#oh_test_data= validation_data.drop(['fare_amount','total_amount','type', 'tpep_pickup_datetime', 'tpep_dropoff_datetime','store_and_fwd_flag','payment_amount'], axis=1)\n",
    "oh_test_data= test_data.drop(['fare_amount'], axis=1)\n",
    "predicted = model.predict(oh_test_data)\n",
    "\n",
    "#predicted_probs = model.predict_proba(oh_test_data)"
   ]
  },
  {
   "cell_type": "code",
   "execution_count": 88,
   "metadata": {},
   "outputs": [
    {
     "name": "stdout",
     "output_type": "stream",
     "text": [
      "6.296923087610422\n"
     ]
    }
   ],
   "source": [
    "from sklearn.metrics import mean_squared_error\n",
    "from math import sqrt\n",
    "\n",
    "rms = sqrt(mean_squared_error(expected, predicted))\n",
    "print(rms)"
   ]
  },
  {
   "cell_type": "code",
   "execution_count": null,
   "metadata": {},
   "outputs": [],
   "source": []
  },
  {
   "cell_type": "code",
   "execution_count": null,
   "metadata": {},
   "outputs": [],
   "source": []
  }
 ],
 "metadata": {
  "kernelspec": {
   "display_name": "Python 3",
   "language": "python",
   "name": "python3"
  },
  "language_info": {
   "codemirror_mode": {
    "name": "ipython",
    "version": 3
   },
   "file_extension": ".py",
   "mimetype": "text/x-python",
   "name": "python",
   "nbconvert_exporter": "python",
   "pygments_lexer": "ipython3",
   "version": "3.6.5"
  }
 },
 "nbformat": 4,
 "nbformat_minor": 2
}
